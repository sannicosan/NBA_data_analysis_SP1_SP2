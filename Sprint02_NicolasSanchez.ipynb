{
 "cells": [
  {
   "cell_type": "markdown",
   "id": "26833503",
   "metadata": {
    "id": "3d08028c-be52-4d84-a995-34b690c3e8a5"
   },
   "source": [
    "# AnyoneAI - Project II\n",
    "\n",
    "# Making Predictions with NBA data"
   ]
  },
  {
   "cell_type": "markdown",
   "id": "c19d6504",
   "metadata": {
    "id": "4ff2f3cb-7e1a-4705-bce7-44a56c0113e1"
   },
   "source": [
    "In our first project, we learned how to create our own datasets by using a public API, Python and Pandas. We're now going to explore how to make predictive models for regression and classification tasks using the Scikit Learn library"
   ]
  },
  {
   "cell_type": "markdown",
   "id": "055e89a5",
   "metadata": {
    "id": "5b732b5b-8fcc-4917-85a1-035bfc00a7dd"
   },
   "source": [
    "The goals of this project are:\n",
    "- Learn how to define a prediction task\n",
    "- Selecting evaluation metrics and baseline models\n",
    "- Perform feature engineering and standarization\n",
    "- Training and using predictive models: Univariable and Multivariate Linear Regression, Classification\n",
    "- Understand how Gradient Descent works by implementing a Linear Regressor in python"
   ]
  },
  {
   "cell_type": "markdown",
   "id": "1d848c05",
   "metadata": {
    "id": "73bd1212-887d-4b10-a277-30156aaf410b",
    "tags": []
   },
   "source": [
    "## 1. Using Regression Models to Estimate players Salaries"
   ]
  },
  {
   "cell_type": "markdown",
   "id": "a690f42f",
   "metadata": {
    "id": "e51670c9-30ec-4dcf-b3f4-e5ba90019818"
   },
   "source": [
    "A player's salary can be explained by a lot of factors: \n",
    "\n",
    "- Years in the league: NBA contracts are limited in price, players have caps on how much money they make depending on their years playing in the league\n",
    "- Age: Highly correlated to the previous one, NBA players have a minimun age of 19 years\n",
    "- Draft position: players out of USA universities are selected each year through a process called draft, in which each team selects a player in a predefined order for 2 rounds (meaning only 60 players are drafted each year). A rookie contract value depends on the draft position. (Undrafted players have to negotiate a salary independently)\n",
    "- Performance in statistical categories: after the rookie contract, players can negotiate freely with teams, and usually statistical categories like points, rebounds and assists are extremely important.  \n",
    "- Team: Even though there are limits to what all teams can expend in players salary, they all allocate their resources differently, and can be more willing to pay the penalties incurred by exceeding those limitations.\n",
    "- Year in which the contract was signed: the mininum and maximum values of contracts possibles in the NBA changes depending on league revenue (television contracts, sponsorships, etc), so if the amount of money the teams make increases, players can negotiate bigger contracts.\n",
    "- Intangibles: players can be valued also in things that are not easily translated to a statistic, good defensive players might not always have great stats but can be extremely important for a team, the same can be said about veteran players that help young ones to learn and are good locker-room guys.\n",
    "\n",
    "But we're going to take a simplified approach, we'll try to use the data we already have to make the best estimator possible, and then we will analyze what went right and what could've gone wrong with our results."
   ]
  },
  {
   "cell_type": "markdown",
   "id": "580ce54c",
   "metadata": {
    "id": "6f110fec-8919-4427-89f7-b3e581176703"
   },
   "source": [
    "## EDA \n",
    "### Analyzing our data"
   ]
  },
  {
   "cell_type": "code",
   "execution_count": 3,
   "id": "74b46c23",
   "metadata": {
    "executionInfo": {
     "elapsed": 1191,
     "status": "ok",
     "timestamp": 1663855518671,
     "user": {
      "displayName": "Nicolás Sánchez",
      "userId": "02759807036838794283"
     },
     "user_tz": 240
    },
    "id": "bafda55f-4831-49e4-abf6-cb8b2faf16ac",
    "vscode": {
     "languageId": "python"
    }
   },
   "outputs": [],
   "source": [
    "# Data processing\n",
    "#-----------------------\n",
    "import pandas as pd\n",
    "import numpy as np\n",
    "\n",
    "#Visualization\n",
    "#-----------------------\n",
    "import matplotlib.pyplot as plt\n",
    "import seaborn as sns\n",
    "from matplotlib.cm import get_cmap\n",
    "\n",
    "# Machine learning\n",
    "#-----------------------\n",
    "from sklearn.model_selection import train_test_split\n",
    "from sklearn.preprocessing import RobustScaler, robust_scale\n",
    "from sklearn.linear_model import SGDRegressor, LogisticRegression\n",
    "from sklearn.pipeline import make_pipeline\n",
    "from sklearn.tree import DecisionTreeRegressor\n",
    "from sklearn.metrics import mean_absolute_error as MAE,accuracy_score,precision_score,recall_score, f1_score,confusion_matrix, ConfusionMatrixDisplay\n",
    "\n",
    "# Miscellanoos\n",
    "#-----------------------\n",
    "import itertools\n",
    "import warnings\n",
    "warnings.filterwarnings(\"ignore\")"
   ]
  },
  {
   "cell_type": "code",
   "execution_count": null,
   "id": "ccf5c7e7",
   "metadata": {
    "colab": {
     "base_uri": "https://localhost:8080/",
     "height": 424
    },
    "executionInfo": {
     "elapsed": 6,
     "status": "ok",
     "timestamp": 1663855373071,
     "user": {
      "displayName": "Nicolás Sánchez",
      "userId": "02759807036838794283"
     },
     "user_tz": 240
    },
    "id": "bdac389b-e5f8-4563-a187-36b016c0641c",
    "outputId": "ab3b0958-37e0-44df-e6ea-ac89b0081a0b",
    "vscode": {
     "languageId": "python"
    }
   },
   "outputs": [
    {
     "data": {
      "text/html": [
       "<div>\n",
       "<style scoped>\n",
       "    .dataframe tbody tr th:only-of-type {\n",
       "        vertical-align: middle;\n",
       "    }\n",
       "\n",
       "    .dataframe tbody tr th {\n",
       "        vertical-align: top;\n",
       "    }\n",
       "\n",
       "    .dataframe thead th {\n",
       "        text-align: right;\n",
       "    }\n",
       "</style>\n",
       "<table border=\"1\" class=\"dataframe\">\n",
       "  <thead>\n",
       "    <tr style=\"text-align: right;\">\n",
       "      <th></th>\n",
       "      <th>PERSON_ID</th>\n",
       "      <th>PLAYER_NAME</th>\n",
       "      <th>TEAM_NAME</th>\n",
       "      <th>POSITION</th>\n",
       "      <th>HEIGHT</th>\n",
       "      <th>WEIGHT</th>\n",
       "      <th>COUNTRY</th>\n",
       "      <th>BIRTHDATE</th>\n",
       "      <th>SEASON_EXP</th>\n",
       "      <th>DRAFT_NUMBER</th>\n",
       "      <th>GP</th>\n",
       "      <th>MIN</th>\n",
       "      <th>PTS</th>\n",
       "      <th>REB</th>\n",
       "      <th>AST</th>\n",
       "      <th>STL</th>\n",
       "      <th>BLK</th>\n",
       "      <th>SALARY</th>\n",
       "      <th>AGE</th>\n",
       "    </tr>\n",
       "  </thead>\n",
       "  <tbody>\n",
       "    <tr>\n",
       "      <th>0</th>\n",
       "      <td>1630173</td>\n",
       "      <td>Precious Achiuwa</td>\n",
       "      <td>Raptors</td>\n",
       "      <td>Forward</td>\n",
       "      <td>203</td>\n",
       "      <td>102</td>\n",
       "      <td>Nigeria</td>\n",
       "      <td>1999-09-19</td>\n",
       "      <td>2</td>\n",
       "      <td>20</td>\n",
       "      <td>134</td>\n",
       "      <td>18.4</td>\n",
       "      <td>7.2</td>\n",
       "      <td>5.1</td>\n",
       "      <td>0.8</td>\n",
       "      <td>0.4</td>\n",
       "      <td>0.5</td>\n",
       "      <td>2711280</td>\n",
       "      <td>23 years, 0 months, 0 days</td>\n",
       "    </tr>\n",
       "    <tr>\n",
       "      <th>1</th>\n",
       "      <td>203500</td>\n",
       "      <td>Steven Adams</td>\n",
       "      <td>Grizzlies</td>\n",
       "      <td>Center</td>\n",
       "      <td>211</td>\n",
       "      <td>120</td>\n",
       "      <td>New Zealand</td>\n",
       "      <td>1993-07-20</td>\n",
       "      <td>9</td>\n",
       "      <td>12</td>\n",
       "      <td>664</td>\n",
       "      <td>26.8</td>\n",
       "      <td>9.3</td>\n",
       "      <td>8.0</td>\n",
       "      <td>1.5</td>\n",
       "      <td>0.9</td>\n",
       "      <td>0.9</td>\n",
       "      <td>17073171</td>\n",
       "      <td>29 years, 1 months, 30 days</td>\n",
       "    </tr>\n",
       "    <tr>\n",
       "      <th>2</th>\n",
       "      <td>1628389</td>\n",
       "      <td>Bam Adebayo</td>\n",
       "      <td>Heat</td>\n",
       "      <td>Center</td>\n",
       "      <td>206</td>\n",
       "      <td>116</td>\n",
       "      <td>USA</td>\n",
       "      <td>1997-07-18</td>\n",
       "      <td>5</td>\n",
       "      <td>14</td>\n",
       "      <td>343</td>\n",
       "      <td>28.2</td>\n",
       "      <td>13.5</td>\n",
       "      <td>8.3</td>\n",
       "      <td>3.5</td>\n",
       "      <td>1.0</td>\n",
       "      <td>0.9</td>\n",
       "      <td>28103550</td>\n",
       "      <td>25 years, 2 months, 1 days</td>\n",
       "    </tr>\n",
       "    <tr>\n",
       "      <th>3</th>\n",
       "      <td>1630583</td>\n",
       "      <td>Santi Aldama</td>\n",
       "      <td>Grizzlies</td>\n",
       "      <td>Forward</td>\n",
       "      <td>211</td>\n",
       "      <td>98</td>\n",
       "      <td>Spain</td>\n",
       "      <td>2001-01-10</td>\n",
       "      <td>1</td>\n",
       "      <td>30</td>\n",
       "      <td>32</td>\n",
       "      <td>11.2</td>\n",
       "      <td>4.1</td>\n",
       "      <td>2.7</td>\n",
       "      <td>0.7</td>\n",
       "      <td>0.2</td>\n",
       "      <td>0.3</td>\n",
       "      <td>1994520</td>\n",
       "      <td>21 years, 8 months, 9 days</td>\n",
       "    </tr>\n",
       "    <tr>\n",
       "      <th>4</th>\n",
       "      <td>200746</td>\n",
       "      <td>LaMarcus Aldridge</td>\n",
       "      <td>Nets</td>\n",
       "      <td>Center</td>\n",
       "      <td>211</td>\n",
       "      <td>113</td>\n",
       "      <td>USA</td>\n",
       "      <td>1985-07-19</td>\n",
       "      <td>16</td>\n",
       "      <td>2</td>\n",
       "      <td>1076</td>\n",
       "      <td>33.7</td>\n",
       "      <td>19.1</td>\n",
       "      <td>8.1</td>\n",
       "      <td>1.9</td>\n",
       "      <td>0.7</td>\n",
       "      <td>1.1</td>\n",
       "      <td>2641691</td>\n",
       "      <td>37 years, 2 months, 0 days</td>\n",
       "    </tr>\n",
       "    <tr>\n",
       "      <th>...</th>\n",
       "      <td>...</td>\n",
       "      <td>...</td>\n",
       "      <td>...</td>\n",
       "      <td>...</td>\n",
       "      <td>...</td>\n",
       "      <td>...</td>\n",
       "      <td>...</td>\n",
       "      <td>...</td>\n",
       "      <td>...</td>\n",
       "      <td>...</td>\n",
       "      <td>...</td>\n",
       "      <td>...</td>\n",
       "      <td>...</td>\n",
       "      <td>...</td>\n",
       "      <td>...</td>\n",
       "      <td>...</td>\n",
       "      <td>...</td>\n",
       "      <td>...</td>\n",
       "      <td>...</td>\n",
       "    </tr>\n",
       "    <tr>\n",
       "      <th>424</th>\n",
       "      <td>1626153</td>\n",
       "      <td>Delon Wright</td>\n",
       "      <td>Wizards</td>\n",
       "      <td>Guard</td>\n",
       "      <td>196</td>\n",
       "      <td>84</td>\n",
       "      <td>USA</td>\n",
       "      <td>1992-04-26</td>\n",
       "      <td>7</td>\n",
       "      <td>20</td>\n",
       "      <td>411</td>\n",
       "      <td>20.9</td>\n",
       "      <td>7.2</td>\n",
       "      <td>3.2</td>\n",
       "      <td>3.0</td>\n",
       "      <td>1.2</td>\n",
       "      <td>0.4</td>\n",
       "      <td>8526316</td>\n",
       "      <td>30 years, 4 months, 24 days</td>\n",
       "    </tr>\n",
       "    <tr>\n",
       "      <th>425</th>\n",
       "      <td>201152</td>\n",
       "      <td>Thaddeus Young</td>\n",
       "      <td>Raptors</td>\n",
       "      <td>Forward</td>\n",
       "      <td>203</td>\n",
       "      <td>107</td>\n",
       "      <td>USA</td>\n",
       "      <td>1988-06-21</td>\n",
       "      <td>15</td>\n",
       "      <td>12</td>\n",
       "      <td>1085</td>\n",
       "      <td>29.3</td>\n",
       "      <td>12.8</td>\n",
       "      <td>5.8</td>\n",
       "      <td>1.8</td>\n",
       "      <td>1.4</td>\n",
       "      <td>0.4</td>\n",
       "      <td>14190000</td>\n",
       "      <td>34 years, 2 months, 29 days</td>\n",
       "    </tr>\n",
       "    <tr>\n",
       "      <th>426</th>\n",
       "      <td>1629027</td>\n",
       "      <td>Trae Young</td>\n",
       "      <td>Hawks</td>\n",
       "      <td>Guard</td>\n",
       "      <td>185</td>\n",
       "      <td>74</td>\n",
       "      <td>USA</td>\n",
       "      <td>1998-09-19</td>\n",
       "      <td>4</td>\n",
       "      <td>5</td>\n",
       "      <td>280</td>\n",
       "      <td>33.6</td>\n",
       "      <td>25.3</td>\n",
       "      <td>3.9</td>\n",
       "      <td>9.1</td>\n",
       "      <td>0.9</td>\n",
       "      <td>0.2</td>\n",
       "      <td>8326471</td>\n",
       "      <td>24 years, 0 months, 0 days</td>\n",
       "    </tr>\n",
       "    <tr>\n",
       "      <th>427</th>\n",
       "      <td>1630209</td>\n",
       "      <td>Omer Yurtseven</td>\n",
       "      <td>Heat</td>\n",
       "      <td>Center</td>\n",
       "      <td>211</td>\n",
       "      <td>125</td>\n",
       "      <td>Turkey</td>\n",
       "      <td>1998-06-19</td>\n",
       "      <td>1</td>\n",
       "      <td>Undrafted</td>\n",
       "      <td>56</td>\n",
       "      <td>12.6</td>\n",
       "      <td>5.3</td>\n",
       "      <td>5.3</td>\n",
       "      <td>0.9</td>\n",
       "      <td>0.3</td>\n",
       "      <td>0.4</td>\n",
       "      <td>1489065</td>\n",
       "      <td>24 years, 3 months, 0 days</td>\n",
       "    </tr>\n",
       "    <tr>\n",
       "      <th>428</th>\n",
       "      <td>1627826</td>\n",
       "      <td>Ivica Zubac</td>\n",
       "      <td>Clippers</td>\n",
       "      <td>Center</td>\n",
       "      <td>213</td>\n",
       "      <td>109</td>\n",
       "      <td>Croatia</td>\n",
       "      <td>1997-03-18</td>\n",
       "      <td>6</td>\n",
       "      <td>32</td>\n",
       "      <td>360</td>\n",
       "      <td>19.0</td>\n",
       "      <td>8.3</td>\n",
       "      <td>6.5</td>\n",
       "      <td>1.1</td>\n",
       "      <td>0.3</td>\n",
       "      <td>0.8</td>\n",
       "      <td>7518518</td>\n",
       "      <td>25 years, 6 months, 1 days</td>\n",
       "    </tr>\n",
       "  </tbody>\n",
       "</table>\n",
       "<p>429 rows × 19 columns</p>\n",
       "</div>"
      ],
      "text/plain": [
       "     PERSON_ID        PLAYER_NAME  TEAM_NAME POSITION  HEIGHT  WEIGHT  \\\n",
       "0      1630173   Precious Achiuwa    Raptors  Forward     203     102   \n",
       "1       203500       Steven Adams  Grizzlies   Center     211     120   \n",
       "2      1628389        Bam Adebayo       Heat   Center     206     116   \n",
       "3      1630583       Santi Aldama  Grizzlies  Forward     211      98   \n",
       "4       200746  LaMarcus Aldridge       Nets   Center     211     113   \n",
       "..         ...                ...        ...      ...     ...     ...   \n",
       "424    1626153       Delon Wright    Wizards    Guard     196      84   \n",
       "425     201152     Thaddeus Young    Raptors  Forward     203     107   \n",
       "426    1629027         Trae Young      Hawks    Guard     185      74   \n",
       "427    1630209     Omer Yurtseven       Heat   Center     211     125   \n",
       "428    1627826        Ivica Zubac   Clippers   Center     213     109   \n",
       "\n",
       "         COUNTRY   BIRTHDATE  SEASON_EXP DRAFT_NUMBER    GP   MIN   PTS  REB  \\\n",
       "0        Nigeria  1999-09-19           2           20   134  18.4   7.2  5.1   \n",
       "1    New Zealand  1993-07-20           9           12   664  26.8   9.3  8.0   \n",
       "2            USA  1997-07-18           5           14   343  28.2  13.5  8.3   \n",
       "3          Spain  2001-01-10           1           30    32  11.2   4.1  2.7   \n",
       "4            USA  1985-07-19          16            2  1076  33.7  19.1  8.1   \n",
       "..           ...         ...         ...          ...   ...   ...   ...  ...   \n",
       "424          USA  1992-04-26           7           20   411  20.9   7.2  3.2   \n",
       "425          USA  1988-06-21          15           12  1085  29.3  12.8  5.8   \n",
       "426          USA  1998-09-19           4            5   280  33.6  25.3  3.9   \n",
       "427       Turkey  1998-06-19           1    Undrafted    56  12.6   5.3  5.3   \n",
       "428      Croatia  1997-03-18           6           32   360  19.0   8.3  6.5   \n",
       "\n",
       "     AST  STL  BLK    SALARY                          AGE  \n",
       "0    0.8  0.4  0.5   2711280   23 years, 0 months, 0 days  \n",
       "1    1.5  0.9  0.9  17073171  29 years, 1 months, 30 days  \n",
       "2    3.5  1.0  0.9  28103550   25 years, 2 months, 1 days  \n",
       "3    0.7  0.2  0.3   1994520   21 years, 8 months, 9 days  \n",
       "4    1.9  0.7  1.1   2641691   37 years, 2 months, 0 days  \n",
       "..   ...  ...  ...       ...                          ...  \n",
       "424  3.0  1.2  0.4   8526316  30 years, 4 months, 24 days  \n",
       "425  1.8  1.4  0.4  14190000  34 years, 2 months, 29 days  \n",
       "426  9.1  0.9  0.2   8326471   24 years, 0 months, 0 days  \n",
       "427  0.9  0.3  0.4   1489065   24 years, 3 months, 0 days  \n",
       "428  1.1  0.3  0.8   7518518   25 years, 6 months, 1 days  \n",
       "\n",
       "[429 rows x 19 columns]"
      ]
     },
     "execution_count": 2,
     "metadata": {},
     "output_type": "execute_result"
    }
   ],
   "source": [
    "data = pd.read_csv(\"https://raw.githubusercontent.com/anyoneai/notebooks/main/datasets/project2_players_df.csv\")"
   ]
  },
  {
   "cell_type": "markdown",
   "id": "2b913994",
   "metadata": {
    "id": "c3cc6b89-e698-4943-8562-160190b9cbd0"
   },
   "source": [
    "Let's have another look at our previously generated dataset. "
   ]
  },
  {
   "cell_type": "markdown",
   "id": "5ad463df",
   "metadata": {
    "id": "e098b76d-c520-474b-9998-a263354fe27b"
   },
   "source": [
    "1.1. Plot all players statistics (\"PTS\", \"REB\", \"AST\",\"STL\",\"BLK\") against salary"
   ]
  },
  {
   "cell_type": "code",
   "execution_count": 3,
   "id": "dbb81d96",
   "metadata": {
    "colab": {
     "base_uri": "https://localhost:8080/",
     "height": 455
    },
    "executionInfo": {
     "elapsed": 261,
     "status": "ok",
     "timestamp": 1663855435671,
     "user": {
      "displayName": "Nicolás Sánchez",
      "userId": "02759807036838794283"
     },
     "user_tz": 240
    },
    "id": "50d589f1-25c1-48f8-88f3-e2c7f0e72625",
    "outputId": "23f55fa9-b658-4401-b94a-3529968b9092",
    "vscode": {
     "languageId": "python"
    }
   },
   "outputs": [
    {
     "data": {
      "text/html": [
       "<div>\n",
       "<style scoped>\n",
       "    .dataframe tbody tr th:only-of-type {\n",
       "        vertical-align: middle;\n",
       "    }\n",
       "\n",
       "    .dataframe tbody tr th {\n",
       "        vertical-align: top;\n",
       "    }\n",
       "\n",
       "    .dataframe thead th {\n",
       "        text-align: right;\n",
       "    }\n",
       "</style>\n",
       "<table border=\"1\" class=\"dataframe\">\n",
       "  <thead>\n",
       "    <tr style=\"text-align: right;\">\n",
       "      <th></th>\n",
       "      <th>PTS</th>\n",
       "      <th>REB</th>\n",
       "      <th>AST</th>\n",
       "      <th>STL</th>\n",
       "      <th>BLK</th>\n",
       "      <th>SEASON_EXP</th>\n",
       "      <th>POSITION</th>\n",
       "      <th>SALARY</th>\n",
       "    </tr>\n",
       "    <tr>\n",
       "      <th>PERSON_ID</th>\n",
       "      <th></th>\n",
       "      <th></th>\n",
       "      <th></th>\n",
       "      <th></th>\n",
       "      <th></th>\n",
       "      <th></th>\n",
       "      <th></th>\n",
       "      <th></th>\n",
       "    </tr>\n",
       "  </thead>\n",
       "  <tbody>\n",
       "    <tr>\n",
       "      <th>1630173</th>\n",
       "      <td>7.2</td>\n",
       "      <td>5.1</td>\n",
       "      <td>0.8</td>\n",
       "      <td>0.4</td>\n",
       "      <td>0.5</td>\n",
       "      <td>2</td>\n",
       "      <td>Forward</td>\n",
       "      <td>2711280</td>\n",
       "    </tr>\n",
       "    <tr>\n",
       "      <th>203500</th>\n",
       "      <td>9.3</td>\n",
       "      <td>8.0</td>\n",
       "      <td>1.5</td>\n",
       "      <td>0.9</td>\n",
       "      <td>0.9</td>\n",
       "      <td>9</td>\n",
       "      <td>Center</td>\n",
       "      <td>17073171</td>\n",
       "    </tr>\n",
       "    <tr>\n",
       "      <th>1628389</th>\n",
       "      <td>13.5</td>\n",
       "      <td>8.3</td>\n",
       "      <td>3.5</td>\n",
       "      <td>1.0</td>\n",
       "      <td>0.9</td>\n",
       "      <td>5</td>\n",
       "      <td>Center</td>\n",
       "      <td>28103550</td>\n",
       "    </tr>\n",
       "    <tr>\n",
       "      <th>1630583</th>\n",
       "      <td>4.1</td>\n",
       "      <td>2.7</td>\n",
       "      <td>0.7</td>\n",
       "      <td>0.2</td>\n",
       "      <td>0.3</td>\n",
       "      <td>1</td>\n",
       "      <td>Forward</td>\n",
       "      <td>1994520</td>\n",
       "    </tr>\n",
       "    <tr>\n",
       "      <th>200746</th>\n",
       "      <td>19.1</td>\n",
       "      <td>8.1</td>\n",
       "      <td>1.9</td>\n",
       "      <td>0.7</td>\n",
       "      <td>1.1</td>\n",
       "      <td>16</td>\n",
       "      <td>Center</td>\n",
       "      <td>2641691</td>\n",
       "    </tr>\n",
       "    <tr>\n",
       "      <th>...</th>\n",
       "      <td>...</td>\n",
       "      <td>...</td>\n",
       "      <td>...</td>\n",
       "      <td>...</td>\n",
       "      <td>...</td>\n",
       "      <td>...</td>\n",
       "      <td>...</td>\n",
       "      <td>...</td>\n",
       "    </tr>\n",
       "    <tr>\n",
       "      <th>1626153</th>\n",
       "      <td>7.2</td>\n",
       "      <td>3.2</td>\n",
       "      <td>3.0</td>\n",
       "      <td>1.2</td>\n",
       "      <td>0.4</td>\n",
       "      <td>7</td>\n",
       "      <td>Guard</td>\n",
       "      <td>8526316</td>\n",
       "    </tr>\n",
       "    <tr>\n",
       "      <th>201152</th>\n",
       "      <td>12.8</td>\n",
       "      <td>5.8</td>\n",
       "      <td>1.8</td>\n",
       "      <td>1.4</td>\n",
       "      <td>0.4</td>\n",
       "      <td>15</td>\n",
       "      <td>Forward</td>\n",
       "      <td>14190000</td>\n",
       "    </tr>\n",
       "    <tr>\n",
       "      <th>1629027</th>\n",
       "      <td>25.3</td>\n",
       "      <td>3.9</td>\n",
       "      <td>9.1</td>\n",
       "      <td>0.9</td>\n",
       "      <td>0.2</td>\n",
       "      <td>4</td>\n",
       "      <td>Guard</td>\n",
       "      <td>8326471</td>\n",
       "    </tr>\n",
       "    <tr>\n",
       "      <th>1630209</th>\n",
       "      <td>5.3</td>\n",
       "      <td>5.3</td>\n",
       "      <td>0.9</td>\n",
       "      <td>0.3</td>\n",
       "      <td>0.4</td>\n",
       "      <td>1</td>\n",
       "      <td>Center</td>\n",
       "      <td>1489065</td>\n",
       "    </tr>\n",
       "    <tr>\n",
       "      <th>1627826</th>\n",
       "      <td>8.3</td>\n",
       "      <td>6.5</td>\n",
       "      <td>1.1</td>\n",
       "      <td>0.3</td>\n",
       "      <td>0.8</td>\n",
       "      <td>6</td>\n",
       "      <td>Center</td>\n",
       "      <td>7518518</td>\n",
       "    </tr>\n",
       "  </tbody>\n",
       "</table>\n",
       "<p>429 rows × 8 columns</p>\n",
       "</div>"
      ],
      "text/plain": [
       "            PTS  REB  AST  STL  BLK  SEASON_EXP POSITION    SALARY\n",
       "PERSON_ID                                                         \n",
       "1630173     7.2  5.1  0.8  0.4  0.5           2  Forward   2711280\n",
       "203500      9.3  8.0  1.5  0.9  0.9           9   Center  17073171\n",
       "1628389    13.5  8.3  3.5  1.0  0.9           5   Center  28103550\n",
       "1630583     4.1  2.7  0.7  0.2  0.3           1  Forward   1994520\n",
       "200746     19.1  8.1  1.9  0.7  1.1          16   Center   2641691\n",
       "...         ...  ...  ...  ...  ...         ...      ...       ...\n",
       "1626153     7.2  3.2  3.0  1.2  0.4           7    Guard   8526316\n",
       "201152     12.8  5.8  1.8  1.4  0.4          15  Forward  14190000\n",
       "1629027    25.3  3.9  9.1  0.9  0.2           4    Guard   8326471\n",
       "1630209     5.3  5.3  0.9  0.3  0.4           1   Center   1489065\n",
       "1627826     8.3  6.5  1.1  0.3  0.8           6   Center   7518518\n",
       "\n",
       "[429 rows x 8 columns]"
      ]
     },
     "execution_count": 3,
     "metadata": {},
     "output_type": "execute_result"
    }
   ],
   "source": [
    "stats_cols = [\"PTS\", \"REB\", \"AST\",\"STL\",\"BLK\",\"SEASON_EXP\"]\n",
    "data_stats = data.set_index('PERSON_ID')[stats_cols + [\"POSITION\",\"SALARY\"]].copy()\n",
    "data_stats"
   ]
  },
  {
   "cell_type": "code",
   "execution_count": 4,
   "id": "5c5035a1",
   "metadata": {
    "vscode": {
     "languageId": "python"
    }
   },
   "outputs": [
    {
     "data": {
      "text/plain": [
       "PTS           0\n",
       "REB           0\n",
       "AST           0\n",
       "STL           0\n",
       "BLK           0\n",
       "SEASON_EXP    0\n",
       "POSITION      0\n",
       "SALARY        0\n",
       "dtype: int64"
      ]
     },
     "execution_count": 4,
     "metadata": {},
     "output_type": "execute_result"
    }
   ],
   "source": [
    "## NaN Values Analysis\n",
    "data_stats.isna().sum()"
   ]
  },
  {
   "cell_type": "code",
   "execution_count": 5,
   "id": "622ea1e9",
   "metadata": {
    "colab": {
     "base_uri": "https://localhost:8080/",
     "height": 287
    },
    "executionInfo": {
     "elapsed": 430,
     "status": "error",
     "timestamp": 1663855476000,
     "user": {
      "displayName": "Nicolás Sánchez",
      "userId": "02759807036838794283"
     },
     "user_tz": 240
    },
    "id": "12b0fd30-0860-4ac3-8d52-5b072f1fd822",
    "outputId": "841e4252-0c03-421d-ba6e-a6fd122a03fa",
    "vscode": {
     "languageId": "python"
    }
   },
   "outputs": [
    {
     "data": {
      "image/png": "[encoded data removed]",
      "text/plain": [
       "<Figure size 1080x360 with 5 Axes>"
      ]
     },
     "metadata": {},
     "output_type": "display_data"
    },
    {
     "data": {
      "image/png": "[encoded data removed]",
      "text/plain": [
       "<Figure size 1080x360 with 5 Axes>"
      ]
     },
     "metadata": {},
     "output_type": "display_data"
    }
   ],
   "source": [
    "## Relationship between independent features (statistics) and target variable (Salary)\n",
    "\n",
    "%matplotlib inline\n",
    "sns.set_style('darkgrid')\n",
    "p1 = sns.pairplot( data_stats, y_vars = ['SALARY'], x_vars = [\"PTS\", \"REB\", \"AST\", 'SALARY'], kind = 'reg', hue = 'POSITION', plot_kws = {'scatter_kws': {'alpha': 0.3}})\n",
    "p2 = sns.pairplot( data_stats, y_vars = ['SALARY'], x_vars = [\"STL\",\"BLK\",\"SEASON_EXP\", 'SALARY'], kind = 'reg',hue = 'POSITION', plot_kws = {'scatter_kws': {'alpha': 0.3}})\n",
    "\n",
    "p1.fig.set_size_inches(15,5)\n",
    "p2.fig.set_size_inches(15,5)\n",
    "plt.show()\n",
    "\n",
    "data_stats.drop(columns=['POSITION'],inplace = True)"
   ]
  },
  {
   "cell_type": "code",
   "execution_count": 6,
   "id": "9398e3a9",
   "metadata": {
    "vscode": {
     "languageId": "python"
    }
   },
   "outputs": [
    {
     "name": "stdout",
     "output_type": "stream",
     "text": [
      "We are only interested in the last column: SALARY vs others\n"
     ]
    },
    {
     "data": {
      "image/png": "[encoded data removed]",
      "text/plain": [
       "<Figure size 864x576 with 2 Axes>"
      ]
     },
     "metadata": {},
     "output_type": "display_data"
    }
   ],
   "source": [
    "h1, ax1 = plt.subplots(1,1,figsize=(12,8))\n",
    "_ = sns.heatmap(data = data_stats[stats_cols + ['SALARY']].corr(), ax = ax1)\n",
    "print('We are only interested in the last column: SALARY vs others')"
   ]
  },
  {
   "cell_type": "code",
   "execution_count": 7,
   "id": "6283ac90",
   "metadata": {
    "vscode": {
     "languageId": "python"
    }
   },
   "outputs": [
    {
     "data": {
      "image/png": "[encoded data removed]",
      "text/plain": [
       "<Figure size 1296x864 with 6 Axes>"
      ]
     },
     "metadata": {},
     "output_type": "display_data"
    }
   ],
   "source": [
    "colors = get_cmap('tab10').colors\n",
    "\n",
    "fig, ax = plt.subplots(2,3, figsize = (18,12))\n",
    "\n",
    "\n",
    "for k,col in enumerate(data_stats.columns[:-1]):\n",
    "    i, j = divmod(k, 3)\n",
    "    sns.boxplot(data = data_stats, y = data_stats[col], ax = ax[i,j], color = colors[k])\n"
   ]
  },
  {
   "cell_type": "code",
   "execution_count": 8,
   "id": "27f9f731",
   "metadata": {
    "vscode": {
     "languageId": "python"
    }
   },
   "outputs": [
    {
     "name": "stdout",
     "output_type": "stream",
     "text": [
      "Percent(%) of outliers per feature:\n",
      "{'PTS': '2.10%', 'REB': '4.20%', 'AST': '5.13%', 'STL': '4.43%', 'BLK': '6.06%', 'SEASON_EXP': '2.80%'}\n"
     ]
    }
   ],
   "source": [
    "outliers_perc = {}\n",
    "for stat in stats_cols:\n",
    "\n",
    "    iqr = np.quantile(data_stats[stat],.75) - np.quantile(data_stats[stat],.25)\n",
    "    uppper_bound = np.quantile(data_stats[stat],.75) + 1.5*iqr\n",
    "    \n",
    "    outliers_perc[stat] = str(f'{(sum(data_stats[stat] > uppper_bound)/len(data_stats[stat])*100):.2f}%')\n",
    "    \n",
    "print(f'Percent(%) of outliers per feature:\\n{outliers_perc}')"
   ]
  },
  {
   "cell_type": "markdown",
   "id": "54df634a",
   "metadata": {},
   "source": [
    "**There are outliers in the data. However, there are two main reason why we won't drop them:**\n",
    "\n",
    "> _1. The % of outliers per features is too low._\n",
    "\n",
    "> _2. The outliers in the NBA case has a good explanation: outlier values correspond to outperformers i.e. highly skilled NBA players (stars) in the league, which is exactly what where are trying to estimate for in this project ._"
   ]
  },
  {
   "cell_type": "markdown",
   "id": "0324c3a3",
   "metadata": {},
   "source": [
    "1.2. What can we say about these distributions?"
   ]
  },
  {
   "cell_type": "markdown",
   "id": "4eb1dadb",
   "metadata": {},
   "source": [
    "> **ANSWER**\n",
    "> + _All of the statistics have a positive correlation (some strong,other not so much) with the SALARY._ \n",
    "> + _All of the distributions are right-skewed_.\n",
    "> + There are some outliers (which we will ignore).\n",
    "\n",
    "> _On the boxplot, we can observe that there are a lot of some outliers in each feature. I don't think it is a good idea to drop them nor fit them to the distribution, as they most probably represent skilled players on the NBA, which usually have outstanding performance (i.e. statistics)_\n"
   ]
  },
  {
   "cell_type": "markdown",
   "id": "8ac8d397",
   "metadata": {
    "id": "17735366-22bf-4cd8-a392-9dfb01652da0"
   },
   "source": [
    "### Splitting the Dataset"
   ]
  },
  {
   "cell_type": "markdown",
   "id": "65ee16cd",
   "metadata": {
    "id": "02450fb0-829c-420b-b65c-ea553a9a81a2"
   },
   "source": [
    "1.3. Split the dataset into train and testing sets. Use the Sklearn function for train/test splitting. Make sure to set the random state for reproducibility.\n",
    "\n",
    "**Note:** Before using scikit-learn `train_test_split()`, separate your dataframe into features and labels. Assign your features to `X` variable and labels to `y`."
   ]
  },
  {
   "cell_type": "code",
   "execution_count": 9,
   "id": "c4760d56",
   "metadata": {
    "id": "d532e0fb-e478-48a0-971b-1ad1d428fe95",
    "vscode": {
     "languageId": "python"
    }
   },
   "outputs": [],
   "source": [
    "# TODO: Put here your features\n",
    "X_single = data.drop(columns = 'SALARY')\n",
    "# TODO: Put here your labels\n",
    "y_single = data.SALARY\n",
    "\n",
    "# TODO: Now use train_test_split()\n",
    "X_train_single, X_test_single,y_train_single, y_test_single = train_test_split(X_single,y_single, train_size = 0.8, random_state = 42)"
   ]
  },
  {
   "cell_type": "markdown",
   "id": "b21b4b41",
   "metadata": {
    "id": "5TpInGhkR6fo"
   },
   "source": [
    "*Don't change anything in this cell, just make it run correctly*"
   ]
  },
  {
   "cell_type": "code",
   "execution_count": 10,
   "id": "55c50687",
   "metadata": {
    "id": "YDyKX-LUR7Xo",
    "vscode": {
     "languageId": "python"
    }
   },
   "outputs": [
    {
     "name": "stdout",
     "output_type": "stream",
     "text": [
      "Success!\n",
      "Success!\n"
     ]
    }
   ],
   "source": [
    "if X_single.SEASON_EXP[322] == 7 and y_single[255] == 1517981:\n",
    "  print('Success!')\n",
    "else:\n",
    "  raise ValueError('The draft categories are incorrect, please review your function')\n",
    "\n",
    "if X_single.shape == (429, 18) and y_single.shape == (429,):\n",
    "  print('Success!')\n",
    "else:\n",
    "  raise ValueError('Your features/labels shape is incorrect, please review your code')\n"
   ]
  },
  {
   "cell_type": "markdown",
   "id": "a7d6320b",
   "metadata": {
    "id": "6aec0deb-7efe-438c-8a4a-39f940aeb474"
   },
   "source": [
    "### Baseline Model and Evaluation Metric"
   ]
  },
  {
   "cell_type": "markdown",
   "id": "96db517d",
   "metadata": {
    "id": "40ca78ad-8dc1-4b13-99bd-27dcd138a809"
   },
   "source": [
    "In every project, we need a baseline model that implements a very simple algorithm or heuristic so we can compare our results with it. \n",
    "In this case, we could create a function that always returns the average player salary, evaluate that, and then compare the result with our modeling to see if we are improving. "
   ]
  },
  {
   "cell_type": "markdown",
   "id": "75223086",
   "metadata": {
    "id": "71a7eb29-2bdf-4faf-93e9-3206dbc9cca2"
   },
   "source": [
    "We need an evaluation metric to see how well our models fit the data. For this project we will use [Mean Absolute Error](https://scikit-learn.org/stable/modules/generated/sklearn.metrics.mean_absolute_error.html#sklearn.metrics.mean_absolute_error) as our regression evaluation metric, because it is a really simple metric to interpret. A lower value means the model performs better. \n",
    "\n",
    "For this particular problem, we will always round the value, as we don't need decimals for this task."
   ]
  },
  {
   "cell_type": "markdown",
   "id": "5e2f7de4",
   "metadata": {
    "id": "cefd619d-e6b0-4e70-acf8-f0f4a90fe896"
   },
   "source": [
    "1.4. Create a Baseline model class that implements  fit() and predict() methods. As this model will not consider any other variable, the fit method should only receive a list of all players salaries. The predict method should receive and iterable and return a numpy array with the same length but every element should have the same value (the average salary)"
   ]
  },
  {
   "cell_type": "code",
   "execution_count": 11,
   "id": "3c4b1bd5",
   "metadata": {
    "id": "8ee01164-1ef2-44dc-8baa-74b630444577",
    "vscode": {
     "languageId": "python"
    }
   },
   "outputs": [],
   "source": [
    "class BaselineModel():\n",
    "    \"\"\"\n",
    "    A baseline model that always returns the same value, the mean of the \n",
    "    players salary in the train data\n",
    "    \"\"\"\n",
    "    def __init__(self):\n",
    "        self.mean = None\n",
    "\n",
    "    def fit(self, y_train):\n",
    "        \"\"\"\n",
    "        Fit the training data. \n",
    "\n",
    "        Parameters\n",
    "        ----------\n",
    "        y_train: Union[pd.Series, np.ndarray]\n",
    "            a pandas series or numpy array containing salary information\n",
    "        \"\"\"\n",
    "        self.mean = y_train.mean()\n",
    "\n",
    "\n",
    "    def predict(self, X):\n",
    "        \"\"\"\n",
    "        Predict salaries \n",
    "\n",
    "        Parameters\n",
    "        ----------\n",
    "        X: Union[pd.DataFrame, pd.Series, np.ndarray]\n",
    "            a pandas series, dataframe or numpy array with the \n",
    "\n",
    "        Returns\n",
    "        -------\n",
    "        np.ndarray\n",
    "            a numpy array of the same length as X, with all elements equal to \n",
    "            the mean salary calculated in fit()\n",
    "        \"\"\"\n",
    "        return np.array([self.mean]*len(X))"
   ]
  },
  {
   "cell_type": "markdown",
   "id": "b8fcc810",
   "metadata": {
    "id": "6a1a8134-48a4-4c66-84d2-39030242ef5f"
   },
   "source": [
    "1.5. Evaluate the performance of our BaselineModel on the test set using mean_absolute_error from Sklearn (round the result)"
   ]
  },
  {
   "cell_type": "code",
   "execution_count": 12,
   "id": "79bef018",
   "metadata": {
    "id": "fb72f39b-e7fc-4cd8-bd23-ee4407a80eed",
    "vscode": {
     "languageId": "python"
    }
   },
   "outputs": [
    {
     "name": "stdout",
     "output_type": "stream",
     "text": [
      "MAE: 6815073\n"
     ]
    }
   ],
   "source": [
    "bl = BaselineModel()\n",
    "bl.fit(y_train_single)\n",
    "y_pred_bl = bl.predict(X_test_single)\n",
    "\n",
    "print(f'MAE: {int(MAE(y_test_single,y_pred_bl))}')"
   ]
  },
  {
   "cell_type": "markdown",
   "id": "dda186e6",
   "metadata": {
    "id": "fc4dff42-e36c-478d-bfd3-7541f3f36f16"
   },
   "source": [
    "### Regression with a single variable"
   ]
  },
  {
   "cell_type": "markdown",
   "id": "18d81585",
   "metadata": {
    "id": "c9597b03-31fd-4a9c-8dad-9479666355cd"
   },
   "source": [
    "You're now going to start modeling data. We will start with a really simple approach, selecting just one variable, and doing a regression to see if we improve upon our baseline.\n"
   ]
  },
  {
   "cell_type": "markdown",
   "id": "d44a8383",
   "metadata": {
    "id": "af92eeac-cbfb-45cb-8626-246332c69624"
   },
   "source": [
    "1.6. Select the variable you think would provide the best fit. Perform feature scaling on this variable using a Sklearn scaler."
   ]
  },
  {
   "cell_type": "code",
   "execution_count": 13,
   "id": "9319fca0",
   "metadata": {
    "id": "173f1211-95e2-4bcb-ba7d-a40c516b4c24",
    "vscode": {
     "languageId": "python"
    }
   },
   "outputs": [],
   "source": [
    "X_train_single = X_train_single.PTS.values.reshape(-1,1)\n",
    "X_test_single =  X_test_single.PTS.values.reshape(-1,1)\n",
    "\n",
    "rob_scaler_single = RobustScaler()\n",
    "X_train_single_scaled = rob_scaler_single.fit_transform(X_train_single)\n",
    "X_test_single_scaled = rob_scaler_single.transform(X_test_single)"
   ]
  },
  {
   "cell_type": "markdown",
   "id": "bd3b2a89",
   "metadata": {
    "id": "1c490e55-2bff-4a06-a01e-c6859d7edb52"
   },
   "source": [
    "1.7. Train a model with [SGDRegressor](https://scikit-learn.org/stable/modules/generated/sklearn.linear_model.SGDRegressor.html) from Sklearn using the default parameters. Evaluate the model's performance on the test set using the selected metric."
   ]
  },
  {
   "cell_type": "code",
   "execution_count": 14,
   "id": "fb4238c0",
   "metadata": {
    "id": "15d198ad-a601-4722-937b-3be52090c8d1",
    "vscode": {
     "languageId": "python"
    }
   },
   "outputs": [
    {
     "name": "stdout",
     "output_type": "stream",
     "text": [
      "Single MAE: 4527246\n"
     ]
    }
   ],
   "source": [
    "sgd = SGDRegressor()\n",
    "\n",
    "sgd.fit(X_train_single_scaled, y_train_single)\n",
    "\n",
    "y_pred_single = sgd.predict(X_test_single_scaled)\n",
    "\n",
    "print(f'Single MAE: {int(MAE(y_test_single,y_pred_single))}')"
   ]
  },
  {
   "cell_type": "code",
   "execution_count": 15,
   "id": "37f7c26f",
   "metadata": {
    "vscode": {
     "languageId": "python"
    }
   },
   "outputs": [
    {
     "data": {
      "image/png": "[encoded data removed]",
      "text/plain": [
       "<Figure size 1080x576 with 1 Axes>"
      ]
     },
     "metadata": {},
     "output_type": "display_data"
    }
   ],
   "source": [
    "weights = [sgd.intercept_,sgd.coef_]\n",
    "def plot_regressor(xx,yy,weights):\n",
    "    # Plotting data points\n",
    "    sns.set(rc = {'figure.figsize':(15,8)})\n",
    "    _ = sns.scatterplot(x = xx.ravel(),y = yy, color = 'g', alpha = .5, s = 100)\n",
    "\n",
    "    # We'll plot the regression line along\n",
    "    b = weights[0]\n",
    "    m = weights[1:]\n",
    "    r = 0.02*(max(xx) - min(xx))\n",
    "    xx = np.linspace(min(xx-r),max(xx + r),100)\n",
    "    yy = m*xx + b\n",
    "    _ = plt.plot(xx,yy, color = 'c', linewidth = 3)\n",
    "    _ = plt.title('SALARY vs PTS (regression)')\n",
    "\n",
    "plot_regressor(X_train_single_scaled,y_train_single,weights)"
   ]
  },
  {
   "cell_type": "markdown",
   "id": "bcc3eb7b",
   "metadata": {
    "id": "e87147d9-5b57-4984-9f0d-e595cd6d15d3"
   },
   "source": [
    "1.8. Read the Sklearn documentation, and write a function that tries different configurations for the hyperparameters for training: epochs, learning rate and alpha. For each combination of parameters, evaluate the trained algorithm on the test set, then save the results of each hyperparameter combination, finally select the one that has the best MAE (meaning the lowest number) and print the combination and the MAE."
   ]
  },
  {
   "cell_type": "code",
   "execution_count": 73,
   "id": "e3a5c834",
   "metadata": {
    "id": "9e1f26f4-1eb4-4ecc-bfc2-9d8583f00d0d",
    "vscode": {
     "languageId": "python"
    }
   },
   "outputs": [],
   "source": [
    "def search_best_hyperparameters(splitted_data,estimator,params_grid,scoring):\n",
    "       \n",
    "    p_values = params_grid.values()\n",
    "    all_params_comb = list(itertools.product(*p_values))\n",
    "\n",
    "    best_estimator = None\n",
    "    best_params = {}\n",
    "    if scoring.__name__ ==  'mean_absolute_error': best_metric = max(data_stats.SALARY)\n",
    "    elif scoring.__name__ ==  'f1_score':  best_metric = 0\n",
    "\n",
    "    xx_train, xx_test,yy_train,yy_test = splitted_data\n",
    "    \n",
    "    for params_comb in all_params_comb:\n",
    "        \n",
    "        param_dict = {k:v for k,v in zip(params_grid.keys(),params_comb)}\n",
    "\n",
    "        model = estimator(**param_dict)\n",
    "        model.fit(xx_train,yy_train)\n",
    "        yy_pred = model.predict(xx_test)\n",
    "        \n",
    "        metric = scoring(yy_test,yy_pred)\n",
    "        \n",
    "        if (scoring.__name__ ==  'mean_absolute_error' and metric < best_metric)  \\\n",
    "        or ( scoring.__name__ ==  'f1_score' and metric > best_metric):\n",
    "            \n",
    "            best_metric = metric\n",
    "            best_params = param_dict\n",
    "            best_estimator = model\n",
    "       \n",
    "    return best_estimator,best_params,best_metric"
   ]
  },
  {
   "cell_type": "code",
   "execution_count": 74,
   "id": "cc925c7d",
   "metadata": {
    "id": "95ffbb3b-d161-4a29-9c48-eaff18b82412",
    "vscode": {
     "languageId": "python"
    }
   },
   "outputs": [
    {
     "name": "stdout",
     "output_type": "stream",
     "text": [
      "Params: {'alpha': 0.0001, 'max_iter': 316227.7660168379, 'eta0': 0.01}\n",
      "Best MAE: 4524194\n"
     ]
    }
   ],
   "source": [
    "# Performace of best single regressor\n",
    "## Hyperparameters\n",
    "alpha = [10**(-k) for k in np.arange(1,6, dtype = float)]                 # [0.1,...,0.00001] \n",
    "max_iter = [10**(k) for k in np.arange(4,6,0.5,dtype = float)]            # [10000,...,~3162277] \n",
    "eta0 = alpha[:-1]                                                         # [0.1,...,0.0001] \n",
    "\n",
    "params_dict = {'alpha': alpha, 'max_iter':max_iter, 'eta0': eta0}\n",
    "\n",
    "## Regressor model\n",
    "sgd = SGDRegressor\n",
    "data_single = (X_train_single,X_test_single,y_train_single,y_test_single) \n",
    "\n",
    "best_sgd_single, best_params_single, best_mae_single = search_best_hyperparameters(data_single,sgd,params_dict,MAE)\n",
    "print(f'Params: {best_params_single}\\nBest MAE: {best_mae_single:.0f}')"
   ]
  },
  {
   "cell_type": "markdown",
   "id": "12f9eb35",
   "metadata": {
    "id": "776e0c7a-d592-4479-aec6-870edff61def"
   },
   "source": [
    "1.9. Compare the results of the baseline, the SGDRegressor with default parameters and the one with the best combination of hyperparameters you could find. (replace variables with the ones you used)"
   ]
  },
  {
   "cell_type": "code",
   "execution_count": 75,
   "id": "13c6af37",
   "metadata": {
    "id": "2e520ef6-52ed-48dc-8450-03031f3a03a6",
    "vscode": {
     "languageId": "python"
    }
   },
   "outputs": [
    {
     "name": "stdout",
     "output_type": "stream",
     "text": [
      "Mean Absolute Error for each model:\n",
      "> Baseline: 6815073\n",
      "> Default SGDRegressor: 4527246\n",
      "> Best SGDRegressor: 4524194\n"
     ]
    }
   ],
   "source": [
    "baseline_mae = int(MAE(y_test_single,y_pred_bl))\n",
    "single_mae = int(MAE(y_test_single,y_pred_single))\n",
    "\n",
    "print(\"Mean Absolute Error for each model:\")\n",
    "print(f\"> Baseline: {baseline_mae}\")\n",
    "print(f\"> Default SGDRegressor: {single_mae}\")\n",
    "print(f\"> Best SGDRegressor: {best_mae_single:.0f}\")"
   ]
  },
  {
   "cell_type": "markdown",
   "id": "b8aa6add",
   "metadata": {
    "id": "19e281ec-d578-496d-9f5d-897a2e1986a2"
   },
   "source": [
    "### Multivariable Linear Regression"
   ]
  },
  {
   "cell_type": "markdown",
   "id": "5cca978d",
   "metadata": {
    "id": "4ff24d36-439a-478f-b0de-0021223f6e99"
   },
   "source": [
    "To improve our model, we will add more features to it. We will have to do some processing to our dataset to be able to use the data.\n",
    "We'll start with the following variables:"
   ]
  },
  {
   "cell_type": "markdown",
   "id": "4d0a2849",
   "metadata": {
    "id": "247f4716-496a-4040-9519-77f7a6839691"
   },
   "source": [
    "- Points\n",
    "- Rebounds\n",
    "- Assists\n",
    "- Blocks\n",
    "- Experience\n",
    "- Position\n",
    "- Draft Number\n"
   ]
  },
  {
   "cell_type": "markdown",
   "id": "4a73c939",
   "metadata": {
    "id": "7958f7ec-45a0-4deb-bb79-3daa756dbcca"
   },
   "source": [
    "1.10. Create a copy of the dataset generated in the first project that only has the following columns (and player id as an index) and name it mv_regression_df:\n",
    "\n",
    "[\"PTS\", \"REB\", \"AST\", \"BLK\", \"SEASON_EXP\", \"POSITION\", \"DRAFT_NUMBER\", \"SALARY\"]"
   ]
  },
  {
   "cell_type": "code",
   "execution_count": 19,
   "id": "2fc6628e",
   "metadata": {
    "id": "64b265b4-d4e5-40a6-a9c3-cce920ecaa1b",
    "vscode": {
     "languageId": "python"
    }
   },
   "outputs": [],
   "source": [
    "# TODO: Complete here\n",
    "mv_regression_df = data[[\"PERSON_ID\",\"PTS\", \"REB\", \"AST\", \"BLK\", \"SEASON_EXP\", \"POSITION\", \"DRAFT_NUMBER\", \"SALARY\"]].copy(deep = True)\n",
    "mv_regression_df.set_index('PERSON_ID',inplace=True)"
   ]
  },
  {
   "cell_type": "markdown",
   "id": "af3cc284",
   "metadata": {
    "id": "tMQzDak1Nk2i"
   },
   "source": [
    "*Don't change anything in this cell, just make it run correctly*"
   ]
  },
  {
   "cell_type": "code",
   "execution_count": 20,
   "id": "1cca1c84",
   "metadata": {
    "id": "l_gK5RQvJC0V",
    "vscode": {
     "languageId": "python"
    }
   },
   "outputs": [
    {
     "name": "stdout",
     "output_type": "stream",
     "text": [
      "Success!\n"
     ]
    }
   ],
   "source": [
    "if mv_regression_df.shape == (429, 8):\n",
    "  print('Success!')\n",
    "else:\n",
    "  raise ValueError('The shape is incorrect, please review your function')"
   ]
  },
  {
   "cell_type": "markdown",
   "id": "f73a9784",
   "metadata": {
    "id": "4865eb6e-d85d-4283-a67c-93df46a5b72e"
   },
   "source": [
    "#### Feature Engineering"
   ]
  },
  {
   "cell_type": "markdown",
   "id": "cce62396",
   "metadata": {
    "id": "ec9b71e8-57aa-405a-8b3b-b0585a45d64d"
   },
   "source": [
    "1.11. Binning the DRAFT_NUMBER feature. Draft position directly impacts salaries during the first few years, but second round players and undrafted players don't have guaranteed contracts. So we're gonna divide the bins like this: \n",
    "\n",
    "       - 1 to 15: firstround_lottery\n",
    "       - 15 to 30: firstround_non_lottery\n",
    "       - 30 to 60: second_round\n",
    "       - Undrafted,[np.NaN]: undrafted\n",
    "       \n",
    "Create a new column named DRAFT using these 4 categories. Drop the draft number column."
   ]
  },
  {
   "cell_type": "code",
   "execution_count": 21,
   "id": "14d42d27",
   "metadata": {
    "id": "3ea6afa9-7df8-446c-b134-c832f3ca27b7",
    "vscode": {
     "languageId": "python"
    }
   },
   "outputs": [
    {
     "data": {
      "text/html": [
       "<div>\n",
       "<style scoped>\n",
       "    .dataframe tbody tr th:only-of-type {\n",
       "        vertical-align: middle;\n",
       "    }\n",
       "\n",
       "    .dataframe tbody tr th {\n",
       "        vertical-align: top;\n",
       "    }\n",
       "\n",
       "    .dataframe thead th {\n",
       "        text-align: right;\n",
       "    }\n",
       "</style>\n",
       "<table border=\"1\" class=\"dataframe\">\n",
       "  <thead>\n",
       "    <tr style=\"text-align: right;\">\n",
       "      <th></th>\n",
       "      <th>PTS</th>\n",
       "      <th>REB</th>\n",
       "      <th>AST</th>\n",
       "      <th>BLK</th>\n",
       "      <th>SEASON_EXP</th>\n",
       "      <th>POSITION</th>\n",
       "      <th>SALARY</th>\n",
       "      <th>DRAFT</th>\n",
       "    </tr>\n",
       "    <tr>\n",
       "      <th>PERSON_ID</th>\n",
       "      <th></th>\n",
       "      <th></th>\n",
       "      <th></th>\n",
       "      <th></th>\n",
       "      <th></th>\n",
       "      <th></th>\n",
       "      <th></th>\n",
       "      <th></th>\n",
       "    </tr>\n",
       "  </thead>\n",
       "  <tbody>\n",
       "    <tr>\n",
       "      <th>1630173</th>\n",
       "      <td>7.2</td>\n",
       "      <td>5.1</td>\n",
       "      <td>0.8</td>\n",
       "      <td>0.5</td>\n",
       "      <td>2</td>\n",
       "      <td>Forward</td>\n",
       "      <td>2711280</td>\n",
       "      <td>firstround_non_lottery</td>\n",
       "    </tr>\n",
       "    <tr>\n",
       "      <th>203500</th>\n",
       "      <td>9.3</td>\n",
       "      <td>8.0</td>\n",
       "      <td>1.5</td>\n",
       "      <td>0.9</td>\n",
       "      <td>9</td>\n",
       "      <td>Center</td>\n",
       "      <td>17073171</td>\n",
       "      <td>firstround_lottery</td>\n",
       "    </tr>\n",
       "    <tr>\n",
       "      <th>1628389</th>\n",
       "      <td>13.5</td>\n",
       "      <td>8.3</td>\n",
       "      <td>3.5</td>\n",
       "      <td>0.9</td>\n",
       "      <td>5</td>\n",
       "      <td>Center</td>\n",
       "      <td>28103550</td>\n",
       "      <td>firstround_lottery</td>\n",
       "    </tr>\n",
       "    <tr>\n",
       "      <th>1630583</th>\n",
       "      <td>4.1</td>\n",
       "      <td>2.7</td>\n",
       "      <td>0.7</td>\n",
       "      <td>0.3</td>\n",
       "      <td>1</td>\n",
       "      <td>Forward</td>\n",
       "      <td>1994520</td>\n",
       "      <td>firstround_non_lottery</td>\n",
       "    </tr>\n",
       "    <tr>\n",
       "      <th>200746</th>\n",
       "      <td>19.1</td>\n",
       "      <td>8.1</td>\n",
       "      <td>1.9</td>\n",
       "      <td>1.1</td>\n",
       "      <td>16</td>\n",
       "      <td>Center</td>\n",
       "      <td>2641691</td>\n",
       "      <td>firstround_lottery</td>\n",
       "    </tr>\n",
       "    <tr>\n",
       "      <th>...</th>\n",
       "      <td>...</td>\n",
       "      <td>...</td>\n",
       "      <td>...</td>\n",
       "      <td>...</td>\n",
       "      <td>...</td>\n",
       "      <td>...</td>\n",
       "      <td>...</td>\n",
       "      <td>...</td>\n",
       "    </tr>\n",
       "    <tr>\n",
       "      <th>1626153</th>\n",
       "      <td>7.2</td>\n",
       "      <td>3.2</td>\n",
       "      <td>3.0</td>\n",
       "      <td>0.4</td>\n",
       "      <td>7</td>\n",
       "      <td>Guard</td>\n",
       "      <td>8526316</td>\n",
       "      <td>firstround_non_lottery</td>\n",
       "    </tr>\n",
       "    <tr>\n",
       "      <th>201152</th>\n",
       "      <td>12.8</td>\n",
       "      <td>5.8</td>\n",
       "      <td>1.8</td>\n",
       "      <td>0.4</td>\n",
       "      <td>15</td>\n",
       "      <td>Forward</td>\n",
       "      <td>14190000</td>\n",
       "      <td>firstround_lottery</td>\n",
       "    </tr>\n",
       "    <tr>\n",
       "      <th>1629027</th>\n",
       "      <td>25.3</td>\n",
       "      <td>3.9</td>\n",
       "      <td>9.1</td>\n",
       "      <td>0.2</td>\n",
       "      <td>4</td>\n",
       "      <td>Guard</td>\n",
       "      <td>8326471</td>\n",
       "      <td>firstround_lottery</td>\n",
       "    </tr>\n",
       "    <tr>\n",
       "      <th>1630209</th>\n",
       "      <td>5.3</td>\n",
       "      <td>5.3</td>\n",
       "      <td>0.9</td>\n",
       "      <td>0.4</td>\n",
       "      <td>1</td>\n",
       "      <td>Center</td>\n",
       "      <td>1489065</td>\n",
       "      <td>undrafted</td>\n",
       "    </tr>\n",
       "    <tr>\n",
       "      <th>1627826</th>\n",
       "      <td>8.3</td>\n",
       "      <td>6.5</td>\n",
       "      <td>1.1</td>\n",
       "      <td>0.8</td>\n",
       "      <td>6</td>\n",
       "      <td>Center</td>\n",
       "      <td>7518518</td>\n",
       "      <td>second_round</td>\n",
       "    </tr>\n",
       "  </tbody>\n",
       "</table>\n",
       "<p>429 rows × 8 columns</p>\n",
       "</div>"
      ],
      "text/plain": [
       "            PTS  REB  AST  BLK  SEASON_EXP POSITION    SALARY  \\\n",
       "PERSON_ID                                                       \n",
       "1630173     7.2  5.1  0.8  0.5           2  Forward   2711280   \n",
       "203500      9.3  8.0  1.5  0.9           9   Center  17073171   \n",
       "1628389    13.5  8.3  3.5  0.9           5   Center  28103550   \n",
       "1630583     4.1  2.7  0.7  0.3           1  Forward   1994520   \n",
       "200746     19.1  8.1  1.9  1.1          16   Center   2641691   \n",
       "...         ...  ...  ...  ...         ...      ...       ...   \n",
       "1626153     7.2  3.2  3.0  0.4           7    Guard   8526316   \n",
       "201152     12.8  5.8  1.8  0.4          15  Forward  14190000   \n",
       "1629027    25.3  3.9  9.1  0.2           4    Guard   8326471   \n",
       "1630209     5.3  5.3  0.9  0.4           1   Center   1489065   \n",
       "1627826     8.3  6.5  1.1  0.8           6   Center   7518518   \n",
       "\n",
       "                            DRAFT  \n",
       "PERSON_ID                          \n",
       "1630173    firstround_non_lottery  \n",
       "203500         firstround_lottery  \n",
       "1628389        firstround_lottery  \n",
       "1630583    firstround_non_lottery  \n",
       "200746         firstround_lottery  \n",
       "...                           ...  \n",
       "1626153    firstround_non_lottery  \n",
       "201152         firstround_lottery  \n",
       "1629027        firstround_lottery  \n",
       "1630209                 undrafted  \n",
       "1627826              second_round  \n",
       "\n",
       "[429 rows x 8 columns]"
      ]
     },
     "execution_count": 21,
     "metadata": {},
     "output_type": "execute_result"
    }
   ],
   "source": [
    "bins = [1,15,30,60, np.inf]\n",
    "cat_names = ['firstround_lottery', 'firstround_non_lottery', 'second_round', 'undrafted']\n",
    "\n",
    "\n",
    "# New DRAFT columns and pre-processing\n",
    "mv_regression_df['DRAFT'] = mv_regression_df.DRAFT_NUMBER.replace(['Undrafted', np.NaN], '1000')\n",
    "mv_regression_df.DRAFT= mv_regression_df.DRAFT.astype('uint16')\n",
    "\n",
    "# Cut into bins\n",
    "mv_regression_df.DRAFT = pd.cut(mv_regression_df.DRAFT, bins, labels = cat_names)\n",
    "\n",
    "# Drop DRAFT_NUMBER\n",
    "mv_regression_df = mv_regression_df.drop( columns = ['DRAFT_NUMBER'])\n",
    "\n",
    "# Rearrange columns (SALARY at last)\n",
    "cols_mv = mv_regression_df.columns.tolist()\n",
    "cols_mv = cols_mv[:-2] + [cols_mv[-1]] + [cols_mv[-2]]\n",
    "\n",
    "mv_regression_df"
   ]
  },
  {
   "cell_type": "markdown",
   "id": "f17b6182",
   "metadata": {
    "id": "TcTtv0OoN9Ov"
   },
   "source": [
    "*Don't change anything in this cell, just make it run correctly*"
   ]
  },
  {
   "cell_type": "code",
   "execution_count": 22,
   "id": "962d23fa",
   "metadata": {
    "id": "E0mxpgq9K_eJ",
    "vscode": {
     "languageId": "python"
    }
   },
   "outputs": [
    {
     "name": "stdout",
     "output_type": "stream",
     "text": [
      "Success!\n"
     ]
    }
   ],
   "source": [
    "if mv_regression_df[\"DRAFT\"].iloc[34] == 'firstround_lottery' and mv_regression_df[\"DRAFT\"].iloc[105] == 'second_round':\n",
    "  print('Success!')\n",
    "else:\n",
    "  raise ValueError('The draft categories are incorrect, please review your function')"
   ]
  },
  {
   "cell_type": "markdown",
   "id": "061a8705",
   "metadata": {
    "id": "37a55237-cb04-4c38-bef3-8c363f9dbe5c"
   },
   "source": [
    "1.12. Encode the categorical features: DRAFT, POSITION"
   ]
  },
  {
   "cell_type": "code",
   "execution_count": 23,
   "id": "be693933",
   "metadata": {
    "id": "c565394e-5d44-4418-a33b-eaa801062dbc",
    "vscode": {
     "languageId": "python"
    }
   },
   "outputs": [],
   "source": [
    "mv_regression_df_encoded = pd.get_dummies(mv_regression_df, columns= ['DRAFT', 'POSITION'])"
   ]
  },
  {
   "cell_type": "markdown",
   "id": "06038a05",
   "metadata": {
    "id": "0kqplv_vO4H3"
   },
   "source": [
    "*Don't change anything in this cell, just make it run correctly*"
   ]
  },
  {
   "cell_type": "code",
   "execution_count": 24,
   "id": "5239543a",
   "metadata": {
    "id": "RvdSf5VcO5Y1",
    "vscode": {
     "languageId": "python"
    }
   },
   "outputs": [
    {
     "name": "stdout",
     "output_type": "stream",
     "text": [
      "Success!\n"
     ]
    },
    {
     "data": {
      "text/html": [
       "<div>\n",
       "<style scoped>\n",
       "    .dataframe tbody tr th:only-of-type {\n",
       "        vertical-align: middle;\n",
       "    }\n",
       "\n",
       "    .dataframe tbody tr th {\n",
       "        vertical-align: top;\n",
       "    }\n",
       "\n",
       "    .dataframe thead th {\n",
       "        text-align: right;\n",
       "    }\n",
       "</style>\n",
       "<table border=\"1\" class=\"dataframe\">\n",
       "  <thead>\n",
       "    <tr style=\"text-align: right;\">\n",
       "      <th></th>\n",
       "      <th>PTS</th>\n",
       "      <th>REB</th>\n",
       "      <th>AST</th>\n",
       "      <th>BLK</th>\n",
       "      <th>SEASON_EXP</th>\n",
       "      <th>SALARY</th>\n",
       "      <th>DRAFT_firstround_lottery</th>\n",
       "      <th>DRAFT_firstround_non_lottery</th>\n",
       "      <th>DRAFT_second_round</th>\n",
       "      <th>DRAFT_undrafted</th>\n",
       "      <th>POSITION_Center</th>\n",
       "      <th>POSITION_Forward</th>\n",
       "      <th>POSITION_Guard</th>\n",
       "    </tr>\n",
       "    <tr>\n",
       "      <th>PERSON_ID</th>\n",
       "      <th></th>\n",
       "      <th></th>\n",
       "      <th></th>\n",
       "      <th></th>\n",
       "      <th></th>\n",
       "      <th></th>\n",
       "      <th></th>\n",
       "      <th></th>\n",
       "      <th></th>\n",
       "      <th></th>\n",
       "      <th></th>\n",
       "      <th></th>\n",
       "      <th></th>\n",
       "    </tr>\n",
       "  </thead>\n",
       "  <tbody>\n",
       "    <tr>\n",
       "      <th>1630173</th>\n",
       "      <td>7.2</td>\n",
       "      <td>5.1</td>\n",
       "      <td>0.8</td>\n",
       "      <td>0.5</td>\n",
       "      <td>2</td>\n",
       "      <td>2711280</td>\n",
       "      <td>0</td>\n",
       "      <td>1</td>\n",
       "      <td>0</td>\n",
       "      <td>0</td>\n",
       "      <td>0</td>\n",
       "      <td>1</td>\n",
       "      <td>0</td>\n",
       "    </tr>\n",
       "    <tr>\n",
       "      <th>203500</th>\n",
       "      <td>9.3</td>\n",
       "      <td>8.0</td>\n",
       "      <td>1.5</td>\n",
       "      <td>0.9</td>\n",
       "      <td>9</td>\n",
       "      <td>17073171</td>\n",
       "      <td>1</td>\n",
       "      <td>0</td>\n",
       "      <td>0</td>\n",
       "      <td>0</td>\n",
       "      <td>1</td>\n",
       "      <td>0</td>\n",
       "      <td>0</td>\n",
       "    </tr>\n",
       "    <tr>\n",
       "      <th>1628389</th>\n",
       "      <td>13.5</td>\n",
       "      <td>8.3</td>\n",
       "      <td>3.5</td>\n",
       "      <td>0.9</td>\n",
       "      <td>5</td>\n",
       "      <td>28103550</td>\n",
       "      <td>1</td>\n",
       "      <td>0</td>\n",
       "      <td>0</td>\n",
       "      <td>0</td>\n",
       "      <td>1</td>\n",
       "      <td>0</td>\n",
       "      <td>0</td>\n",
       "    </tr>\n",
       "    <tr>\n",
       "      <th>1630583</th>\n",
       "      <td>4.1</td>\n",
       "      <td>2.7</td>\n",
       "      <td>0.7</td>\n",
       "      <td>0.3</td>\n",
       "      <td>1</td>\n",
       "      <td>1994520</td>\n",
       "      <td>0</td>\n",
       "      <td>1</td>\n",
       "      <td>0</td>\n",
       "      <td>0</td>\n",
       "      <td>0</td>\n",
       "      <td>1</td>\n",
       "      <td>0</td>\n",
       "    </tr>\n",
       "    <tr>\n",
       "      <th>200746</th>\n",
       "      <td>19.1</td>\n",
       "      <td>8.1</td>\n",
       "      <td>1.9</td>\n",
       "      <td>1.1</td>\n",
       "      <td>16</td>\n",
       "      <td>2641691</td>\n",
       "      <td>1</td>\n",
       "      <td>0</td>\n",
       "      <td>0</td>\n",
       "      <td>0</td>\n",
       "      <td>1</td>\n",
       "      <td>0</td>\n",
       "      <td>0</td>\n",
       "    </tr>\n",
       "  </tbody>\n",
       "</table>\n",
       "</div>"
      ],
      "text/plain": [
       "            PTS  REB  AST  BLK  SEASON_EXP    SALARY  \\\n",
       "PERSON_ID                                              \n",
       "1630173     7.2  5.1  0.8  0.5           2   2711280   \n",
       "203500      9.3  8.0  1.5  0.9           9  17073171   \n",
       "1628389    13.5  8.3  3.5  0.9           5  28103550   \n",
       "1630583     4.1  2.7  0.7  0.3           1   1994520   \n",
       "200746     19.1  8.1  1.9  1.1          16   2641691   \n",
       "\n",
       "           DRAFT_firstround_lottery  DRAFT_firstround_non_lottery  \\\n",
       "PERSON_ID                                                           \n",
       "1630173                           0                             1   \n",
       "203500                            1                             0   \n",
       "1628389                           1                             0   \n",
       "1630583                           0                             1   \n",
       "200746                            1                             0   \n",
       "\n",
       "           DRAFT_second_round  DRAFT_undrafted  POSITION_Center  \\\n",
       "PERSON_ID                                                         \n",
       "1630173                     0                0                0   \n",
       "203500                      0                0                1   \n",
       "1628389                     0                0                1   \n",
       "1630583                     0                0                0   \n",
       "200746                      0                0                1   \n",
       "\n",
       "           POSITION_Forward  POSITION_Guard  \n",
       "PERSON_ID                                    \n",
       "1630173                   1               0  \n",
       "203500                    0               0  \n",
       "1628389                   0               0  \n",
       "1630583                   1               0  \n",
       "200746                    0               0  "
      ]
     },
     "execution_count": 24,
     "metadata": {},
     "output_type": "execute_result"
    }
   ],
   "source": [
    "if mv_regression_df_encoded[\"DRAFT_firstround_non_lottery\"].iloc[134] == 1 and mv_regression_df_encoded[\"POSITION_Forward\"].iloc[205] == 0:\n",
    "  print('Success!')\n",
    "else:\n",
    "  raise ValueError('The draft categories are incorrect, please review your function')\n",
    "mv_regression_df_encoded.head()"
   ]
  },
  {
   "cell_type": "markdown",
   "id": "7477f30e",
   "metadata": {
    "id": "9816d9d4-b44d-4bb7-9cad-156daee9dc50"
   },
   "source": [
    "#### Modeling"
   ]
  },
  {
   "cell_type": "markdown",
   "id": "a98b1533",
   "metadata": {
    "id": "1eb528f1-852e-428e-b97c-40b412985f98"
   },
   "source": [
    "1.13. Split the dataset into train and test. \n",
    "\n",
    "\n",
    "**Note 1:** Before using scikit-learn `train_test_split()`, separate your dataframe into features and labels. Assign your features to `X` variable and labels to `y`.\n",
    "\n",
    "**Note 2:** Remember to drop `DRAFT_NUMBER` column if you haven't done that before"
   ]
  },
  {
   "cell_type": "code",
   "execution_count": 25,
   "id": "bc20d149",
   "metadata": {
    "id": "7696efd0-94f8-49ce-846f-4fd24a01b0fd",
    "vscode": {
     "languageId": "python"
    }
   },
   "outputs": [],
   "source": [
    "# TODO: Put here your features\n",
    "X_mult = mv_regression_df_encoded.drop(columns= ['SALARY'])\n",
    "# TODO: Put here your labels\n",
    "y_mult = mv_regression_df_encoded.SALARY\n",
    "\n",
    "# TODO: Now use train_test_split()\n",
    "X_train_mult, X_test_mult, y_train_mult, y_test_mult = train_test_split(X_mult,y_mult, train_size = 0.8, random_state = 42)"
   ]
  },
  {
   "cell_type": "markdown",
   "id": "9242b7fe",
   "metadata": {
    "id": "O_hN_VyuQhxt"
   },
   "source": [
    "*Don't change anything in this cell, just make it run correctly*"
   ]
  },
  {
   "cell_type": "code",
   "execution_count": 26,
   "id": "4591d197",
   "metadata": {
    "id": "R9r19mhiQiJh",
    "vscode": {
     "languageId": "python"
    }
   },
   "outputs": [
    {
     "name": "stdout",
     "output_type": "stream",
     "text": [
      "Success!\n"
     ]
    }
   ],
   "source": [
    "if X_mult.BLK.iloc[353] == 0.1 and y_mult.iloc[400] == 8729020:\n",
    "  print('Success!')\n",
    "else:\n",
    "  raise ValueError('The draft categories are incorrect, please review your function')"
   ]
  },
  {
   "cell_type": "markdown",
   "id": "bfe6bbef",
   "metadata": {
    "id": "b2540df8-ac16-4ad1-b8cf-028f566faa06"
   },
   "source": [
    "1.14. Perform feature scaling in all the numerical features (\"PTS\", \"REB\", \"AST\", \"BLK\", \"SEASON_EXP\") except for draft number (which we will tackle next)."
   ]
  },
  {
   "cell_type": "code",
   "execution_count": 27,
   "id": "940f3c38",
   "metadata": {
    "id": "94c1b356-8f74-4a20-8b9d-9dd61b6e3dec",
    "vscode": {
     "languageId": "python"
    }
   },
   "outputs": [],
   "source": [
    "# Scaling data\n",
    "rob_scaler_mult = RobustScaler()\n",
    "X_train_mult_scaled = rob_scaler_mult.fit_transform(X_train_mult)\n",
    "X_test_mult_scaled = rob_scaler_mult.transform(X_test_mult)"
   ]
  },
  {
   "cell_type": "markdown",
   "id": "d66017d7",
   "metadata": {
    "id": "7790c25a-b516-4e3f-b311-6e5b026bfb80"
   },
   "source": [
    "1.15. Write a function to train a SGDRegressor model with the new dataset, trying different hyperparameters, and selecting the one that performs the best."
   ]
  },
  {
   "cell_type": "code",
   "execution_count": 28,
   "id": "0c7807de",
   "metadata": {
    "id": "7d8642f3-895c-4d8d-85b7-80a087a0adef",
    "vscode": {
     "languageId": "python"
    }
   },
   "outputs": [],
   "source": [
    "def SGD_multi_reg(splitted_data,params_dict):\n",
    "    \n",
    "    ## Regressor model\n",
    "    sgd = SGDRegressor\n",
    "\n",
    "    return search_best_hyperparameters(splitted_data,sgd,params_dict,MAE)\n",
    "    "
   ]
  },
  {
   "cell_type": "code",
   "execution_count": 29,
   "id": "ed59a148",
   "metadata": {
    "vscode": {
     "languageId": "python"
    }
   },
   "outputs": [
    {
     "name": "stdout",
     "output_type": "stream",
     "text": [
      "Params: {'alpha': 0.0001, 'max_iter': 316227.7660168379, 'eta0': 0.1}\n",
      "Best MAE: 4114918\n"
     ]
    }
   ],
   "source": [
    "# We will reutilize parameter set for SingleSGDRegressor\n",
    "params_dict = {'alpha': alpha, 'max_iter':max_iter, 'eta0': eta0}\n",
    "\n",
    "data_mult = (X_train_mult_scaled,X_test_mult_scaled,y_train_mult,y_test_mult) \n",
    "\n",
    "beat_sgd_mult,best_params_mult, best_mae_mult= SGD_multi_reg(data_mult,params_dict)\n",
    "print(f'Params: {best_params_mult}\\nBest MAE: {best_mae_mult:.0f}')"
   ]
  },
  {
   "cell_type": "markdown",
   "id": "4e65820f",
   "metadata": {
    "id": "33d63bc7-448d-40a6-a314-6602c75e2284"
   },
   "source": [
    "1.16. How did the model performed compared to our univariate models? "
   ]
  },
  {
   "cell_type": "code",
   "execution_count": 30,
   "id": "dc834bc1",
   "metadata": {
    "id": "b8dc264b-1fde-4de3-9099-a526210075fa",
    "vscode": {
     "languageId": "python"
    }
   },
   "outputs": [
    {
     "name": "stdout",
     "output_type": "stream",
     "text": [
      "Best single SGDRegressor: 4576212\n",
      "Best MULTI SGDRegressor: 4114918\n"
     ]
    }
   ],
   "source": [
    "print(f\"Best single SGDRegressor: {best_mae_single:.0f}\")\n",
    "print(f\"Best MULTI SGDRegressor: {best_mae_mult:.0f}\")"
   ]
  },
  {
   "cell_type": "markdown",
   "id": "cdc4f7c8",
   "metadata": {
    "id": "e9992197-563b-4a69-9cd7-97fcb9ee3677",
    "tags": []
   },
   "source": [
    "### DecisionTreeRegressor\n",
    "\n",
    "It is possible that this problem might not be easily resolvable by a linear model, or that there could be better types of algorithms to tackle it. As an example, let's try with a very used algorithm, a Decision Tree.\n",
    "\n"
   ]
  },
  {
   "cell_type": "markdown",
   "id": "3ebefaf1",
   "metadata": {
    "id": "61930247-d4b0-4bdf-ad98-a421457e2c4a"
   },
   "source": [
    "1.17. Create new model using [DecisionTreeRegressor](https://scikit-learn.org/stable/auto_examples/tree/plot_tree_regression.html) from scikit learn. We will use again all variables, and try different configuration for the following hyperparameters:\n",
    "\n",
    "- max_depth\n",
    "- min_samples_leaf\n",
    "- max_features\n",
    "\n",
    "These are all regularization hyperparameters for this algorithm. Read the documentation to get a better grasp of what each one does."
   ]
  },
  {
   "cell_type": "code",
   "execution_count": 31,
   "id": "5df22b72",
   "metadata": {
    "id": "d393cdae-c2d7-40a0-a518-19f007edb242",
    "vscode": {
     "languageId": "python"
    }
   },
   "outputs": [],
   "source": [
    "# List of hyperparameter example values\n",
    "max_depth = [5, 10, 15, 20, 50]\n",
    "min_samples_leaf = [2, 10, 20, 50]\n",
    "max_features = [5, 10]"
   ]
  },
  {
   "cell_type": "markdown",
   "id": "b985a764",
   "metadata": {
    "id": "71ef72fc-7386-433c-9725-2055f4016ae9"
   },
   "source": [
    "1.18. Compare the results obtained with the best decision tree model against the baseline, default and the best params sgd regressors-"
   ]
  },
  {
   "cell_type": "code",
   "execution_count": 32,
   "id": "2ff2718c",
   "metadata": {
    "id": "af1084d8-97a4-4618-b4f4-0952e0b39f09",
    "vscode": {
     "languageId": "python"
    }
   },
   "outputs": [],
   "source": [
    "def TreeRegressor(splitted_data,param_dict):\n",
    "    # Estimator\n",
    "    dtree = DecisionTreeRegressor\n",
    " \n",
    "    return search_best_hyperparameters(splitted_data,dtree,param_dict,MAE)\n",
    "    "
   ]
  },
  {
   "cell_type": "code",
   "execution_count": 33,
   "id": "32538d11",
   "metadata": {
    "vscode": {
     "languageId": "python"
    }
   },
   "outputs": [],
   "source": [
    "# Hyperparameters to tune\n",
    "param_dict = {    'max_depth': max_depth, \n",
    "                  'min_samples_leaf': min_samples_leaf,\n",
    "                  'max_features': max_features  }\n",
    "\n",
    "# Data \n",
    "data_tree = data_mult\n",
    "\n",
    "# Getting MAE\n",
    "best_tree_model,best_tree_params,best_mae_tree = TreeRegressor(data_tree,param_dict)"
   ]
  },
  {
   "cell_type": "code",
   "execution_count": 34,
   "id": "e02ce32a",
   "metadata": {
    "vscode": {
     "languageId": "python"
    }
   },
   "outputs": [
    {
     "name": "stdout",
     "output_type": "stream",
     "text": [
      "Best single SGDRegressor: 4576212\n",
      "Best MULTI SGDRegressor: 4114918\n",
      "Best Tree Regressor: 3166155\n"
     ]
    }
   ],
   "source": [
    "print(f\"Best single SGDRegressor: {best_mae_single:.0f}\")\n",
    "print(f\"Best MULTI SGDRegressor: {best_mae_mult:.0f}\")\n",
    "print(f\"Best Tree Regressor: {best_mae_tree:.0f}\")"
   ]
  },
  {
   "cell_type": "markdown",
   "id": "1bd2581e",
   "metadata": {
    "id": "ce424a87-37af-470d-9a14-ec6ae2258eb1"
   },
   "source": [
    "### Analyzing our results"
   ]
  },
  {
   "cell_type": "markdown",
   "id": "d10b45d6",
   "metadata": {
    "id": "ed6c9746-ed98-4075-9a6a-adb24056d217"
   },
   "source": [
    "Based on what you found, and what you read about players salaries above, answer the following: "
   ]
  },
  {
   "cell_type": "markdown",
   "id": "7b81e912",
   "metadata": {
    "id": "e204456d-cb86-47a0-9c3c-6307d8a831fa"
   },
   "source": [
    "1.19. Which kind of model worked better in this dataset, linear or non linear models? Do you have any hypothesis about why? "
   ]
  },
  {
   "cell_type": "markdown",
   "id": "222263a1",
   "metadata": {},
   "source": [
    "**Best Regressor: _>> DecissionTreeClassifier - NON-Linear <<_**\n",
    "\n",
    ">Why? Because the DecissionTreeClassifier is more flexible in the way in fits the data, since it can capture non-linear properties in the data better. This can be seen in the graphic below:\n"
   ]
  },
  {
   "cell_type": "code",
   "execution_count": 35,
   "id": "3d6cf09c",
   "metadata": {
    "id": "7f384324-76df-435c-97f5-57ccfd25157a",
    "vscode": {
     "languageId": "python"
    }
   },
   "outputs": [
    {
     "name": "stdout",
     "output_type": "stream",
     "text": [
      "The plot is not linear like the one before\n"
     ]
    },
    {
     "data": {
      "image/png": "[encoded data removed]",
      "text/plain": [
       "<Figure size 1080x576 with 1 Axes>"
      ]
     },
     "metadata": {},
     "output_type": "display_data"
    }
   ],
   "source": [
    "colors = get_cmap('Set2').colors\n",
    "rob_scaler_tree = RobustScaler()\n",
    "## Ploting the points\n",
    "for col,c in zip(X_mult.loc[:,'PTS':'SEASON_EXP'],colors):\n",
    "    xx = rob_scaler_tree.fit_transform(X_mult[col].values.reshape(-1,1)).ravel()\n",
    "    _ = sns.scatterplot(x = xx,y = y_mult, color = c  , label= str(X_mult[col].name), alpha = .6)\n",
    "\n",
    "# We'll plot the regression line along\n",
    "y_pred_tree = best_tree_model.predict(X_test_mult_scaled)\n",
    "xx = np.linspace(np.min(X_train_mult_scaled),np.max(X_train_mult_scaled),len(y_pred_tree))\n",
    "fig = plt.step(xx,y_pred_tree, color = 'k', label = 'Predicted', alpha = .8)\n",
    "_ = plt.title('SALARY vs General Statistic (Tree)')\n",
    "\n",
    "_ = plt.legend()\n",
    "\n",
    "print('The plot is not linear like the one before')"
   ]
  },
  {
   "cell_type": "markdown",
   "id": "be712821",
   "metadata": {
    "id": "f09e5c20-3f7b-4938-a1b3-34ada990f181"
   },
   "source": [
    "1.20. Is there something else we could do to improve our results if wanted to make a more accurate model?"
   ]
  },
  {
   "cell_type": "markdown",
   "id": "ebb93fb2",
   "metadata": {
    "id": "9epaygXxJH-9"
   },
   "source": [
    "> **_ANSWER:_** \n",
    "* _We could implement other more sophisticated ML algorithms like RandomForestClassifier along with Adaptative or Gradient boosting, which are all Tree-Based models with different architectures and that gives better results overall_\n",
    "* We could include the dummy features (one-hot encoded) that we created before"
   ]
  },
  {
   "cell_type": "markdown",
   "id": "622c82ff",
   "metadata": {
    "id": "25e23c2a-a0bf-4d39-bc1b-9524107f3a02",
    "tags": []
   },
   "source": [
    "## 2. Predicting players All-NBA selections"
   ]
  },
  {
   "cell_type": "markdown",
   "id": "321437ff",
   "metadata": {
    "id": "26cd4fec-1b8b-4bfc-8024-dcdd5b8b803a"
   },
   "source": [
    "In this section we're going to try to solve a different question:\n",
    "\n",
    "Can we train a model to predict which players are going to be selected to ALL-NBA teams at the end of the season? This is a [binary classification](https://en.wikipedia.org/wiki/Binary_classification) task, so we're training our first classifier model to solve this problem.\n",
    "\n",
    "Consider that:\n",
    "\n",
    "- Being selected as part of the [All-NBA teams](https://en.wikipedia.org/wiki/All-NBA_Team) is different than being selected for [All-Star Game](https://en.wikipedia.org/wiki/NBA_All-Star_Game). \n",
    "- You're trying to predict All-NBA selections, which takes place after the regular season but before playoffs start, so we're only going to use players and teams statistics about the regular season (you're not going to consider if the players got to the NBA finals for example). \n",
    "- All Star game takes place at the middle point of the regular season, players are selected based on partial season performance, and the general public has 50% of the votes, so it is also a more popularity-based award.\n",
    "- All-NBA teams are divided in first, second and third teams of 5 players each, divided by position: 2 front court players (guards), 2 backcourt players (forwards) and 1 center.\n",
    "- As only 15 players are selected to All-NBA teams each year (out of more than 400 qualifying players), our dataset is going to be imbalanced. You're going to have to find a good strategy to deal with this inbalance."
   ]
  },
  {
   "cell_type": "markdown",
   "id": "3f3d1227",
   "metadata": {
    "id": "ef2353fa-10d7-48d1-85d7-f8743ee86698"
   },
   "source": [
    "### Analyzing the data"
   ]
  },
  {
   "cell_type": "markdown",
   "id": "1e2e028c",
   "metadata": {
    "id": "d4159ce5-fec3-48bb-93c5-058f2cbb55c5"
   },
   "source": [
    "To do this task, you're going to need historical information about All-NBA selections. We'll use a dataset that contains information about players from season starting in 1983 and ending in the 2018-2019 season.\n",
    "The dataset contains statistics for all players, and a column named \"all-nba\" that is going to be our target variable, 1 means the player was selected to an All-NBA team that season.\n"
   ]
  },
  {
   "cell_type": "markdown",
   "id": "6bce0135",
   "metadata": {
    "id": "e6d64103-d6b5-4544-8ca5-81f99c937d73"
   },
   "source": [
    "2.1. Load the dataset \"all_nba_1983_2017_dataset.csv\" from disk, look at the data inside it and print:\n",
    "- number of rows\n",
    "- number of seasons\n",
    "- number of unique players\n",
    "- number of all-nba selections vs non selected "
   ]
  },
  {
   "cell_type": "code",
   "execution_count": 36,
   "id": "1249aa3c",
   "metadata": {
    "id": "bb6725f6-418d-4159-b046-3bf33a8ead0b",
    "vscode": {
     "languageId": "python"
    }
   },
   "outputs": [
    {
     "data": {
      "text/html": [
       "<div>\n",
       "<style scoped>\n",
       "    .dataframe tbody tr th:only-of-type {\n",
       "        vertical-align: middle;\n",
       "    }\n",
       "\n",
       "    .dataframe tbody tr th {\n",
       "        vertical-align: top;\n",
       "    }\n",
       "\n",
       "    .dataframe thead th {\n",
       "        text-align: right;\n",
       "    }\n",
       "</style>\n",
       "<table border=\"1\" class=\"dataframe\">\n",
       "  <thead>\n",
       "    <tr style=\"text-align: right;\">\n",
       "      <th></th>\n",
       "      <th>season_id</th>\n",
       "      <th>player_id</th>\n",
       "      <th>player_season</th>\n",
       "      <th>player</th>\n",
       "      <th>season</th>\n",
       "      <th>season_start</th>\n",
       "      <th>team</th>\n",
       "      <th>games</th>\n",
       "      <th>gamesstarted</th>\n",
       "      <th>mp</th>\n",
       "      <th>...</th>\n",
       "      <th>2p_perc</th>\n",
       "      <th>ft_perc</th>\n",
       "      <th>trb</th>\n",
       "      <th>ast</th>\n",
       "      <th>stl</th>\n",
       "      <th>blk</th>\n",
       "      <th>tov</th>\n",
       "      <th>pf</th>\n",
       "      <th>pts</th>\n",
       "      <th>all_nba</th>\n",
       "    </tr>\n",
       "  </thead>\n",
       "  <tbody>\n",
       "    <tr>\n",
       "      <th>0</th>\n",
       "      <td>0</td>\n",
       "      <td>0</td>\n",
       "      <td>1</td>\n",
       "      <td>Alaa Abdelnaby</td>\n",
       "      <td>1990-91</td>\n",
       "      <td>1990</td>\n",
       "      <td>POR</td>\n",
       "      <td>43</td>\n",
       "      <td>0</td>\n",
       "      <td>6.7</td>\n",
       "      <td>...</td>\n",
       "      <td>0.474</td>\n",
       "      <td>0.568</td>\n",
       "      <td>2.1</td>\n",
       "      <td>0.3</td>\n",
       "      <td>0.1</td>\n",
       "      <td>0.3</td>\n",
       "      <td>0.5</td>\n",
       "      <td>0.9</td>\n",
       "      <td>3.1</td>\n",
       "      <td>0</td>\n",
       "    </tr>\n",
       "    <tr>\n",
       "      <th>1</th>\n",
       "      <td>1</td>\n",
       "      <td>0</td>\n",
       "      <td>2</td>\n",
       "      <td>Alaa Abdelnaby</td>\n",
       "      <td>1991-92</td>\n",
       "      <td>1991</td>\n",
       "      <td>POR</td>\n",
       "      <td>71</td>\n",
       "      <td>1</td>\n",
       "      <td>13.2</td>\n",
       "      <td>...</td>\n",
       "      <td>0.493</td>\n",
       "      <td>0.752</td>\n",
       "      <td>3.7</td>\n",
       "      <td>0.4</td>\n",
       "      <td>0.4</td>\n",
       "      <td>0.2</td>\n",
       "      <td>0.9</td>\n",
       "      <td>1.9</td>\n",
       "      <td>6.1</td>\n",
       "      <td>0</td>\n",
       "    </tr>\n",
       "    <tr>\n",
       "      <th>2</th>\n",
       "      <td>2</td>\n",
       "      <td>0</td>\n",
       "      <td>3</td>\n",
       "      <td>Alaa Abdelnaby</td>\n",
       "      <td>1992-93</td>\n",
       "      <td>1992</td>\n",
       "      <td>TOT</td>\n",
       "      <td>75</td>\n",
       "      <td>52</td>\n",
       "      <td>17.5</td>\n",
       "      <td>...</td>\n",
       "      <td>0.519</td>\n",
       "      <td>0.759</td>\n",
       "      <td>4.5</td>\n",
       "      <td>0.4</td>\n",
       "      <td>0.3</td>\n",
       "      <td>0.3</td>\n",
       "      <td>1.3</td>\n",
       "      <td>2.5</td>\n",
       "      <td>7.7</td>\n",
       "      <td>0</td>\n",
       "    </tr>\n",
       "    <tr>\n",
       "      <th>3</th>\n",
       "      <td>3</td>\n",
       "      <td>0</td>\n",
       "      <td>4</td>\n",
       "      <td>Alaa Abdelnaby</td>\n",
       "      <td>1993-94</td>\n",
       "      <td>1993</td>\n",
       "      <td>BOS</td>\n",
       "      <td>13</td>\n",
       "      <td>0</td>\n",
       "      <td>12.2</td>\n",
       "      <td>...</td>\n",
       "      <td>0.436</td>\n",
       "      <td>0.640</td>\n",
       "      <td>3.5</td>\n",
       "      <td>0.2</td>\n",
       "      <td>0.2</td>\n",
       "      <td>0.2</td>\n",
       "      <td>1.3</td>\n",
       "      <td>1.5</td>\n",
       "      <td>4.9</td>\n",
       "      <td>0</td>\n",
       "    </tr>\n",
       "    <tr>\n",
       "      <th>4</th>\n",
       "      <td>4</td>\n",
       "      <td>0</td>\n",
       "      <td>5</td>\n",
       "      <td>Alaa Abdelnaby</td>\n",
       "      <td>1994-95</td>\n",
       "      <td>1994</td>\n",
       "      <td>TOT</td>\n",
       "      <td>54</td>\n",
       "      <td>0</td>\n",
       "      <td>9.4</td>\n",
       "      <td>...</td>\n",
       "      <td>0.515</td>\n",
       "      <td>0.571</td>\n",
       "      <td>2.1</td>\n",
       "      <td>0.2</td>\n",
       "      <td>0.3</td>\n",
       "      <td>0.2</td>\n",
       "      <td>0.8</td>\n",
       "      <td>1.9</td>\n",
       "      <td>4.7</td>\n",
       "      <td>0</td>\n",
       "    </tr>\n",
       "    <tr>\n",
       "      <th>...</th>\n",
       "      <td>...</td>\n",
       "      <td>...</td>\n",
       "      <td>...</td>\n",
       "      <td>...</td>\n",
       "      <td>...</td>\n",
       "      <td>...</td>\n",
       "      <td>...</td>\n",
       "      <td>...</td>\n",
       "      <td>...</td>\n",
       "      <td>...</td>\n",
       "      <td>...</td>\n",
       "      <td>...</td>\n",
       "      <td>...</td>\n",
       "      <td>...</td>\n",
       "      <td>...</td>\n",
       "      <td>...</td>\n",
       "      <td>...</td>\n",
       "      <td>...</td>\n",
       "      <td>...</td>\n",
       "      <td>...</td>\n",
       "      <td>...</td>\n",
       "    </tr>\n",
       "    <tr>\n",
       "      <th>14820</th>\n",
       "      <td>15348</td>\n",
       "      <td>2817</td>\n",
       "      <td>2</td>\n",
       "      <td>Paul Zipser</td>\n",
       "      <td>2017-18</td>\n",
       "      <td>2017</td>\n",
       "      <td>CHI</td>\n",
       "      <td>54</td>\n",
       "      <td>12</td>\n",
       "      <td>15.3</td>\n",
       "      <td>...</td>\n",
       "      <td>0.355</td>\n",
       "      <td>0.760</td>\n",
       "      <td>2.4</td>\n",
       "      <td>0.9</td>\n",
       "      <td>0.4</td>\n",
       "      <td>0.3</td>\n",
       "      <td>0.8</td>\n",
       "      <td>1.6</td>\n",
       "      <td>4.0</td>\n",
       "      <td>0</td>\n",
       "    </tr>\n",
       "    <tr>\n",
       "      <th>14821</th>\n",
       "      <td>15349</td>\n",
       "      <td>2818</td>\n",
       "      <td>1</td>\n",
       "      <td>Ante Zizic</td>\n",
       "      <td>2017-18</td>\n",
       "      <td>2017</td>\n",
       "      <td>CLE</td>\n",
       "      <td>32</td>\n",
       "      <td>2</td>\n",
       "      <td>6.7</td>\n",
       "      <td>...</td>\n",
       "      <td>0.731</td>\n",
       "      <td>0.724</td>\n",
       "      <td>1.9</td>\n",
       "      <td>0.2</td>\n",
       "      <td>0.1</td>\n",
       "      <td>0.4</td>\n",
       "      <td>0.3</td>\n",
       "      <td>0.9</td>\n",
       "      <td>3.7</td>\n",
       "      <td>0</td>\n",
       "    </tr>\n",
       "    <tr>\n",
       "      <th>14822</th>\n",
       "      <td>15351</td>\n",
       "      <td>2819</td>\n",
       "      <td>1</td>\n",
       "      <td>Jim Zoet</td>\n",
       "      <td>1982-83</td>\n",
       "      <td>1982</td>\n",
       "      <td>DET</td>\n",
       "      <td>7</td>\n",
       "      <td>0</td>\n",
       "      <td>4.3</td>\n",
       "      <td>...</td>\n",
       "      <td>0.200</td>\n",
       "      <td>0.000</td>\n",
       "      <td>1.1</td>\n",
       "      <td>0.1</td>\n",
       "      <td>0.1</td>\n",
       "      <td>0.4</td>\n",
       "      <td>0.6</td>\n",
       "      <td>1.3</td>\n",
       "      <td>0.3</td>\n",
       "      <td>0</td>\n",
       "    </tr>\n",
       "    <tr>\n",
       "      <th>14823</th>\n",
       "      <td>15352</td>\n",
       "      <td>2820</td>\n",
       "      <td>1</td>\n",
       "      <td>Ivica Zubac</td>\n",
       "      <td>2016-17</td>\n",
       "      <td>2016</td>\n",
       "      <td>LAL</td>\n",
       "      <td>38</td>\n",
       "      <td>11</td>\n",
       "      <td>16.0</td>\n",
       "      <td>...</td>\n",
       "      <td>0.536</td>\n",
       "      <td>0.653</td>\n",
       "      <td>4.2</td>\n",
       "      <td>0.8</td>\n",
       "      <td>0.4</td>\n",
       "      <td>0.9</td>\n",
       "      <td>0.8</td>\n",
       "      <td>1.7</td>\n",
       "      <td>7.5</td>\n",
       "      <td>0</td>\n",
       "    </tr>\n",
       "    <tr>\n",
       "      <th>14824</th>\n",
       "      <td>15353</td>\n",
       "      <td>2820</td>\n",
       "      <td>2</td>\n",
       "      <td>Ivica Zubac</td>\n",
       "      <td>2017-18</td>\n",
       "      <td>2017</td>\n",
       "      <td>LAL</td>\n",
       "      <td>43</td>\n",
       "      <td>0</td>\n",
       "      <td>9.5</td>\n",
       "      <td>...</td>\n",
       "      <td>0.504</td>\n",
       "      <td>0.765</td>\n",
       "      <td>2.9</td>\n",
       "      <td>0.6</td>\n",
       "      <td>0.2</td>\n",
       "      <td>0.3</td>\n",
       "      <td>0.6</td>\n",
       "      <td>1.1</td>\n",
       "      <td>3.7</td>\n",
       "      <td>0</td>\n",
       "    </tr>\n",
       "  </tbody>\n",
       "</table>\n",
       "<p>14825 rows × 22 columns</p>\n",
       "</div>"
      ],
      "text/plain": [
       "       season_id  player_id  player_season          player   season  \\\n",
       "0              0          0              1  Alaa Abdelnaby  1990-91   \n",
       "1              1          0              2  Alaa Abdelnaby  1991-92   \n",
       "2              2          0              3  Alaa Abdelnaby  1992-93   \n",
       "3              3          0              4  Alaa Abdelnaby  1993-94   \n",
       "4              4          0              5  Alaa Abdelnaby  1994-95   \n",
       "...          ...        ...            ...             ...      ...   \n",
       "14820      15348       2817              2     Paul Zipser  2017-18   \n",
       "14821      15349       2818              1      Ante Zizic  2017-18   \n",
       "14822      15351       2819              1        Jim Zoet  1982-83   \n",
       "14823      15352       2820              1     Ivica Zubac  2016-17   \n",
       "14824      15353       2820              2     Ivica Zubac  2017-18   \n",
       "\n",
       "       season_start team  games  gamesstarted    mp  ...  2p_perc  ft_perc  \\\n",
       "0              1990  POR     43             0   6.7  ...    0.474    0.568   \n",
       "1              1991  POR     71             1  13.2  ...    0.493    0.752   \n",
       "2              1992  TOT     75            52  17.5  ...    0.519    0.759   \n",
       "3              1993  BOS     13             0  12.2  ...    0.436    0.640   \n",
       "4              1994  TOT     54             0   9.4  ...    0.515    0.571   \n",
       "...             ...  ...    ...           ...   ...  ...      ...      ...   \n",
       "14820          2017  CHI     54            12  15.3  ...    0.355    0.760   \n",
       "14821          2017  CLE     32             2   6.7  ...    0.731    0.724   \n",
       "14822          1982  DET      7             0   4.3  ...    0.200    0.000   \n",
       "14823          2016  LAL     38            11  16.0  ...    0.536    0.653   \n",
       "14824          2017  LAL     43             0   9.5  ...    0.504    0.765   \n",
       "\n",
       "       trb  ast  stl  blk  tov   pf  pts  all_nba  \n",
       "0      2.1  0.3  0.1  0.3  0.5  0.9  3.1        0  \n",
       "1      3.7  0.4  0.4  0.2  0.9  1.9  6.1        0  \n",
       "2      4.5  0.4  0.3  0.3  1.3  2.5  7.7        0  \n",
       "3      3.5  0.2  0.2  0.2  1.3  1.5  4.9        0  \n",
       "4      2.1  0.2  0.3  0.2  0.8  1.9  4.7        0  \n",
       "...    ...  ...  ...  ...  ...  ...  ...      ...  \n",
       "14820  2.4  0.9  0.4  0.3  0.8  1.6  4.0        0  \n",
       "14821  1.9  0.2  0.1  0.4  0.3  0.9  3.7        0  \n",
       "14822  1.1  0.1  0.1  0.4  0.6  1.3  0.3        0  \n",
       "14823  4.2  0.8  0.4  0.9  0.8  1.7  7.5        0  \n",
       "14824  2.9  0.6  0.2  0.3  0.6  1.1  3.7        0  \n",
       "\n",
       "[14825 rows x 22 columns]"
      ]
     },
     "execution_count": 36,
     "metadata": {},
     "output_type": "execute_result"
    }
   ],
   "source": [
    "all_nba_df = pd.read_csv(\"https://raw.githubusercontent.com/anyoneai/notebooks/main/datasets/all_nba_1983_2017_dataset.csv\", index_col=0)\n",
    "all_nba_df"
   ]
  },
  {
   "cell_type": "code",
   "execution_count": 37,
   "id": "0c1997bc",
   "metadata": {
    "vscode": {
     "languageId": "python"
    }
   },
   "outputs": [
    {
     "name": "stdout",
     "output_type": "stream",
     "text": [
      "Number of records: 14825\n",
      "Number of seasons: 39\n",
      "Number of players(unique): 2701\n",
      "Number of all-nba players selected: (496) vs non-selected: (14329) \n"
     ]
    }
   ],
   "source": [
    "print(f'Number of records: {len(all_nba_df)}')\n",
    "print(f'Number of seasons: {len(all_nba_df.season.unique())}')\n",
    "print(f'Number of players(unique): {len(all_nba_df.player.unique())}')\n",
    "print(f'Number of all-nba players selected: ({len(all_nba_df[all_nba_df.all_nba == 1])}) vs non-selected: ({len(all_nba_df[all_nba_df.all_nba == 0])}) ')\n"
   ]
  },
  {
   "cell_type": "markdown",
   "id": "a1de8533",
   "metadata": {
    "id": "f268db59-8c9e-446b-be19-290e608169d2"
   },
   "source": [
    "### Splitting the dataset"
   ]
  },
  {
   "cell_type": "markdown",
   "id": "ef93d374",
   "metadata": {
    "id": "6b4916b2-e8cf-4e30-a2ac-e1538c2f5cd5"
   },
   "source": [
    "2.2. Split the dataset in training and test sets. Make sure to keep the distribution of values in the target variable.\n",
    "\n",
    "Use columns: 'team', 'games', 'games_started', 'mp', 'fg_perc', '3p_perc',\n",
    "       '2p_perc', 'ft_perc', 'trb', 'ast', 'stl', 'blk', 'tov', 'pf', 'pts','all_nba'.\n",
    "\n",
    "**Note:** Assign your features to `X` variable and labels to `y`.\n",
    "\n"
   ]
  },
  {
   "cell_type": "code",
   "execution_count": 38,
   "id": "0c113090",
   "metadata": {
    "id": "25cfc4ee-98e7-4b84-98d3-80a91fb44912",
    "vscode": {
     "languageId": "python"
    }
   },
   "outputs": [],
   "source": [
    "feat_cols = [ 'team', 'games', 'gamesstarted', 'mp', 'fg_perc', '3p_perc', '2p_perc', 'ft_perc', 'trb', 'ast', 'stl', 'blk', 'tov', 'pf', 'pts']\n",
    "target_col = ['all_nba'] \n",
    "# TODO: Put here your features\n",
    "X_class = all_nba_df[feat_cols].values\n",
    "# TODO: Put here your labels\n",
    "y_class = all_nba_df[target_col].values.reshape(-1,)\n",
    "\n",
    "# TODO: Now use train_test_split()\n",
    "X_train_class, X_test_class, y_train_class, y_test_class = train_test_split(X_class,y_class, train_size = .8, random_state = 42)"
   ]
  },
  {
   "cell_type": "markdown",
   "id": "a84952f8",
   "metadata": {
    "id": "KpgcmrW6JX_d"
   },
   "source": [
    "*Don't change anything in this cell, just make it run correctly*"
   ]
  },
  {
   "cell_type": "code",
   "execution_count": 39,
   "id": "e4b5c7a2",
   "metadata": {
    "id": "N2S6tsHUJXdm",
    "vscode": {
     "languageId": "python"
    }
   },
   "outputs": [
    {
     "name": "stdout",
     "output_type": "stream",
     "text": [
      "Success!\n"
     ]
    }
   ],
   "source": [
    "if X_class.shape == (14825, 15) and y_class.shape == (14825,):\n",
    "  print('Success!')\n",
    "else:\n",
    "  raise ValueError('Your features/labels shape is incorrect, please review your code')"
   ]
  },
  {
   "cell_type": "markdown",
   "id": "aa6089d2",
   "metadata": {
    "id": "7043db6e-da74-4a04-91d9-4dd0cd830f22"
   },
   "source": [
    "### Baseline model and Evaluation Metrics"
   ]
  },
  {
   "cell_type": "markdown",
   "id": "d5956ad6",
   "metadata": {
    "id": "cedaf085-2a23-41ab-a55f-474e2ae6bb9c"
   },
   "source": [
    "In this oportunity we'll define our baseline model as the model we can train with the minimun amount of work on the dataset. For this you're gonna train a [LogisticRegression](https://scikit-learn.org/stable/modules/generated/sklearn.linear_model.LogisticRegression.html) with default parameters, and without doing any preprocessing to our data."
   ]
  },
  {
   "cell_type": "markdown",
   "id": "579e0989",
   "metadata": {
    "id": "67a8999b-2dfe-466b-814c-94ecced9f8dc"
   },
   "source": [
    "2.3. Let's start with a simple test. What accuracy would we get if we had a baseline model that always predicted 0 (player not selected to all nba)?"
   ]
  },
  {
   "cell_type": "code",
   "execution_count": 40,
   "id": "a2bc50d0",
   "metadata": {
    "id": "4aa3bbfb-d2ce-43bc-aea4-f6f7aab0933c",
    "vscode": {
     "languageId": "python"
    }
   },
   "outputs": [
    {
     "name": "stdout",
     "output_type": "stream",
     "text": [
      "Accuracy (train,test): (0.966,0.971)\n"
     ]
    }
   ],
   "source": [
    "def predict_zero():\n",
    "    \n",
    "    train_zeros = np.zeros(y_train_class.shape)\n",
    "    test_zeros = np.zeros(y_test_class.shape)\n",
    "    \n",
    "    return accuracy_score(train_zeros, y_train_class),accuracy_score(test_zeros, y_test_class)\n",
    "\n",
    "train_acc, test_acc = predict_zero()\n",
    "\n",
    "print(f'Accuracy (train,test): ({train_acc:.3f},{test_acc:.3f})')  "
   ]
  },
  {
   "cell_type": "markdown",
   "id": "7f503cdf",
   "metadata": {
    "id": "a7f436a6-d3fe-4ead-8c09-b450d850b36f"
   },
   "source": [
    "2.4. What does this tells us about the data and the use of accuracy as an evaluation metric?"
   ]
  },
  {
   "cell_type": "markdown",
   "id": "e8b0898a",
   "metadata": {
    "id": "6de87d7c-4f0e-4ffc-b063-cee6eadc4e16"
   },
   "source": [
    "> **ANSWER**: Even if there is no  ML model fitted/trained, the baseline model will ALWAYS predict a 0, with a very high accuracy ==> This is clearly not a good model, so accuracy is not an adequate metric.\n",
    "This is observed due to class imbalance"
   ]
  },
  {
   "cell_type": "markdown",
   "id": "513d909a",
   "metadata": {
    "id": "df1a22d1-3fd1-4e6f-9139-52a3466fb1c4"
   },
   "source": [
    "2.5. Scale all numerical features in the dataset (we will keep this scaling for future modeling, so make sure to do it in place)"
   ]
  },
  {
   "cell_type": "code",
   "execution_count": 41,
   "id": "60acff21",
   "metadata": {
    "id": "e4d2a505-f193-4b94-89c3-56cba2c4db54",
    "vscode": {
     "languageId": "python"
    }
   },
   "outputs": [],
   "source": [
    "feat_cols =  ['games', 'gamesstarted', 'mp', 'fg_perc', '3p_perc', '2p_perc', 'ft_perc', 'trb', 'ast', 'stl', 'blk', 'tov', 'pf', 'pts']\n",
    "target_col = ['all_nba'] \n",
    "\n",
    "X_log = all_nba_df[feat_cols] \n",
    "y_log = all_nba_df[target_col].values.ravel()\n",
    "\n",
    "X_train_log, X_test_log, y_train_log, y_test_log = train_test_split(X_log,y_log, train_size = .8, random_state = 42)\n",
    "\n",
    "rob_scaler_log = RobustScaler()\n",
    "X_train_log_scaled = rob_scaler_log.fit_transform(X_train_log)\n",
    "X_test_log_scaled = rob_scaler_log.transform(X_test_log)\n",
    "\n",
    "data_log_scaled = (X_train_log_scaled,X_test_log_scaled,y_train_log,y_test_log)"
   ]
  },
  {
   "cell_type": "markdown",
   "id": "838d50e8",
   "metadata": {
    "id": "0ccfd642-fd2a-4ce6-af92-901156e2a009"
   },
   "source": [
    "2.6. Train a LogisticRegression with default parameters, use only the numerical features (omit the team information for now). This will be our baseline model. "
   ]
  },
  {
   "cell_type": "code",
   "execution_count": 42,
   "id": "2d9a1c74",
   "metadata": {
    "id": "6f9ffef5-6333-481e-816f-9125c95fe117",
    "vscode": {
     "languageId": "python"
    }
   },
   "outputs": [],
   "source": [
    "def logreg_baseline(data):\n",
    "\n",
    "    xx_train, _ ,yy_train, _ = data\n",
    "    logreg = LogisticRegression()\n",
    "    \n",
    "    logreg.fit(xx_train, yy_train)\n",
    "    \n",
    "    return logreg\n",
    "\n",
    "\n",
    "## Adittional functions:\n",
    "def get_metrics(estimator,data):\n",
    "    \n",
    "    _, xx_test, _ ,yy_test = data\n",
    "    \n",
    "    y_pred = estimator.predict(xx_test)\n",
    "    \n",
    "    return  accuracy_score(yy_test,y_pred), precision_score(yy_test,y_pred), \\\n",
    "            recall_score(yy_test,y_pred), f1_score(yy_test,y_pred) \n",
    "\n",
    "def display_confusion_matrix(estimator,data):\n",
    "    \n",
    "    _, xx_test, _ ,yy_test = data\n",
    "    \n",
    "    y_pred = estimator.predict(xx_test)\n",
    "    \n",
    "    cm = confusion_matrix(y_pred,yy_test)\n",
    "    disp = ConfusionMatrixDisplay(cm, display_labels=estimator.classes_)\n",
    "\n",
    "    disp.plot()\n",
    "    plt.show()"
   ]
  },
  {
   "cell_type": "markdown",
   "id": "b2e71cbf",
   "metadata": {
    "id": "0f06758a-f2dd-4339-b170-275b428fdb4e"
   },
   "source": [
    "2.7. Evaluate our baseline model using this metrics: \n",
    "\n",
    "    - accuracy\n",
    "    - precision\n",
    "    - recall\n",
    "    - f1"
   ]
  },
  {
   "cell_type": "code",
   "execution_count": 43,
   "id": "be689241",
   "metadata": {
    "id": "b953324f-f7ae-4823-a801-f06d27d6eb43",
    "vscode": {
     "languageId": "python"
    }
   },
   "outputs": [
    {
     "name": "stdout",
     "output_type": "stream",
     "text": [
      "Accuracy: 0.984\n",
      "Precision: 0.836\n",
      "Recall: 0.586\n",
      "F1-score: 0.689\n"
     ]
    }
   ],
   "source": [
    "logreg_bs = logreg_baseline(data_log_scaled)\n",
    "acc_b, prec_b,rec_b, f1_b = get_metrics(logreg_bs,data_log_scaled)\n",
    "\n",
    "print(f'Accuracy: {acc_b:.3f}')\n",
    "print(f'Precision: {prec_b:.3f}')\n",
    "print(f'Recall: {rec_b:.3f}')\n",
    "print(f'F1-score: {f1_b:.3f}')"
   ]
  },
  {
   "cell_type": "code",
   "execution_count": 44,
   "id": "07556421",
   "metadata": {
    "vscode": {
     "languageId": "python"
    }
   },
   "outputs": [
    {
     "data": {
      "image/png": "[encoded data removed]",
      "text/plain": [
       "<Figure size 1080x576 with 2 Axes>"
      ]
     },
     "metadata": {},
     "output_type": "display_data"
    }
   ],
   "source": [
    "sns.set_style('white')\n",
    "display_confusion_matrix(logreg_bs,data_log_scaled)\n",
    "sns.set_style('darkgrid')"
   ]
  },
  {
   "cell_type": "markdown",
   "id": "ccb85648",
   "metadata": {
    "id": "7a540e7b-387d-4e2b-a441-d0c5173bdbf7"
   },
   "source": [
    "From now on, you'll be evaluating you model primarily using the F1 Score metric, but we also want to avoid models that have very low recall. "
   ]
  },
  {
   "cell_type": "markdown",
   "id": "3f8cb2e9",
   "metadata": {
    "id": "2054a43f-55ec-45fc-9ead-a7699d8aa2b0"
   },
   "source": [
    "### Classification"
   ]
  },
  {
   "cell_type": "markdown",
   "id": "914586cd",
   "metadata": {
    "id": "1e2847f3-f02c-4308-8a0c-41ba79af0781"
   },
   "source": [
    "#### Feature engineering"
   ]
  },
  {
   "cell_type": "markdown",
   "id": "7f9ee7b1",
   "metadata": {
    "id": "27b6ddb3-576c-4238-9ec3-534aafee764b"
   },
   "source": [
    "2.8. One hot encode the Team feature. Make sure to drop the original column."
   ]
  },
  {
   "cell_type": "code",
   "execution_count": 45,
   "id": "d47be1c0",
   "metadata": {
    "id": "f4ca83ec-7aab-4cff-8ac7-1b224ff54dde",
    "vscode": {
     "languageId": "python"
    }
   },
   "outputs": [
    {
     "data": {
      "text/html": [
       "<div>\n",
       "<style scoped>\n",
       "    .dataframe tbody tr th:only-of-type {\n",
       "        vertical-align: middle;\n",
       "    }\n",
       "\n",
       "    .dataframe tbody tr th {\n",
       "        vertical-align: top;\n",
       "    }\n",
       "\n",
       "    .dataframe thead th {\n",
       "        text-align: right;\n",
       "    }\n",
       "</style>\n",
       "<table border=\"1\" class=\"dataframe\">\n",
       "  <thead>\n",
       "    <tr style=\"text-align: right;\">\n",
       "      <th></th>\n",
       "      <th>season_id</th>\n",
       "      <th>player_id</th>\n",
       "      <th>player_season</th>\n",
       "      <th>player</th>\n",
       "      <th>season</th>\n",
       "      <th>season_start</th>\n",
       "      <th>games</th>\n",
       "      <th>gamesstarted</th>\n",
       "      <th>mp</th>\n",
       "      <th>fg_perc</th>\n",
       "      <th>...</th>\n",
       "      <th>team_SAC</th>\n",
       "      <th>team_SAS</th>\n",
       "      <th>team_SDC</th>\n",
       "      <th>team_SEA</th>\n",
       "      <th>team_TOR</th>\n",
       "      <th>team_TOT</th>\n",
       "      <th>team_UTA</th>\n",
       "      <th>team_VAN</th>\n",
       "      <th>team_WAS</th>\n",
       "      <th>team_WSB</th>\n",
       "    </tr>\n",
       "  </thead>\n",
       "  <tbody>\n",
       "    <tr>\n",
       "      <th>0</th>\n",
       "      <td>0</td>\n",
       "      <td>0</td>\n",
       "      <td>1</td>\n",
       "      <td>Alaa Abdelnaby</td>\n",
       "      <td>1990-91</td>\n",
       "      <td>1990</td>\n",
       "      <td>43</td>\n",
       "      <td>0</td>\n",
       "      <td>6.7</td>\n",
       "      <td>0.474</td>\n",
       "      <td>...</td>\n",
       "      <td>0</td>\n",
       "      <td>0</td>\n",
       "      <td>0</td>\n",
       "      <td>0</td>\n",
       "      <td>0</td>\n",
       "      <td>0</td>\n",
       "      <td>0</td>\n",
       "      <td>0</td>\n",
       "      <td>0</td>\n",
       "      <td>0</td>\n",
       "    </tr>\n",
       "    <tr>\n",
       "      <th>1</th>\n",
       "      <td>1</td>\n",
       "      <td>0</td>\n",
       "      <td>2</td>\n",
       "      <td>Alaa Abdelnaby</td>\n",
       "      <td>1991-92</td>\n",
       "      <td>1991</td>\n",
       "      <td>71</td>\n",
       "      <td>1</td>\n",
       "      <td>13.2</td>\n",
       "      <td>0.493</td>\n",
       "      <td>...</td>\n",
       "      <td>0</td>\n",
       "      <td>0</td>\n",
       "      <td>0</td>\n",
       "      <td>0</td>\n",
       "      <td>0</td>\n",
       "      <td>0</td>\n",
       "      <td>0</td>\n",
       "      <td>0</td>\n",
       "      <td>0</td>\n",
       "      <td>0</td>\n",
       "    </tr>\n",
       "    <tr>\n",
       "      <th>2</th>\n",
       "      <td>2</td>\n",
       "      <td>0</td>\n",
       "      <td>3</td>\n",
       "      <td>Alaa Abdelnaby</td>\n",
       "      <td>1992-93</td>\n",
       "      <td>1992</td>\n",
       "      <td>75</td>\n",
       "      <td>52</td>\n",
       "      <td>17.5</td>\n",
       "      <td>0.518</td>\n",
       "      <td>...</td>\n",
       "      <td>0</td>\n",
       "      <td>0</td>\n",
       "      <td>0</td>\n",
       "      <td>0</td>\n",
       "      <td>0</td>\n",
       "      <td>1</td>\n",
       "      <td>0</td>\n",
       "      <td>0</td>\n",
       "      <td>0</td>\n",
       "      <td>0</td>\n",
       "    </tr>\n",
       "    <tr>\n",
       "      <th>3</th>\n",
       "      <td>3</td>\n",
       "      <td>0</td>\n",
       "      <td>4</td>\n",
       "      <td>Alaa Abdelnaby</td>\n",
       "      <td>1993-94</td>\n",
       "      <td>1993</td>\n",
       "      <td>13</td>\n",
       "      <td>0</td>\n",
       "      <td>12.2</td>\n",
       "      <td>0.436</td>\n",
       "      <td>...</td>\n",
       "      <td>0</td>\n",
       "      <td>0</td>\n",
       "      <td>0</td>\n",
       "      <td>0</td>\n",
       "      <td>0</td>\n",
       "      <td>0</td>\n",
       "      <td>0</td>\n",
       "      <td>0</td>\n",
       "      <td>0</td>\n",
       "      <td>0</td>\n",
       "    </tr>\n",
       "    <tr>\n",
       "      <th>4</th>\n",
       "      <td>4</td>\n",
       "      <td>0</td>\n",
       "      <td>5</td>\n",
       "      <td>Alaa Abdelnaby</td>\n",
       "      <td>1994-95</td>\n",
       "      <td>1994</td>\n",
       "      <td>54</td>\n",
       "      <td>0</td>\n",
       "      <td>9.4</td>\n",
       "      <td>0.511</td>\n",
       "      <td>...</td>\n",
       "      <td>0</td>\n",
       "      <td>0</td>\n",
       "      <td>0</td>\n",
       "      <td>0</td>\n",
       "      <td>0</td>\n",
       "      <td>1</td>\n",
       "      <td>0</td>\n",
       "      <td>0</td>\n",
       "      <td>0</td>\n",
       "      <td>0</td>\n",
       "    </tr>\n",
       "    <tr>\n",
       "      <th>...</th>\n",
       "      <td>...</td>\n",
       "      <td>...</td>\n",
       "      <td>...</td>\n",
       "      <td>...</td>\n",
       "      <td>...</td>\n",
       "      <td>...</td>\n",
       "      <td>...</td>\n",
       "      <td>...</td>\n",
       "      <td>...</td>\n",
       "      <td>...</td>\n",
       "      <td>...</td>\n",
       "      <td>...</td>\n",
       "      <td>...</td>\n",
       "      <td>...</td>\n",
       "      <td>...</td>\n",
       "      <td>...</td>\n",
       "      <td>...</td>\n",
       "      <td>...</td>\n",
       "      <td>...</td>\n",
       "      <td>...</td>\n",
       "      <td>...</td>\n",
       "    </tr>\n",
       "    <tr>\n",
       "      <th>14820</th>\n",
       "      <td>15348</td>\n",
       "      <td>2817</td>\n",
       "      <td>2</td>\n",
       "      <td>Paul Zipser</td>\n",
       "      <td>2017-18</td>\n",
       "      <td>2017</td>\n",
       "      <td>54</td>\n",
       "      <td>12</td>\n",
       "      <td>15.3</td>\n",
       "      <td>0.346</td>\n",
       "      <td>...</td>\n",
       "      <td>0</td>\n",
       "      <td>0</td>\n",
       "      <td>0</td>\n",
       "      <td>0</td>\n",
       "      <td>0</td>\n",
       "      <td>0</td>\n",
       "      <td>0</td>\n",
       "      <td>0</td>\n",
       "      <td>0</td>\n",
       "      <td>0</td>\n",
       "    </tr>\n",
       "    <tr>\n",
       "      <th>14821</th>\n",
       "      <td>15349</td>\n",
       "      <td>2818</td>\n",
       "      <td>1</td>\n",
       "      <td>Ante Zizic</td>\n",
       "      <td>2017-18</td>\n",
       "      <td>2017</td>\n",
       "      <td>32</td>\n",
       "      <td>2</td>\n",
       "      <td>6.7</td>\n",
       "      <td>0.731</td>\n",
       "      <td>...</td>\n",
       "      <td>0</td>\n",
       "      <td>0</td>\n",
       "      <td>0</td>\n",
       "      <td>0</td>\n",
       "      <td>0</td>\n",
       "      <td>0</td>\n",
       "      <td>0</td>\n",
       "      <td>0</td>\n",
       "      <td>0</td>\n",
       "      <td>0</td>\n",
       "    </tr>\n",
       "    <tr>\n",
       "      <th>14822</th>\n",
       "      <td>15351</td>\n",
       "      <td>2819</td>\n",
       "      <td>1</td>\n",
       "      <td>Jim Zoet</td>\n",
       "      <td>1982-83</td>\n",
       "      <td>1982</td>\n",
       "      <td>7</td>\n",
       "      <td>0</td>\n",
       "      <td>4.3</td>\n",
       "      <td>0.200</td>\n",
       "      <td>...</td>\n",
       "      <td>0</td>\n",
       "      <td>0</td>\n",
       "      <td>0</td>\n",
       "      <td>0</td>\n",
       "      <td>0</td>\n",
       "      <td>0</td>\n",
       "      <td>0</td>\n",
       "      <td>0</td>\n",
       "      <td>0</td>\n",
       "      <td>0</td>\n",
       "    </tr>\n",
       "    <tr>\n",
       "      <th>14823</th>\n",
       "      <td>15352</td>\n",
       "      <td>2820</td>\n",
       "      <td>1</td>\n",
       "      <td>Ivica Zubac</td>\n",
       "      <td>2016-17</td>\n",
       "      <td>2016</td>\n",
       "      <td>38</td>\n",
       "      <td>11</td>\n",
       "      <td>16.0</td>\n",
       "      <td>0.529</td>\n",
       "      <td>...</td>\n",
       "      <td>0</td>\n",
       "      <td>0</td>\n",
       "      <td>0</td>\n",
       "      <td>0</td>\n",
       "      <td>0</td>\n",
       "      <td>0</td>\n",
       "      <td>0</td>\n",
       "      <td>0</td>\n",
       "      <td>0</td>\n",
       "      <td>0</td>\n",
       "    </tr>\n",
       "    <tr>\n",
       "      <th>14824</th>\n",
       "      <td>15353</td>\n",
       "      <td>2820</td>\n",
       "      <td>2</td>\n",
       "      <td>Ivica Zubac</td>\n",
       "      <td>2017-18</td>\n",
       "      <td>2017</td>\n",
       "      <td>43</td>\n",
       "      <td>0</td>\n",
       "      <td>9.5</td>\n",
       "      <td>0.500</td>\n",
       "      <td>...</td>\n",
       "      <td>0</td>\n",
       "      <td>0</td>\n",
       "      <td>0</td>\n",
       "      <td>0</td>\n",
       "      <td>0</td>\n",
       "      <td>0</td>\n",
       "      <td>0</td>\n",
       "      <td>0</td>\n",
       "      <td>0</td>\n",
       "      <td>0</td>\n",
       "    </tr>\n",
       "  </tbody>\n",
       "</table>\n",
       "<p>14825 rows × 61 columns</p>\n",
       "</div>"
      ],
      "text/plain": [
       "       season_id  player_id  player_season          player   season  \\\n",
       "0              0          0              1  Alaa Abdelnaby  1990-91   \n",
       "1              1          0              2  Alaa Abdelnaby  1991-92   \n",
       "2              2          0              3  Alaa Abdelnaby  1992-93   \n",
       "3              3          0              4  Alaa Abdelnaby  1993-94   \n",
       "4              4          0              5  Alaa Abdelnaby  1994-95   \n",
       "...          ...        ...            ...             ...      ...   \n",
       "14820      15348       2817              2     Paul Zipser  2017-18   \n",
       "14821      15349       2818              1      Ante Zizic  2017-18   \n",
       "14822      15351       2819              1        Jim Zoet  1982-83   \n",
       "14823      15352       2820              1     Ivica Zubac  2016-17   \n",
       "14824      15353       2820              2     Ivica Zubac  2017-18   \n",
       "\n",
       "       season_start  games  gamesstarted    mp  fg_perc  ...  team_SAC  \\\n",
       "0              1990     43             0   6.7    0.474  ...         0   \n",
       "1              1991     71             1  13.2    0.493  ...         0   \n",
       "2              1992     75            52  17.5    0.518  ...         0   \n",
       "3              1993     13             0  12.2    0.436  ...         0   \n",
       "4              1994     54             0   9.4    0.511  ...         0   \n",
       "...             ...    ...           ...   ...      ...  ...       ...   \n",
       "14820          2017     54            12  15.3    0.346  ...         0   \n",
       "14821          2017     32             2   6.7    0.731  ...         0   \n",
       "14822          1982      7             0   4.3    0.200  ...         0   \n",
       "14823          2016     38            11  16.0    0.529  ...         0   \n",
       "14824          2017     43             0   9.5    0.500  ...         0   \n",
       "\n",
       "       team_SAS  team_SDC  team_SEA  team_TOR  team_TOT  team_UTA  team_VAN  \\\n",
       "0             0         0         0         0         0         0         0   \n",
       "1             0         0         0         0         0         0         0   \n",
       "2             0         0         0         0         1         0         0   \n",
       "3             0         0         0         0         0         0         0   \n",
       "4             0         0         0         0         1         0         0   \n",
       "...         ...       ...       ...       ...       ...       ...       ...   \n",
       "14820         0         0         0         0         0         0         0   \n",
       "14821         0         0         0         0         0         0         0   \n",
       "14822         0         0         0         0         0         0         0   \n",
       "14823         0         0         0         0         0         0         0   \n",
       "14824         0         0         0         0         0         0         0   \n",
       "\n",
       "       team_WAS  team_WSB  \n",
       "0             0         0  \n",
       "1             0         0  \n",
       "2             0         0  \n",
       "3             0         0  \n",
       "4             0         0  \n",
       "...         ...       ...  \n",
       "14820         0         0  \n",
       "14821         0         0  \n",
       "14822         0         0  \n",
       "14823         0         0  \n",
       "14824         0         0  \n",
       "\n",
       "[14825 rows x 61 columns]"
      ]
     },
     "execution_count": 45,
     "metadata": {},
     "output_type": "execute_result"
    }
   ],
   "source": [
    "# One-hot encoding\n",
    "all_nba_df_encoded = pd.get_dummies(all_nba_df, columns= ['team'], drop_first= True)\n",
    "\n",
    "# Columns: features vs target \n",
    "feat_cols = list(all_nba_df_encoded.loc[:,'games':])\n",
    "if 'all_nba' in feat_cols:  feat_cols.remove('all_nba') \n",
    "target_col = ['all_nba']\n",
    "\n",
    "# Data preparation\n",
    "X_onehot = all_nba_df_encoded[feat_cols]\n",
    "y_onehot = all_nba_df_encoded[target_col].values.ravel()\n",
    "\n",
    "# Train-test split\n",
    "X_train_onehot, X_test_onehot, y_train_onehot, y_test_onehot = train_test_split(X_onehot,y_onehot, train_size = .8, random_state = 42)\n",
    "\n",
    "rob_scale_onehot = RobustScaler()\n",
    "X_train_onehot_scaled = rob_scale_onehot.fit_transform(X_train_onehot)\n",
    "X_test_onehot_scaled = rob_scale_onehot.transform(X_test_onehot)\n",
    "\n",
    "data_onehot = (X_train_onehot_scaled, X_test_onehot_scaled, y_train_onehot, y_test_onehot)\n",
    "\n",
    "all_nba_df_encoded"
   ]
  },
  {
   "cell_type": "markdown",
   "id": "0897b2e7",
   "metadata": {},
   "source": [
    "**>> Using non-hot-encoded columns works better for logistic regression**"
   ]
  },
  {
   "cell_type": "markdown",
   "id": "af075e92",
   "metadata": {
    "id": "6592c6c0-7ec8-49ac-936c-2d0fb84ccfef",
    "tags": []
   },
   "source": [
    "#### Modeling"
   ]
  },
  {
   "cell_type": "markdown",
   "id": "4349a1c5",
   "metadata": {
    "id": "06240cb2-de21-4d4e-ae0e-0f90c3c0453a"
   },
   "source": [
    "2.9. Train a logistic regresion model, find the best hyperparameters for: tols, C and max_iter. Try at least 4 values of each parameter. Remember to select based on f1 score, but report also precision and recall. Save the best performing model to use in the next steps."
   ]
  },
  {
   "cell_type": "code",
   "execution_count": 46,
   "id": "85da1a73",
   "metadata": {
    "id": "4bdc4abf-ded3-4d8b-9170-c1d5b4951ba7",
    "vscode": {
     "languageId": "python"
    }
   },
   "outputs": [],
   "source": [
    "def find_logreg_best(splitted_data,param_dict):\n",
    "    \n",
    "    # Estimator model \n",
    "    logreg = LogisticRegression\n",
    "    \n",
    "    return search_best_hyperparameters(splitted_data,logreg,param_dict,f1_score)"
   ]
  },
  {
   "cell_type": "code",
   "execution_count": 47,
   "id": "23779dbf",
   "metadata": {
    "vscode": {
     "languageId": "python"
    }
   },
   "outputs": [],
   "source": [
    "# Hyperparameter\n",
    "C = [0.5,1,2,5,10]\n",
    "max_iter = [1000,2000,2500,5000]\n",
    "tols= [10**(-k) for k in range(2,6)]     # [0.01,...,0.00001]\n",
    "\n",
    "params_log = {'C':C,'max_iter':max_iter, 'tol':tols}\n",
    "\n",
    "logreg_best_estimator,logreg_best_params,logreg_best_mae= find_logreg_best(data_onehot,params_log)"
   ]
  },
  {
   "cell_type": "code",
   "execution_count": 48,
   "id": "39fe84f5",
   "metadata": {
    "vscode": {
     "languageId": "python"
    }
   },
   "outputs": [
    {
     "name": "stdout",
     "output_type": "stream",
     "text": [
      "Accuracy: 0.987  ...(vs baseline: 0.984)\n",
      "Precision: 0.912  ...(vs baseline: 0.836)\n",
      "Recall: 0.598  ...(vs baseline: 0.586)\n",
      "F1-score: 0.722  ...(vs baseline: 0.689)\n"
     ]
    }
   ],
   "source": [
    "acc_log, prec_log,rec_log, f1_log =  get_metrics(logreg_best_estimator,data_onehot)\n",
    "      \n",
    "print(f'Accuracy: {acc_log:.3f}  ...(vs baseline: {acc_b:.3f})')\n",
    "print(f'Precision: {prec_log:.3f}  ...(vs baseline: {prec_b:.3f})')\n",
    "print(f'Recall: {rec_log:.3f}  ...(vs baseline: {rec_b:.3f})')\n",
    "print(f'F1-score: {f1_log:.3f}  ...(vs baseline: {f1_b:.3f})')"
   ]
  },
  {
   "cell_type": "code",
   "execution_count": 49,
   "id": "14c866c8",
   "metadata": {
    "vscode": {
     "languageId": "python"
    }
   },
   "outputs": [
    {
     "data": {
      "image/png": "[encoded data removed]",
      "text/plain": [
       "<Figure size 1080x576 with 2 Axes>"
      ]
     },
     "metadata": {},
     "output_type": "display_data"
    }
   ],
   "source": [
    "## Confusion matrix\n",
    "sns.set_style('white')\n",
    "display_confusion_matrix(logreg_best_estimator,data_onehot)\n",
    "sns.set_style('darkgrid')"
   ]
  },
  {
   "cell_type": "markdown",
   "id": "4221f869",
   "metadata": {
    "id": "45c0c3bd-b431-40f1-abbb-4e90b7479411"
   },
   "source": [
    "#### Evaluating on New Data"
   ]
  },
  {
   "cell_type": "markdown",
   "id": "489a2562",
   "metadata": {
    "id": "3a5352ce-df8a-4c9d-b583-65255774f9d9"
   },
   "source": [
    "You're now going to evaluate the results on a test dataset that has not being used to train or do hyperparameter tuning, this is sometimes known as a Test set (in this cases the test set used for training is known as validation set, yeah, it's confusing, but you can read about it [here](https://machinelearningmastery.com/difference-test-validation-datasets/))"
   ]
  },
  {
   "cell_type": "markdown",
   "id": "106f975e",
   "metadata": {
    "id": "9da9e93b-6265-44e4-89be-75e7178800e2"
   },
   "source": [
    "2.10. Load the dataset [all_nba_2018_dataset.csv](https://raw.githubusercontent.com/anyoneai/notebooks/main/datasets/all_nba_2018_dataset.csv) in one dataframe and [all_nba_2018_selections.csv](https://raw.githubusercontent.com/anyoneai/notebooks/main/datasets/all_nba_2018_selections.csv)) in another, then:\n",
    "\n",
    "    - Scale the numerical features. Columns season_id, player_id, player_season, player, season and season_start will not be used for prediction, you can keep them but remember not to pass them to the classifier.\n",
    "    \n",
    "    - Create the one hot encoded features for team. This step will be complex, as you will have to consider that in the 2018 season there are 30 teams, but the previous dataset contains 40 teams, that is because a lot of teams changed names or cities over the years. You need to add those 10 different team names in this dataset (with all values in 0) to make the classifier work."
   ]
  },
  {
   "cell_type": "code",
   "execution_count": 50,
   "id": "410829c3",
   "metadata": {
    "id": "79ea153a-b061-4df9-9c3d-1aaa0526c700",
    "vscode": {
     "languageId": "python"
    }
   },
   "outputs": [],
   "source": [
    "all_nba_2018_df = pd.read_csv(\"https://raw.githubusercontent.com/anyoneai/notebooks/main/datasets/all_nba_2018_dataset.csv\", index_col=0)\n",
    "all_nba_2018_selections = pd.read_csv(\"https://raw.githubusercontent.com/anyoneai/notebooks/main/datasets/all_nba_2018_selections.csv\", index_col=0)"
   ]
  },
  {
   "cell_type": "code",
   "execution_count": 51,
   "id": "dbec2639",
   "metadata": {
    "vscode": {
     "languageId": "python"
    }
   },
   "outputs": [
    {
     "data": {
      "text/plain": [
       "Index(['season_id', 'player_id', 'player_season', 'player', 'season',\n",
       "       'season_start', 'games', 'gamesstarted', 'mp', 'fg_perc', '3p_perc',\n",
       "       '2p_perc', 'ft_perc', 'trb', 'ast', 'stl', 'blk', 'tov', 'pf', 'pts',\n",
       "       'team_BOS', 'team_BRK', 'team_CHI', 'team_CHO', 'team_CLE', 'team_DAL',\n",
       "       'team_DEN', 'team_DET', 'team_GSW', 'team_HOU', 'team_IND', 'team_LAC',\n",
       "       'team_LAL', 'team_MEM', 'team_MIA', 'team_MIL', 'team_MIN', 'team_NOP',\n",
       "       'team_NYK', 'team_OKC', 'team_ORL', 'team_PHI', 'team_PHO', 'team_POR',\n",
       "       'team_SAC', 'team_SAS', 'team_TOR', 'team_TOT', 'team_UTA', 'team_WAS'],\n",
       "      dtype='object')"
      ]
     },
     "execution_count": 51,
     "metadata": {},
     "output_type": "execute_result"
    }
   ],
   "source": [
    "## One-hot encoding\n",
    "all_nba_2018_df_encoded = pd.get_dummies(all_nba_2018_df, columns = ['team'], drop_first = True )\n",
    "all_nba_2018_df_encoded.columns"
   ]
  },
  {
   "cell_type": "code",
   "execution_count": 52,
   "id": "38959e1e",
   "metadata": {
    "vscode": {
     "languageId": "python"
    }
   },
   "outputs": [
    {
     "name": "stdout",
     "output_type": "stream",
     "text": [
      "Columns to add:\n"
     ]
    },
    {
     "data": {
      "text/plain": [
       "['team_CHH',\n",
       " 'team_CHA',\n",
       " 'team_WSB',\n",
       " 'team_KCK',\n",
       " 'team_VAN',\n",
       " 'team_NOK',\n",
       " 'team_SDC',\n",
       " 'team_NJN',\n",
       " 'team_NOH',\n",
       " 'team_SEA']"
      ]
     },
     "execution_count": 52,
     "metadata": {},
     "output_type": "execute_result"
    }
   ],
   "source": [
    "## Getting team columns to add\n",
    "team_cols_to_add = list(set(all_nba_df_encoded.columns).difference(set(all_nba_2018_df_encoded.columns)))\n",
    "team_cols_to_add.remove('all_nba')\n",
    "print('Columns to add:')\n",
    "team_cols_to_add"
   ]
  },
  {
   "cell_type": "code",
   "execution_count": 53,
   "id": "22dabcc5",
   "metadata": {
    "id": "-1VYrr5IV8TH",
    "vscode": {
     "languageId": "python"
    }
   },
   "outputs": [],
   "source": [
    "# Preserving only numerical features\n",
    "all_nba_2018_df_encoded = all_nba_2018_df_encoded.loc[:,'games':].copy()\n",
    "## Adding team columns\n",
    "all_nba_2018_df_encoded[team_cols_to_add] = 0"
   ]
  },
  {
   "cell_type": "markdown",
   "id": "6342baad",
   "metadata": {
    "id": "aeBb8Zha2FAQ"
   },
   "source": [
    "*Don't change anything in this cell, just make it run correctly*"
   ]
  },
  {
   "cell_type": "code",
   "execution_count": 54,
   "id": "f96f9212",
   "metadata": {
    "id": "Y7fgqGQL2F5R",
    "vscode": {
     "languageId": "python"
    }
   },
   "outputs": [
    {
     "name": "stdout",
     "output_type": "stream",
     "text": [
      "Success!\n"
     ]
    },
    {
     "data": {
      "text/html": [
       "<div>\n",
       "<style scoped>\n",
       "    .dataframe tbody tr th:only-of-type {\n",
       "        vertical-align: middle;\n",
       "    }\n",
       "\n",
       "    .dataframe tbody tr th {\n",
       "        vertical-align: top;\n",
       "    }\n",
       "\n",
       "    .dataframe thead th {\n",
       "        text-align: right;\n",
       "    }\n",
       "</style>\n",
       "<table border=\"1\" class=\"dataframe\">\n",
       "  <thead>\n",
       "    <tr style=\"text-align: right;\">\n",
       "      <th></th>\n",
       "      <th>games</th>\n",
       "      <th>gamesstarted</th>\n",
       "      <th>mp</th>\n",
       "      <th>fg_perc</th>\n",
       "      <th>3p_perc</th>\n",
       "      <th>2p_perc</th>\n",
       "      <th>ft_perc</th>\n",
       "      <th>trb</th>\n",
       "      <th>ast</th>\n",
       "      <th>stl</th>\n",
       "      <th>...</th>\n",
       "      <th>team_CHH</th>\n",
       "      <th>team_CHA</th>\n",
       "      <th>team_WSB</th>\n",
       "      <th>team_KCK</th>\n",
       "      <th>team_VAN</th>\n",
       "      <th>team_NOK</th>\n",
       "      <th>team_SDC</th>\n",
       "      <th>team_NJN</th>\n",
       "      <th>team_NOH</th>\n",
       "      <th>team_SEA</th>\n",
       "    </tr>\n",
       "  </thead>\n",
       "  <tbody>\n",
       "    <tr>\n",
       "      <th>34</th>\n",
       "      <td>31</td>\n",
       "      <td>2</td>\n",
       "      <td>19.0</td>\n",
       "      <td>0.357</td>\n",
       "      <td>0.323</td>\n",
       "      <td>0.500</td>\n",
       "      <td>0.923</td>\n",
       "      <td>1.5</td>\n",
       "      <td>0.6</td>\n",
       "      <td>0.5</td>\n",
       "      <td>...</td>\n",
       "      <td>0</td>\n",
       "      <td>0</td>\n",
       "      <td>0</td>\n",
       "      <td>0</td>\n",
       "      <td>0</td>\n",
       "      <td>0</td>\n",
       "      <td>0</td>\n",
       "      <td>0</td>\n",
       "      <td>0</td>\n",
       "      <td>0</td>\n",
       "    </tr>\n",
       "    <tr>\n",
       "      <th>49</th>\n",
       "      <td>10</td>\n",
       "      <td>0</td>\n",
       "      <td>12.3</td>\n",
       "      <td>0.222</td>\n",
       "      <td>0.133</td>\n",
       "      <td>0.667</td>\n",
       "      <td>0.700</td>\n",
       "      <td>2.5</td>\n",
       "      <td>0.8</td>\n",
       "      <td>0.1</td>\n",
       "      <td>...</td>\n",
       "      <td>0</td>\n",
       "      <td>0</td>\n",
       "      <td>0</td>\n",
       "      <td>0</td>\n",
       "      <td>0</td>\n",
       "      <td>0</td>\n",
       "      <td>0</td>\n",
       "      <td>0</td>\n",
       "      <td>0</td>\n",
       "      <td>0</td>\n",
       "    </tr>\n",
       "    <tr>\n",
       "      <th>70</th>\n",
       "      <td>34</td>\n",
       "      <td>1</td>\n",
       "      <td>12.6</td>\n",
       "      <td>0.345</td>\n",
       "      <td>0.338</td>\n",
       "      <td>0.361</td>\n",
       "      <td>0.778</td>\n",
       "      <td>1.8</td>\n",
       "      <td>1.9</td>\n",
       "      <td>0.4</td>\n",
       "      <td>...</td>\n",
       "      <td>0</td>\n",
       "      <td>0</td>\n",
       "      <td>0</td>\n",
       "      <td>0</td>\n",
       "      <td>0</td>\n",
       "      <td>0</td>\n",
       "      <td>0</td>\n",
       "      <td>0</td>\n",
       "      <td>0</td>\n",
       "      <td>0</td>\n",
       "    </tr>\n",
       "    <tr>\n",
       "      <th>71</th>\n",
       "      <td>80</td>\n",
       "      <td>80</td>\n",
       "      <td>33.4</td>\n",
       "      <td>0.595</td>\n",
       "      <td>0.000</td>\n",
       "      <td>0.596</td>\n",
       "      <td>0.500</td>\n",
       "      <td>9.5</td>\n",
       "      <td>1.6</td>\n",
       "      <td>1.5</td>\n",
       "      <td>...</td>\n",
       "      <td>0</td>\n",
       "      <td>0</td>\n",
       "      <td>0</td>\n",
       "      <td>0</td>\n",
       "      <td>0</td>\n",
       "      <td>0</td>\n",
       "      <td>0</td>\n",
       "      <td>0</td>\n",
       "      <td>0</td>\n",
       "      <td>0</td>\n",
       "    </tr>\n",
       "    <tr>\n",
       "      <th>79</th>\n",
       "      <td>82</td>\n",
       "      <td>28</td>\n",
       "      <td>23.3</td>\n",
       "      <td>0.576</td>\n",
       "      <td>0.200</td>\n",
       "      <td>0.588</td>\n",
       "      <td>0.735</td>\n",
       "      <td>7.3</td>\n",
       "      <td>2.2</td>\n",
       "      <td>0.9</td>\n",
       "      <td>...</td>\n",
       "      <td>0</td>\n",
       "      <td>0</td>\n",
       "      <td>0</td>\n",
       "      <td>0</td>\n",
       "      <td>0</td>\n",
       "      <td>0</td>\n",
       "      <td>0</td>\n",
       "      <td>0</td>\n",
       "      <td>0</td>\n",
       "      <td>0</td>\n",
       "    </tr>\n",
       "    <tr>\n",
       "      <th>...</th>\n",
       "      <td>...</td>\n",
       "      <td>...</td>\n",
       "      <td>...</td>\n",
       "      <td>...</td>\n",
       "      <td>...</td>\n",
       "      <td>...</td>\n",
       "      <td>...</td>\n",
       "      <td>...</td>\n",
       "      <td>...</td>\n",
       "      <td>...</td>\n",
       "      <td>...</td>\n",
       "      <td>...</td>\n",
       "      <td>...</td>\n",
       "      <td>...</td>\n",
       "      <td>...</td>\n",
       "      <td>...</td>\n",
       "      <td>...</td>\n",
       "      <td>...</td>\n",
       "      <td>...</td>\n",
       "      <td>...</td>\n",
       "      <td>...</td>\n",
       "    </tr>\n",
       "    <tr>\n",
       "      <th>15319</th>\n",
       "      <td>81</td>\n",
       "      <td>81</td>\n",
       "      <td>30.9</td>\n",
       "      <td>0.418</td>\n",
       "      <td>0.324</td>\n",
       "      <td>0.477</td>\n",
       "      <td>0.829</td>\n",
       "      <td>3.7</td>\n",
       "      <td>8.1</td>\n",
       "      <td>0.9</td>\n",
       "      <td>...</td>\n",
       "      <td>0</td>\n",
       "      <td>0</td>\n",
       "      <td>0</td>\n",
       "      <td>0</td>\n",
       "      <td>0</td>\n",
       "      <td>0</td>\n",
       "      <td>0</td>\n",
       "      <td>0</td>\n",
       "      <td>0</td>\n",
       "      <td>0</td>\n",
       "    </tr>\n",
       "    <tr>\n",
       "      <th>15333</th>\n",
       "      <td>49</td>\n",
       "      <td>47</td>\n",
       "      <td>25.4</td>\n",
       "      <td>0.551</td>\n",
       "      <td>0.273</td>\n",
       "      <td>0.570</td>\n",
       "      <td>0.787</td>\n",
       "      <td>6.8</td>\n",
       "      <td>2.1</td>\n",
       "      <td>0.8</td>\n",
       "      <td>...</td>\n",
       "      <td>0</td>\n",
       "      <td>0</td>\n",
       "      <td>0</td>\n",
       "      <td>0</td>\n",
       "      <td>0</td>\n",
       "      <td>0</td>\n",
       "      <td>0</td>\n",
       "      <td>0</td>\n",
       "      <td>0</td>\n",
       "      <td>0</td>\n",
       "    </tr>\n",
       "    <tr>\n",
       "      <th>15334</th>\n",
       "      <td>6</td>\n",
       "      <td>1</td>\n",
       "      <td>15.5</td>\n",
       "      <td>0.533</td>\n",
       "      <td>0.000</td>\n",
       "      <td>0.552</td>\n",
       "      <td>0.778</td>\n",
       "      <td>4.0</td>\n",
       "      <td>0.7</td>\n",
       "      <td>0.2</td>\n",
       "      <td>...</td>\n",
       "      <td>0</td>\n",
       "      <td>0</td>\n",
       "      <td>0</td>\n",
       "      <td>0</td>\n",
       "      <td>0</td>\n",
       "      <td>0</td>\n",
       "      <td>0</td>\n",
       "      <td>0</td>\n",
       "      <td>0</td>\n",
       "      <td>0</td>\n",
       "    </tr>\n",
       "    <tr>\n",
       "      <th>15350</th>\n",
       "      <td>59</td>\n",
       "      <td>25</td>\n",
       "      <td>18.3</td>\n",
       "      <td>0.553</td>\n",
       "      <td>0.000</td>\n",
       "      <td>0.553</td>\n",
       "      <td>0.705</td>\n",
       "      <td>5.4</td>\n",
       "      <td>0.9</td>\n",
       "      <td>0.2</td>\n",
       "      <td>...</td>\n",
       "      <td>0</td>\n",
       "      <td>0</td>\n",
       "      <td>0</td>\n",
       "      <td>0</td>\n",
       "      <td>0</td>\n",
       "      <td>0</td>\n",
       "      <td>0</td>\n",
       "      <td>0</td>\n",
       "      <td>0</td>\n",
       "      <td>0</td>\n",
       "    </tr>\n",
       "    <tr>\n",
       "      <th>15354</th>\n",
       "      <td>59</td>\n",
       "      <td>37</td>\n",
       "      <td>17.6</td>\n",
       "      <td>0.559</td>\n",
       "      <td>0.000</td>\n",
       "      <td>0.559</td>\n",
       "      <td>0.802</td>\n",
       "      <td>6.1</td>\n",
       "      <td>1.1</td>\n",
       "      <td>0.2</td>\n",
       "      <td>...</td>\n",
       "      <td>0</td>\n",
       "      <td>0</td>\n",
       "      <td>0</td>\n",
       "      <td>0</td>\n",
       "      <td>0</td>\n",
       "      <td>0</td>\n",
       "      <td>0</td>\n",
       "      <td>0</td>\n",
       "      <td>0</td>\n",
       "      <td>0</td>\n",
       "    </tr>\n",
       "  </tbody>\n",
       "</table>\n",
       "<p>530 rows × 54 columns</p>\n",
       "</div>"
      ],
      "text/plain": [
       "       games  gamesstarted    mp  fg_perc  3p_perc  2p_perc  ft_perc  trb  \\\n",
       "34        31             2  19.0    0.357    0.323    0.500    0.923  1.5   \n",
       "49        10             0  12.3    0.222    0.133    0.667    0.700  2.5   \n",
       "70        34             1  12.6    0.345    0.338    0.361    0.778  1.8   \n",
       "71        80            80  33.4    0.595    0.000    0.596    0.500  9.5   \n",
       "79        82            28  23.3    0.576    0.200    0.588    0.735  7.3   \n",
       "...      ...           ...   ...      ...      ...      ...      ...  ...   \n",
       "15319     81            81  30.9    0.418    0.324    0.477    0.829  3.7   \n",
       "15333     49            47  25.4    0.551    0.273    0.570    0.787  6.8   \n",
       "15334      6             1  15.5    0.533    0.000    0.552    0.778  4.0   \n",
       "15350     59            25  18.3    0.553    0.000    0.553    0.705  5.4   \n",
       "15354     59            37  17.6    0.559    0.000    0.559    0.802  6.1   \n",
       "\n",
       "       ast  stl  ...  team_CHH  team_CHA  team_WSB  team_KCK  team_VAN  \\\n",
       "34     0.6  0.5  ...         0         0         0         0         0   \n",
       "49     0.8  0.1  ...         0         0         0         0         0   \n",
       "70     1.9  0.4  ...         0         0         0         0         0   \n",
       "71     1.6  1.5  ...         0         0         0         0         0   \n",
       "79     2.2  0.9  ...         0         0         0         0         0   \n",
       "...    ...  ...  ...       ...       ...       ...       ...       ...   \n",
       "15319  8.1  0.9  ...         0         0         0         0         0   \n",
       "15333  2.1  0.8  ...         0         0         0         0         0   \n",
       "15334  0.7  0.2  ...         0         0         0         0         0   \n",
       "15350  0.9  0.2  ...         0         0         0         0         0   \n",
       "15354  1.1  0.2  ...         0         0         0         0         0   \n",
       "\n",
       "       team_NOK  team_SDC  team_NJN  team_NOH  team_SEA  \n",
       "34            0         0         0         0         0  \n",
       "49            0         0         0         0         0  \n",
       "70            0         0         0         0         0  \n",
       "71            0         0         0         0         0  \n",
       "79            0         0         0         0         0  \n",
       "...         ...       ...       ...       ...       ...  \n",
       "15319         0         0         0         0         0  \n",
       "15333         0         0         0         0         0  \n",
       "15334         0         0         0         0         0  \n",
       "15350         0         0         0         0         0  \n",
       "15354         0         0         0         0         0  \n",
       "\n",
       "[530 rows x 54 columns]"
      ]
     },
     "execution_count": 54,
     "metadata": {},
     "output_type": "execute_result"
    }
   ],
   "source": [
    "if all_nba_2018_df_encoded.shape == (530, 54):\n",
    "  print('Success!')\n",
    "else:\n",
    "  raise ValueError('The shape is incorrect, please review your function')\n",
    "all_nba_2018_df_encoded\n",
    "\n"
   ]
  },
  {
   "cell_type": "markdown",
   "id": "de53bd6f",
   "metadata": {
    "id": "8b0bb296-b1b3-4ae4-b199-b11224c78a82"
   },
   "source": [
    "2.11. Predict and evaluate the model using precision, recall and f1 score. "
   ]
  },
  {
   "cell_type": "code",
   "execution_count": 55,
   "id": "67d7f0b0",
   "metadata": {
    "id": "b00ddffa-3f09-4294-beb5-098c2d698af0",
    "vscode": {
     "languageId": "python"
    }
   },
   "outputs": [
    {
     "name": "stdout",
     "output_type": "stream",
     "text": [
      "Accuracy: 0.981\n",
      "Precision: 0.600\n",
      "Recall: 1.000\n",
      "F1-score: 0.750\n"
     ]
    }
   ],
   "source": [
    "rob_scaler_val = RobustScaler()\n",
    "X_test_val = rob_scaler_val.fit_transform(all_nba_2018_df_encoded) \n",
    "y_test_val = all_nba_2018_selections.all_nba.ravel()\n",
    "data_val = (None,X_test_val,None,y_test_val)\n",
    "\n",
    "acc_val, prec_val, rec_val,f1_val = get_metrics(logreg_best_estimator,data_val)\n",
    "\n",
    "print(f'Accuracy: {acc_val:.3f}')\n",
    "print(f'Precision: {prec_val:.3f}')\n",
    "print(f'Recall: {rec_val:.3f}')\n",
    "print(f'F1-score: {f1_val:.3f}')\n"
   ]
  },
  {
   "cell_type": "code",
   "execution_count": 56,
   "id": "d855d29b",
   "metadata": {
    "vscode": {
     "languageId": "python"
    }
   },
   "outputs": [
    {
     "data": {
      "image/png": "[encoded data removed]",
      "text/plain": [
       "<Figure size 1080x576 with 2 Axes>"
      ]
     },
     "metadata": {},
     "output_type": "display_data"
    }
   ],
   "source": [
    "## Confusion matrix\n",
    "sns.set_style('white')\n",
    "display_confusion_matrix(logreg_best_estimator,data_val)\n",
    "sns.set_style('darkgrid')"
   ]
  },
  {
   "cell_type": "markdown",
   "id": "12e405ee",
   "metadata": {
    "id": "be98174e-4d1b-407d-8ecc-dd568f6e5368"
   },
   "source": [
    "2.12. Analyze the results, what do you think it is happening?"
   ]
  },
  {
   "cell_type": "markdown",
   "id": "5dad8b50",
   "metadata": {
    "id": "17f87aa8-dd84-462a-b26b-80400e4a87e3"
   },
   "source": [
    "* _The estimator is working well in general, when predicting outcomes on new (unseen) data. Good indicators of this are the recall and f1-score, which are slightly better than the training, metrics. However, precision has decreased._\n",
    "* _There can be some fluctuations in the metrics (excluding accuracy) because the classes are highly imbalanced. In the confusion matrix plotted we can observe that the majority class is 0 (i.e. not select as an all-nba star), so accuracy is really high because of the true positives._\n",
    "* _Precision and recall (and thus f1-score) bounce below and above in a acceptable interval. This is because the relative proportions between false positives, false negatives and true negatives change a little bit around the minority class. They tend to fluctuate a little more against the metrics that involve the majority class (i.e. true negatives)_"
   ]
  },
  {
   "cell_type": "markdown",
   "id": "26186e3e",
   "metadata": {
    "id": "77a8c607-5df7-43d2-8365-cbbb6f2b93e1"
   },
   "source": [
    "#### Creating our custom Classifier"
   ]
  },
  {
   "cell_type": "markdown",
   "id": "bc0f714f",
   "metadata": {
    "id": "21dc0d0a-1d15-4f9e-b3ed-f83df1f51ce0"
   },
   "source": [
    "One thing to consider in this problem, is that the number of ALl NBA selections is fixed each year, a total of 15 players are always selected. But our current model does not limit the number of positive classified players. So, we will have to wrap our model in a custom classifier that only returns as positive the 15 players with the higher probabilities. \n",
    "Fortunately, our chosen model provides access to the underlying probabilities."
   ]
  },
  {
   "cell_type": "markdown",
   "id": "ef85bc35",
   "metadata": {
    "id": "e22326d3-c1ae-475b-9b31-7b02876f8bbc"
   },
   "source": [
    "2.13. Using the trained model, predict probabilities for all rows in the dataset, and create a new column that has the probability that the player was selected as all nba. Round the probability to 3 decimals."
   ]
  },
  {
   "cell_type": "code",
   "execution_count": 57,
   "id": "6b47818f",
   "metadata": {
    "id": "fddf0631-d676-485d-9748-a688e854c9f2",
    "vscode": {
     "languageId": "python"
    }
   },
   "outputs": [
    {
     "data": {
      "text/html": [
       "<div>\n",
       "<style scoped>\n",
       "    .dataframe tbody tr th:only-of-type {\n",
       "        vertical-align: middle;\n",
       "    }\n",
       "\n",
       "    .dataframe tbody tr th {\n",
       "        vertical-align: top;\n",
       "    }\n",
       "\n",
       "    .dataframe thead th {\n",
       "        text-align: right;\n",
       "    }\n",
       "</style>\n",
       "<table border=\"1\" class=\"dataframe\">\n",
       "  <thead>\n",
       "    <tr style=\"text-align: right;\">\n",
       "      <th></th>\n",
       "      <th>season_id</th>\n",
       "      <th>player_id</th>\n",
       "      <th>player_season</th>\n",
       "      <th>player</th>\n",
       "      <th>season</th>\n",
       "      <th>season_start</th>\n",
       "      <th>team</th>\n",
       "      <th>games</th>\n",
       "      <th>gamesstarted</th>\n",
       "      <th>mp</th>\n",
       "      <th>...</th>\n",
       "      <th>2p_perc</th>\n",
       "      <th>ft_perc</th>\n",
       "      <th>trb</th>\n",
       "      <th>ast</th>\n",
       "      <th>stl</th>\n",
       "      <th>blk</th>\n",
       "      <th>tov</th>\n",
       "      <th>pf</th>\n",
       "      <th>pts</th>\n",
       "      <th>prob_all_nba</th>\n",
       "    </tr>\n",
       "  </thead>\n",
       "  <tbody>\n",
       "    <tr>\n",
       "      <th>34</th>\n",
       "      <td>34</td>\n",
       "      <td>5</td>\n",
       "      <td>2</td>\n",
       "      <td>Alex Abrines</td>\n",
       "      <td>2018-19</td>\n",
       "      <td>2018</td>\n",
       "      <td>OKC</td>\n",
       "      <td>31</td>\n",
       "      <td>2</td>\n",
       "      <td>19.0</td>\n",
       "      <td>...</td>\n",
       "      <td>0.500</td>\n",
       "      <td>0.923</td>\n",
       "      <td>1.5</td>\n",
       "      <td>0.6</td>\n",
       "      <td>0.5</td>\n",
       "      <td>0.2</td>\n",
       "      <td>0.5</td>\n",
       "      <td>1.7</td>\n",
       "      <td>5.3</td>\n",
       "      <td>0.000</td>\n",
       "    </tr>\n",
       "    <tr>\n",
       "      <th>49</th>\n",
       "      <td>49</td>\n",
       "      <td>8</td>\n",
       "      <td>7</td>\n",
       "      <td>Quincy Acy</td>\n",
       "      <td>2018-19</td>\n",
       "      <td>2018</td>\n",
       "      <td>PHO</td>\n",
       "      <td>10</td>\n",
       "      <td>0</td>\n",
       "      <td>12.3</td>\n",
       "      <td>...</td>\n",
       "      <td>0.667</td>\n",
       "      <td>0.700</td>\n",
       "      <td>2.5</td>\n",
       "      <td>0.8</td>\n",
       "      <td>0.1</td>\n",
       "      <td>0.4</td>\n",
       "      <td>0.4</td>\n",
       "      <td>2.4</td>\n",
       "      <td>1.7</td>\n",
       "      <td>0.000</td>\n",
       "    </tr>\n",
       "    <tr>\n",
       "      <th>70</th>\n",
       "      <td>52</td>\n",
       "      <td>10</td>\n",
       "      <td>1</td>\n",
       "      <td>Jaylen Adams</td>\n",
       "      <td>2018-19</td>\n",
       "      <td>2018</td>\n",
       "      <td>ATL</td>\n",
       "      <td>34</td>\n",
       "      <td>1</td>\n",
       "      <td>12.6</td>\n",
       "      <td>...</td>\n",
       "      <td>0.361</td>\n",
       "      <td>0.778</td>\n",
       "      <td>1.8</td>\n",
       "      <td>1.9</td>\n",
       "      <td>0.4</td>\n",
       "      <td>0.1</td>\n",
       "      <td>0.8</td>\n",
       "      <td>1.3</td>\n",
       "      <td>3.2</td>\n",
       "      <td>0.000</td>\n",
       "    </tr>\n",
       "    <tr>\n",
       "      <th>71</th>\n",
       "      <td>71</td>\n",
       "      <td>13</td>\n",
       "      <td>6</td>\n",
       "      <td>Steven Adams</td>\n",
       "      <td>2018-19</td>\n",
       "      <td>2018</td>\n",
       "      <td>OKC</td>\n",
       "      <td>80</td>\n",
       "      <td>80</td>\n",
       "      <td>33.4</td>\n",
       "      <td>...</td>\n",
       "      <td>0.596</td>\n",
       "      <td>0.500</td>\n",
       "      <td>9.5</td>\n",
       "      <td>1.6</td>\n",
       "      <td>1.5</td>\n",
       "      <td>1.0</td>\n",
       "      <td>1.7</td>\n",
       "      <td>2.6</td>\n",
       "      <td>13.9</td>\n",
       "      <td>0.018</td>\n",
       "    </tr>\n",
       "    <tr>\n",
       "      <th>79</th>\n",
       "      <td>79</td>\n",
       "      <td>15</td>\n",
       "      <td>2</td>\n",
       "      <td>Bam Adebayo</td>\n",
       "      <td>2018-19</td>\n",
       "      <td>2018</td>\n",
       "      <td>MIA</td>\n",
       "      <td>82</td>\n",
       "      <td>28</td>\n",
       "      <td>23.3</td>\n",
       "      <td>...</td>\n",
       "      <td>0.588</td>\n",
       "      <td>0.735</td>\n",
       "      <td>7.3</td>\n",
       "      <td>2.2</td>\n",
       "      <td>0.9</td>\n",
       "      <td>0.8</td>\n",
       "      <td>1.5</td>\n",
       "      <td>2.5</td>\n",
       "      <td>8.9</td>\n",
       "      <td>0.000</td>\n",
       "    </tr>\n",
       "    <tr>\n",
       "      <th>...</th>\n",
       "      <td>...</td>\n",
       "      <td>...</td>\n",
       "      <td>...</td>\n",
       "      <td>...</td>\n",
       "      <td>...</td>\n",
       "      <td>...</td>\n",
       "      <td>...</td>\n",
       "      <td>...</td>\n",
       "      <td>...</td>\n",
       "      <td>...</td>\n",
       "      <td>...</td>\n",
       "      <td>...</td>\n",
       "      <td>...</td>\n",
       "      <td>...</td>\n",
       "      <td>...</td>\n",
       "      <td>...</td>\n",
       "      <td>...</td>\n",
       "      <td>...</td>\n",
       "      <td>...</td>\n",
       "      <td>...</td>\n",
       "      <td>...</td>\n",
       "    </tr>\n",
       "    <tr>\n",
       "      <th>15319</th>\n",
       "      <td>15319</td>\n",
       "      <td>2806</td>\n",
       "      <td>1</td>\n",
       "      <td>Trae Young</td>\n",
       "      <td>2018-19</td>\n",
       "      <td>2018</td>\n",
       "      <td>ATL</td>\n",
       "      <td>81</td>\n",
       "      <td>81</td>\n",
       "      <td>30.9</td>\n",
       "      <td>...</td>\n",
       "      <td>0.477</td>\n",
       "      <td>0.829</td>\n",
       "      <td>3.7</td>\n",
       "      <td>8.1</td>\n",
       "      <td>0.9</td>\n",
       "      <td>0.2</td>\n",
       "      <td>3.8</td>\n",
       "      <td>1.7</td>\n",
       "      <td>19.1</td>\n",
       "      <td>0.239</td>\n",
       "    </tr>\n",
       "    <tr>\n",
       "      <th>15333</th>\n",
       "      <td>15326</td>\n",
       "      <td>2808</td>\n",
       "      <td>6</td>\n",
       "      <td>Cody Zeller</td>\n",
       "      <td>2018-19</td>\n",
       "      <td>2018</td>\n",
       "      <td>CHO</td>\n",
       "      <td>49</td>\n",
       "      <td>47</td>\n",
       "      <td>25.4</td>\n",
       "      <td>...</td>\n",
       "      <td>0.570</td>\n",
       "      <td>0.787</td>\n",
       "      <td>6.8</td>\n",
       "      <td>2.1</td>\n",
       "      <td>0.8</td>\n",
       "      <td>0.8</td>\n",
       "      <td>1.3</td>\n",
       "      <td>3.3</td>\n",
       "      <td>10.1</td>\n",
       "      <td>0.000</td>\n",
       "    </tr>\n",
       "    <tr>\n",
       "      <th>15334</th>\n",
       "      <td>15334</td>\n",
       "      <td>2810</td>\n",
       "      <td>7</td>\n",
       "      <td>Tyler Zeller</td>\n",
       "      <td>2018-19</td>\n",
       "      <td>2018</td>\n",
       "      <td>TOT</td>\n",
       "      <td>6</td>\n",
       "      <td>1</td>\n",
       "      <td>15.5</td>\n",
       "      <td>...</td>\n",
       "      <td>0.552</td>\n",
       "      <td>0.778</td>\n",
       "      <td>4.0</td>\n",
       "      <td>0.7</td>\n",
       "      <td>0.2</td>\n",
       "      <td>0.5</td>\n",
       "      <td>0.7</td>\n",
       "      <td>3.3</td>\n",
       "      <td>7.7</td>\n",
       "      <td>0.000</td>\n",
       "    </tr>\n",
       "    <tr>\n",
       "      <th>15350</th>\n",
       "      <td>15350</td>\n",
       "      <td>2818</td>\n",
       "      <td>2</td>\n",
       "      <td>Ante Zizic</td>\n",
       "      <td>2018-19</td>\n",
       "      <td>2018</td>\n",
       "      <td>CLE</td>\n",
       "      <td>59</td>\n",
       "      <td>25</td>\n",
       "      <td>18.3</td>\n",
       "      <td>...</td>\n",
       "      <td>0.553</td>\n",
       "      <td>0.705</td>\n",
       "      <td>5.4</td>\n",
       "      <td>0.9</td>\n",
       "      <td>0.2</td>\n",
       "      <td>0.4</td>\n",
       "      <td>1.0</td>\n",
       "      <td>1.9</td>\n",
       "      <td>7.8</td>\n",
       "      <td>0.000</td>\n",
       "    </tr>\n",
       "    <tr>\n",
       "      <th>15354</th>\n",
       "      <td>15354</td>\n",
       "      <td>2820</td>\n",
       "      <td>3</td>\n",
       "      <td>Ivica Zubac</td>\n",
       "      <td>2018-19</td>\n",
       "      <td>2018</td>\n",
       "      <td>TOT</td>\n",
       "      <td>59</td>\n",
       "      <td>37</td>\n",
       "      <td>17.6</td>\n",
       "      <td>...</td>\n",
       "      <td>0.559</td>\n",
       "      <td>0.802</td>\n",
       "      <td>6.1</td>\n",
       "      <td>1.1</td>\n",
       "      <td>0.2</td>\n",
       "      <td>0.9</td>\n",
       "      <td>1.2</td>\n",
       "      <td>2.3</td>\n",
       "      <td>8.9</td>\n",
       "      <td>0.000</td>\n",
       "    </tr>\n",
       "  </tbody>\n",
       "</table>\n",
       "<p>530 rows × 22 columns</p>\n",
       "</div>"
      ],
      "text/plain": [
       "       season_id  player_id  player_season        player   season  \\\n",
       "34            34          5              2  Alex Abrines  2018-19   \n",
       "49            49          8              7    Quincy Acy  2018-19   \n",
       "70            52         10              1  Jaylen Adams  2018-19   \n",
       "71            71         13              6  Steven Adams  2018-19   \n",
       "79            79         15              2   Bam Adebayo  2018-19   \n",
       "...          ...        ...            ...           ...      ...   \n",
       "15319      15319       2806              1    Trae Young  2018-19   \n",
       "15333      15326       2808              6   Cody Zeller  2018-19   \n",
       "15334      15334       2810              7  Tyler Zeller  2018-19   \n",
       "15350      15350       2818              2    Ante Zizic  2018-19   \n",
       "15354      15354       2820              3   Ivica Zubac  2018-19   \n",
       "\n",
       "       season_start team  games  gamesstarted    mp  ...  2p_perc  ft_perc  \\\n",
       "34             2018  OKC     31             2  19.0  ...    0.500    0.923   \n",
       "49             2018  PHO     10             0  12.3  ...    0.667    0.700   \n",
       "70             2018  ATL     34             1  12.6  ...    0.361    0.778   \n",
       "71             2018  OKC     80            80  33.4  ...    0.596    0.500   \n",
       "79             2018  MIA     82            28  23.3  ...    0.588    0.735   \n",
       "...             ...  ...    ...           ...   ...  ...      ...      ...   \n",
       "15319          2018  ATL     81            81  30.9  ...    0.477    0.829   \n",
       "15333          2018  CHO     49            47  25.4  ...    0.570    0.787   \n",
       "15334          2018  TOT      6             1  15.5  ...    0.552    0.778   \n",
       "15350          2018  CLE     59            25  18.3  ...    0.553    0.705   \n",
       "15354          2018  TOT     59            37  17.6  ...    0.559    0.802   \n",
       "\n",
       "       trb  ast  stl  blk  tov   pf   pts  prob_all_nba  \n",
       "34     1.5  0.6  0.5  0.2  0.5  1.7   5.3         0.000  \n",
       "49     2.5  0.8  0.1  0.4  0.4  2.4   1.7         0.000  \n",
       "70     1.8  1.9  0.4  0.1  0.8  1.3   3.2         0.000  \n",
       "71     9.5  1.6  1.5  1.0  1.7  2.6  13.9         0.018  \n",
       "79     7.3  2.2  0.9  0.8  1.5  2.5   8.9         0.000  \n",
       "...    ...  ...  ...  ...  ...  ...   ...           ...  \n",
       "15319  3.7  8.1  0.9  0.2  3.8  1.7  19.1         0.239  \n",
       "15333  6.8  2.1  0.8  0.8  1.3  3.3  10.1         0.000  \n",
       "15334  4.0  0.7  0.2  0.5  0.7  3.3   7.7         0.000  \n",
       "15350  5.4  0.9  0.2  0.4  1.0  1.9   7.8         0.000  \n",
       "15354  6.1  1.1  0.2  0.9  1.2  2.3   8.9         0.000  \n",
       "\n",
       "[530 rows x 22 columns]"
      ]
     },
     "execution_count": 57,
     "metadata": {},
     "output_type": "execute_result"
    }
   ],
   "source": [
    "nba_player_probs = all_nba_2018_df.copy(deep = True).loc[:,:'pts']\n",
    "nba_player_probs['prob_all_nba'] = logreg_best_estimator.predict_proba(X_test_val)[:,1].round(3)\n",
    "nba_player_probs"
   ]
  },
  {
   "cell_type": "markdown",
   "id": "7cac3d50",
   "metadata": {
    "id": "c1e5edbf-faee-4773-a114-eed5eab89242"
   },
   "source": [
    "2.14. Sort the dataset by probabilities and show the 15 players with higher probability to have been selected"
   ]
  },
  {
   "cell_type": "code",
   "execution_count": 58,
   "id": "d40d150d",
   "metadata": {
    "id": "42562785-2d0d-4e11-a31f-3eca3f78c818",
    "vscode": {
     "languageId": "python"
    }
   },
   "outputs": [
    {
     "data": {
      "text/html": [
       "<div>\n",
       "<style scoped>\n",
       "    .dataframe tbody tr th:only-of-type {\n",
       "        vertical-align: middle;\n",
       "    }\n",
       "\n",
       "    .dataframe tbody tr th {\n",
       "        vertical-align: top;\n",
       "    }\n",
       "\n",
       "    .dataframe thead th {\n",
       "        text-align: right;\n",
       "    }\n",
       "</style>\n",
       "<table border=\"1\" class=\"dataframe\">\n",
       "  <thead>\n",
       "    <tr style=\"text-align: right;\">\n",
       "      <th></th>\n",
       "      <th>player_id</th>\n",
       "      <th>player</th>\n",
       "      <th>prob_all_nba</th>\n",
       "    </tr>\n",
       "  </thead>\n",
       "  <tbody>\n",
       "    <tr>\n",
       "      <th>453</th>\n",
       "      <td>83</td>\n",
       "      <td>Giannis Antetokounmpo</td>\n",
       "      <td>1.000</td>\n",
       "    </tr>\n",
       "    <tr>\n",
       "      <th>5604</th>\n",
       "      <td>1024</td>\n",
       "      <td>James Harden</td>\n",
       "      <td>1.000</td>\n",
       "    </tr>\n",
       "    <tr>\n",
       "      <th>6857</th>\n",
       "      <td>1240</td>\n",
       "      <td>LeBron James</td>\n",
       "      <td>0.999</td>\n",
       "    </tr>\n",
       "    <tr>\n",
       "      <th>3401</th>\n",
       "      <td>587</td>\n",
       "      <td>Anthony Davis</td>\n",
       "      <td>0.998</td>\n",
       "    </tr>\n",
       "    <tr>\n",
       "      <th>4145</th>\n",
       "      <td>740</td>\n",
       "      <td>Joel Embiid</td>\n",
       "      <td>0.988</td>\n",
       "    </tr>\n",
       "    <tr>\n",
       "      <th>14027</th>\n",
       "      <td>2572</td>\n",
       "      <td>Nikola Vucevic</td>\n",
       "      <td>0.979</td>\n",
       "    </tr>\n",
       "    <tr>\n",
       "      <th>14479</th>\n",
       "      <td>2648</td>\n",
       "      <td>Russell Westbrook</td>\n",
       "      <td>0.969</td>\n",
       "    </tr>\n",
       "    <tr>\n",
       "      <th>13673</th>\n",
       "      <td>2501</td>\n",
       "      <td>Karl-Anthony Towns</td>\n",
       "      <td>0.959</td>\n",
       "    </tr>\n",
       "    <tr>\n",
       "      <th>8103</th>\n",
       "      <td>1492</td>\n",
       "      <td>Kawhi Leonard</td>\n",
       "      <td>0.946</td>\n",
       "    </tr>\n",
       "    <tr>\n",
       "      <th>7225</th>\n",
       "      <td>1315</td>\n",
       "      <td>Nikola Jokic</td>\n",
       "      <td>0.943</td>\n",
       "    </tr>\n",
       "    <tr>\n",
       "      <th>3908</th>\n",
       "      <td>695</td>\n",
       "      <td>Kevin Durant</td>\n",
       "      <td>0.914</td>\n",
       "    </tr>\n",
       "    <tr>\n",
       "      <th>14132</th>\n",
       "      <td>2585</td>\n",
       "      <td>Kemba Walker</td>\n",
       "      <td>0.910</td>\n",
       "    </tr>\n",
       "    <tr>\n",
       "      <th>5016</th>\n",
       "      <td>909</td>\n",
       "      <td>Rudy Gobert</td>\n",
       "      <td>0.887</td>\n",
       "    </tr>\n",
       "    <tr>\n",
       "      <th>4895</th>\n",
       "      <td>884</td>\n",
       "      <td>Paul George</td>\n",
       "      <td>0.877</td>\n",
       "    </tr>\n",
       "    <tr>\n",
       "      <th>6634</th>\n",
       "      <td>1204</td>\n",
       "      <td>Kyrie Irving</td>\n",
       "      <td>0.828</td>\n",
       "    </tr>\n",
       "  </tbody>\n",
       "</table>\n",
       "</div>"
      ],
      "text/plain": [
       "       player_id                 player  prob_all_nba\n",
       "453           83  Giannis Antetokounmpo         1.000\n",
       "5604        1024           James Harden         1.000\n",
       "6857        1240           LeBron James         0.999\n",
       "3401         587          Anthony Davis         0.998\n",
       "4145         740            Joel Embiid         0.988\n",
       "14027       2572         Nikola Vucevic         0.979\n",
       "14479       2648      Russell Westbrook         0.969\n",
       "13673       2501     Karl-Anthony Towns         0.959\n",
       "8103        1492          Kawhi Leonard         0.946\n",
       "7225        1315           Nikola Jokic         0.943\n",
       "3908         695           Kevin Durant         0.914\n",
       "14132       2585           Kemba Walker         0.910\n",
       "5016         909            Rudy Gobert         0.887\n",
       "4895         884            Paul George         0.877\n",
       "6634        1204           Kyrie Irving         0.828"
      ]
     },
     "execution_count": 58,
     "metadata": {},
     "output_type": "execute_result"
    }
   ],
   "source": [
    "nba_player_probs.nlargest(n = 15, columns=['prob_all_nba'])[['player_id','player','prob_all_nba']]"
   ]
  },
  {
   "cell_type": "markdown",
   "id": "771acf98",
   "metadata": {
    "id": "1c27683b-0256-40c5-929c-d5ed6cdf6d1f"
   },
   "source": [
    "2.15. Print:\n",
    "\n",
    "    - Players actually selected from the all_nba_2018_selections dataset,\n",
    "    - Players actually selected missing from OUR predictions+\n",
    "    - Players in our predictions not selected "
   ]
  },
  {
   "cell_type": "code",
   "execution_count": 59,
   "id": "c9202ffc",
   "metadata": {
    "id": "fdbcdcac-43bd-4936-8312-456b3b0bd842",
    "vscode": {
     "languageId": "python"
    }
   },
   "outputs": [
    {
     "name": "stdout",
     "output_type": "stream",
     "text": [
      ">Actually selected<\n",
      " 453      Giannis Antetokounmpo\n",
      "3168             Stephen Curry\n",
      "3908              Kevin Durant\n",
      "4145               Joel Embiid\n",
      "4895               Paul George\n",
      "5016               Rudy Gobert\n",
      "5399             Blake Griffin\n",
      "5604              James Harden\n",
      "6634              Kyrie Irving\n",
      "6857              LeBron James\n",
      "7225              Nikola Jokic\n",
      "8103             Kawhi Leonard\n",
      "8206            Damian Lillard\n",
      "14132             Kemba Walker\n",
      "14479        Russell Westbrook\n",
      "Name: player, dtype: object\n"
     ]
    }
   ],
   "source": [
    "player_selected_2018  = all_nba_2018_selections[all_nba_2018_selections.all_nba == 1].player\n",
    "print('>Actually selected<\\n',player_selected_2018)"
   ]
  },
  {
   "cell_type": "code",
   "execution_count": 60,
   "id": "33afa74b",
   "metadata": {
    "vscode": {
     "languageId": "python"
    }
   },
   "outputs": [
    {
     "name": "stdout",
     "output_type": "stream",
     "text": [
      ">Prediction selected<\n",
      " 453      Giannis Antetokounmpo\n",
      "3168             Stephen Curry\n",
      "3908              Kevin Durant\n",
      "4145               Joel Embiid\n",
      "4895               Paul George\n",
      "5016               Rudy Gobert\n",
      "5399             Blake Griffin\n",
      "5604              James Harden\n",
      "6634              Kyrie Irving\n",
      "6857              LeBron James\n",
      "7225              Nikola Jokic\n",
      "8103             Kawhi Leonard\n",
      "8206            Damian Lillard\n",
      "14132             Kemba Walker\n",
      "14479        Russell Westbrook\n",
      "Name: player, dtype: object\n"
     ]
    }
   ],
   "source": [
    "player_pred_2018 = all_nba_2018_selections[all_nba_2018_selections.all_nba == 1].player\n",
    "print('>Prediction selected<\\n',player_pred_2018)"
   ]
  },
  {
   "cell_type": "code",
   "execution_count": 61,
   "id": "2d9dcc37",
   "metadata": {
    "vscode": {
     "languageId": "python"
    }
   },
   "outputs": [
    {
     "name": "stdout",
     "output_type": "stream",
     "text": [
      "Players predicted that were not selected:  []\n"
     ]
    }
   ],
   "source": [
    "print('Players predicted that were not selected: ', list(set(player_pred_2018).difference(player_selected_2018)))"
   ]
  },
  {
   "cell_type": "markdown",
   "id": "989d45fa",
   "metadata": {
    "id": "66b994d0-d37a-43c2-a38f-ea5e86afa512"
   },
   "source": [
    "2.16. Create a class named AllNbaSingleSeasonClassifier that takes a scikit learn model in the constructor, then implements a predict method that returns predictions with only the 15 most probable selections."
   ]
  },
  {
   "cell_type": "code",
   "execution_count": 62,
   "id": "7590a264",
   "metadata": {
    "id": "5fc85317-ffc5-45e9-8740-3703b5d1aa86",
    "vscode": {
     "languageId": "python"
    }
   },
   "outputs": [],
   "source": [
    "class AllNbaSingleSeasonClassifier():\n",
    "    \n",
    "  def __init__(self, model):\n",
    "    \"\"\"\n",
    "    Class constructor\n",
    "    \n",
    "    Parameters\n",
    "    ----------\n",
    "    model: BaseEstimator\n",
    "      a Scikit learn estimator\n",
    "    \"\"\"\n",
    "    self._model = model\n",
    "      \n",
    "  def predict(self, X):\n",
    "    \"\"\"\n",
    "    Predicts all nba selections. This classifier will limit the number\n",
    "    of positive instances to 15\n",
    "    \n",
    "    Parameters\n",
    "    ----------\n",
    "    X: pd.DataFrame\n",
    "      a dataframe with the players data\n",
    "        \n",
    "    Returns\n",
    "    -------\n",
    "    np.ndarray\n",
    "      An array of the same length as y, with 15 true results based on the players with most probabilities of\n",
    "      beign selected\n",
    "    \"\"\"\n",
    "    X = X.copy()\n",
    "    xx_test = rob_scaler_val.fit_transform(X) \n",
    "    X['probs'] = self._model.predict_proba(xx_test)[:,1].round(3)\n",
    "    return X.nlargest(n = 15,  columns = ['probs'])['probs']"
   ]
  },
  {
   "cell_type": "markdown",
   "id": "c1369d74",
   "metadata": {
    "id": "0d83848f-8132-4205-bc18-88b8a5f07555"
   },
   "source": [
    "2.17. Use the new classifier to make predictions and evaluate the result with precision, recall and f1"
   ]
  },
  {
   "cell_type": "code",
   "execution_count": 63,
   "id": "f0b29a92",
   "metadata": {
    "id": "ac440daa-8a05-4a90-8729-a48af57092bb",
    "vscode": {
     "languageId": "python"
    }
   },
   "outputs": [
    {
     "data": {
      "text/plain": [
       "453      1.000\n",
       "5604     1.000\n",
       "6857     0.999\n",
       "3401     0.998\n",
       "4145     0.988\n",
       "14027    0.979\n",
       "14479    0.969\n",
       "13673    0.959\n",
       "8103     0.946\n",
       "7225     0.943\n",
       "3908     0.914\n",
       "14132    0.910\n",
       "5016     0.887\n",
       "4895     0.877\n",
       "6634     0.828\n",
       "Name: probs, dtype: float64"
      ]
     },
     "execution_count": 63,
     "metadata": {},
     "output_type": "execute_result"
    }
   ],
   "source": [
    "custom_cls = AllNbaSingleSeasonClassifier(logreg_best_estimator)\n",
    "custom_cls.predict(all_nba_2018_df_encoded)"
   ]
  },
  {
   "cell_type": "markdown",
   "id": "3833abb8",
   "metadata": {
    "id": "1dd382f9-9640-47ce-a077-41c8baeb2d9f",
    "tags": []
   },
   "source": [
    "#### Analyzing our results"
   ]
  },
  {
   "cell_type": "markdown",
   "id": "90e885a4",
   "metadata": {
    "id": "f4eb9454-b0d5-40f0-8cb3-0af1ce8ade34"
   },
   "source": [
    "2.18. What do you think it is the main problem with this dataset and the way we trained our model?"
   ]
  },
  {
   "cell_type": "markdown",
   "id": "73cef82b",
   "metadata": {
    "id": "4bbefca3-c863-4cf6-a3a3-5168ef05e43f"
   },
   "source": [
    "> _The main problem is that the classes in the dataset are imbalaced, so our model will be \"biased\" towards the majority class_"
   ]
  },
  {
   "cell_type": "markdown",
   "id": "da84b65e",
   "metadata": {
    "id": "e81ac1ea-75ab-4fee-8148-20a4ea663791"
   },
   "source": [
    "2.19. What do you think we could do to improve our model?"
   ]
  },
  {
   "cell_type": "markdown",
   "id": "d4115ff3",
   "metadata": {
    "id": "b8f31b42-26bd-4ce4-a42d-1ceb75ba90b6"
   },
   "source": [
    "> _We should try to correct for the imbalance, with a sampling technique._"
   ]
  },
  {
   "cell_type": "markdown",
   "id": "50d4e002",
   "metadata": {
    "id": "0557c3f5-0e87-4a33-a1dc-fc20dd7d8fd7"
   },
   "source": [
    "### Optional: Oversampling"
   ]
  },
  {
   "cell_type": "markdown",
   "id": "041b7572",
   "metadata": {
    "id": "0089fbf9-0625-4446-bf45-d00da9063b14"
   },
   "source": [
    "2.19. Read about oversampling techniques, for example [SMOTE](https://imbalanced-learn.org/stable/references/generated/imblearn.over_sampling.SMOTE.html). Use this strategy to create synthetic data and retrain our model. Compare the results. "
   ]
  },
  {
   "cell_type": "code",
   "execution_count": 64,
   "id": "51df1d17",
   "metadata": {
    "vscode": {
     "languageId": "python"
    }
   },
   "outputs": [
    {
     "name": "stdout",
     "output_type": "stream",
     "text": [
      "Requirement already satisfied: sklearn in d:\\programfiles\\anaconda3\\lib\\site-packages (0.0)\n",
      "Requirement already satisfied: scikit-learn in d:\\programfiles\\anaconda3\\lib\\site-packages (from sklearn) (1.1.2)\n",
      "Requirement already satisfied: scipy>=1.3.2 in d:\\programfiles\\anaconda3\\lib\\site-packages (from scikit-learn->sklearn) (1.7.3)\n",
      "Requirement already satisfied: threadpoolctl>=2.0.0 in d:\\programfiles\\anaconda3\\lib\\site-packages (from scikit-learn->sklearn) (2.2.0)\n",
      "Requirement already satisfied: numpy>=1.17.3 in d:\\programfiles\\anaconda3\\lib\\site-packages (from scikit-learn->sklearn) (1.21.5)\n",
      "Requirement already satisfied: joblib>=1.0.0 in d:\\programfiles\\anaconda3\\lib\\site-packages (from scikit-learn->sklearn) (1.1.0)\n",
      "Requirement already satisfied: imbalanced-learn in d:\\programfiles\\anaconda3\\lib\\site-packages (0.9.1)\n",
      "Requirement already satisfied: joblib>=1.0.0 in d:\\programfiles\\anaconda3\\lib\\site-packages (from imbalanced-learn) (1.1.0)\n",
      "Requirement already satisfied: threadpoolctl>=2.0.0 in d:\\programfiles\\anaconda3\\lib\\site-packages (from imbalanced-learn) (2.2.0)\n",
      "Requirement already satisfied: numpy>=1.17.3 in d:\\programfiles\\anaconda3\\lib\\site-packages (from imbalanced-learn) (1.21.5)\n",
      "Requirement already satisfied: scikit-learn>=1.1.0 in d:\\programfiles\\anaconda3\\lib\\site-packages (from imbalanced-learn) (1.1.2)\n",
      "Requirement already satisfied: scipy>=1.3.2 in d:\\programfiles\\anaconda3\\lib\\site-packages (from imbalanced-learn) (1.7.3)\n"
     ]
    }
   ],
   "source": [
    "# we need to update the packages to make sure we don't have versin conflicts\n",
    "!pip install -U sklearn \n",
    "!pip install -U imbalanced-learn --user"
   ]
  },
  {
   "cell_type": "code",
   "execution_count": 65,
   "id": "a507a2ec",
   "metadata": {
    "vscode": {
     "languageId": "python"
    }
   },
   "outputs": [],
   "source": [
    "from imblearn.over_sampling import SMOTE"
   ]
  },
  {
   "cell_type": "code",
   "execution_count": 66,
   "id": "3db0939f",
   "metadata": {
    "vscode": {
     "languageId": "python"
    }
   },
   "outputs": [
    {
     "name": "stdout",
     "output_type": "stream",
     "text": [
      "Lenght before sampling: 14825\n",
      "Lenght after sampling: 28658\n",
      "\n",
      "Zeros vs Non Zeros (before sampling): 0.967 vs 0.033\n",
      "Zeros vs Non Zeros (after sampling): 0.500 vs 0.500\n"
     ]
    }
   ],
   "source": [
    "sm = SMOTE(random_state = 42)\n",
    "\n",
    "# Oversampling\n",
    "X_smote, y_smote = sm.fit_resample(X_onehot,y_onehot)\n",
    "print(f'Lenght before sampling: {len(X_onehot)}')\n",
    "print(f'Lenght after sampling: {len(X_smote)}')\n",
    "\n",
    "print(f'\\nZeros vs Non Zeros (before sampling): {(len(y_onehot) - y_onehot.sum())/len(y_onehot):.3f} vs {y_onehot.sum()/len(y_onehot):.3f}')\n",
    "print(f'Zeros vs Non Zeros (after sampling): {(len(y_smote) - y_smote.sum())/len(y_smote):.3f} vs {y_smote.sum()/len(y_smote):.3f}')\n",
    "# logreg_best_estimator,logreg_best_params,logreg_best_mae = find_logreg_best(data_onehot,params)"
   ]
  },
  {
   "cell_type": "code",
   "execution_count": 67,
   "id": "fa5e68ae",
   "metadata": {
    "vscode": {
     "languageId": "python"
    }
   },
   "outputs": [],
   "source": [
    "# Train-Test split\n",
    "X_train_smote,X_test_smote, y_train_smote, y_test_smote = train_test_split(X_smote,y_smote, train_size=.9, random_state=42)\n",
    "\n",
    "#Feature scaling\n",
    "rob_scaler_smote = RobustScaler()\n",
    "X_train_smote_scaled = rob_scaler_smote.fit_transform(X_train_smote)\n",
    "X_test_smote_scaled = rob_scaler_smote.fit_transform(X_test_smote)\n",
    "\n",
    "data_smote_scaled = X_train_smote_scaled,X_test_smote_scaled, y_train_smote, y_test_smote\n",
    "\n"
   ]
  },
  {
   "cell_type": "code",
   "execution_count": 68,
   "id": "adbdd01b",
   "metadata": {
    "vscode": {
     "languageId": "python"
    }
   },
   "outputs": [],
   "source": [
    "# Train and test model (Logistic Regressor)\n",
    "best_smote_logreg, best_smote_params, best_smote_mae = find_logreg_best(data_smote_scaled,params_log)"
   ]
  },
  {
   "cell_type": "code",
   "execution_count": 69,
   "id": "2d06885f",
   "metadata": {
    "vscode": {
     "languageId": "python"
    }
   },
   "outputs": [
    {
     "name": "stdout",
     "output_type": "stream",
     "text": [
      "Accuracy: 0.980   ...(vs Non-Smote: 0.987)\n",
      "Precision: 0.979   ...(vs Non-Smote: 0.912)\n",
      "Recall: 0.981   ...(vs Non-Smote: 0.598)\n",
      "F1-score: 0.980   ...(vs Non-Smote: 0.722)\n"
     ]
    },
    {
     "data": {
      "image/png": "[encoded data removed]",
      "text/plain": [
       "<Figure size 1080x576 with 2 Axes>"
      ]
     },
     "metadata": {},
     "output_type": "display_data"
    }
   ],
   "source": [
    "acc_smote,prec_smote,rec_smote,f1_smote = get_metrics(best_smote_logreg, data_smote_scaled)\n",
    "\n",
    "print(f'Accuracy: {acc_smote:.3f}   ...(vs Non-Smote: {acc_log:.3f})')\n",
    "print(f'Precision: {prec_smote:.3f}   ...(vs Non-Smote: {prec_log:.3f})')\n",
    "print(f'Recall: {rec_smote:.3f}   ...(vs Non-Smote: {rec_log:.3f})')\n",
    "print(f'F1-score: {f1_smote:.3f}   ...(vs Non-Smote: {f1_log:.3f})')\n",
    "\n",
    "## Confusion matrix\n",
    "sns.set_style('white')\n",
    "display_confusion_matrix(best_smote_logreg,data_smote_scaled)\n",
    "sns.set_style('darkgrid')"
   ]
  },
  {
   "cell_type": "markdown",
   "id": "8f9a9c65",
   "metadata": {
    "id": "8b1ee0ca-0d33-490c-9725-638fbd001f02"
   },
   "source": [
    "## 3. Optional: Developing a Linear Regressor class from scratch"
   ]
  },
  {
   "cell_type": "markdown",
   "id": "f304c7e5",
   "metadata": {
    "id": "aa6d261c-5372-447d-afdf-820aaf3fef26"
   },
   "source": [
    "Our last task will be to code a Linear Regression algorithm using Gradient Descent as its optimization algorithm in Python. The structure of the class is presented below, you should use numpy for numerical computation."
   ]
  },
  {
   "cell_type": "markdown",
   "id": "886ca9eb",
   "metadata": {
    "id": "8aebe22f-3a17-4404-a12f-918da6a26237"
   },
   "source": [
    "3.1. Write a LinearRegression class that implements fit and predict methods, and uses gradient descent as optimization algorithm"
   ]
  },
  {
   "cell_type": "code",
   "execution_count": 70,
   "id": "085b6051",
   "metadata": {
    "id": "b4326a55-6896-466d-9d60-3b2667e20de6",
    "vscode": {
     "languageId": "python"
    }
   },
   "outputs": [],
   "source": [
    "  \n",
    "class LinearRegressor:\n",
    "    \"\"\"Linear regression algorithm class. Implements gradient descent as optimization algorithm\"\"\"\n",
    "\n",
    "    def __init__(self, epochs: int, learning_rate: float):\n",
    "        \"\"\"\n",
    "        Class constructor\n",
    "\n",
    "        Parameters\n",
    "        ----------\n",
    "        epochs: int\n",
    "          number of epochs to run gradient descent\n",
    "        learning_rate: float\n",
    "          rate of update of the gradients\n",
    "        \"\"\"\n",
    "        self.epochs = epochs\n",
    "        self.learning_rate = learning_rate\n",
    "        \n",
    "\n",
    "\n",
    "    def _gradient_descent(self,X,y):\n",
    "        \"\"\"\n",
    "        Gradient descent algorithm\n",
    "        \"\"\"\n",
    "        # Dimesions\n",
    "        m = X.shape[0]                                        # 429\n",
    "        d = X.shape[1]                                        # 1\n",
    "        \n",
    "        # Update w:= w - alpha*grad    \n",
    "        y_pred = X @ self.weights\n",
    "        grad = 2/m * X.T@(y_pred - y)\n",
    "        self.weights = self.weights - self.learning_rate * np.sum(grad,axis = 1).reshape(d,1)\n",
    "\n",
    "\n",
    "    def fit(self, X, y):\n",
    "        \"\"\"\n",
    "        Fit the model according to the given training data.\n",
    "\n",
    "        Parameters\n",
    "        ----------\n",
    "        X: np.ndarray\n",
    "        y: np.ndarray\n",
    "        \"\"\"\n",
    "                \n",
    "        # Initializations\n",
    "        m = X.shape[0]                                        # 429 .. datapoints\n",
    "        X = np.concatenate([np.ones((m,1)),X], axis = 1)      # Adding a 1's column to take w0 into account\n",
    "        d = X.shape[1]                                        # 2 since [w0,w1]\n",
    "                \n",
    "        self.weights = np.random.rand(d,1)                    # [w0,w1,w2,...w(m)](j)\n",
    "        y = y.values.reshape(-1,1)\n",
    "\n",
    "        for _ in range(self.epochs):\n",
    "            self._gradient_descent(X,y)\n",
    "       \n",
    "    def predict(self, X):\n",
    "        \"\"\"\n",
    "        Predict\n",
    "\n",
    "        Parameters\n",
    "        ----------\n",
    "        X: np.ndarray\n",
    "\n",
    "        Returns\n",
    "        -------\n",
    "        np.ndarray\n",
    "          array with predictions\n",
    "        \"\"\"\n",
    "        \n",
    "        return X @ self.weights[:1] + self.weights[0]"
   ]
  },
  {
   "cell_type": "markdown",
   "id": "f00fd9db",
   "metadata": {
    "id": "ac25e809-7bdf-4dfa-896a-bc4cb8964f94"
   },
   "source": [
    "3.2. Train a regression model with the data from the first section to calculate players salaries using points per game. Try with a few different values (3 or 4 for each should suffice) for epochs and learning rate parameters, calculate MAE for all results and save the best result along with the parameters values used."
   ]
  },
  {
   "cell_type": "code",
   "execution_count": 71,
   "id": "58a2b751",
   "metadata": {
    "id": "de1c2fe9-e67a-4399-95a1-81cbed3ada45",
    "vscode": {
     "languageId": "python"
    }
   },
   "outputs": [
    {
     "name": "stdout",
     "output_type": "stream",
     "text": [
      "Best params: {'learning_rate': 0.0001, 'epochs': 3400}\n",
      "Weights: [w0,w1]=[4230930. 3645741.]\n"
     ]
    },
    {
     "data": {
      "image/png": "[encoded data removed]",
      "text/plain": [
       "<Figure size 1080x576 with 1 Axes>"
      ]
     },
     "metadata": {},
     "output_type": "display_data"
    }
   ],
   "source": [
    "## --> we'll use the same data as before\n",
    "data_linear = X_train_single_scaled,X_test_single_scaled,y_train_single,y_test_single\n",
    "# Linear Regressor\n",
    "hyperparams = {'learning_rate': [10**(-k) for k in range(4,10)], 'epochs':[100*i for i in range(10,35)]}\n",
    "\n",
    "lr = LinearRegressor\n",
    "best_lr,best_lr_params, best_lr_mae = search_best_hyperparameters(data_linear,lr,hyperparams,MAE)\n",
    "\n",
    "print(f'Best params: {best_lr_params}')\n",
    "print(f'Weights: [w0,w1]={np.round(best_lr.weights.ravel())}')\n",
    "\n",
    "\n",
    "plot_regressor(data_linear[0],data_linear[2],best_lr.weights.ravel())"
   ]
  },
  {
   "cell_type": "markdown",
   "id": "ec65d9c7",
   "metadata": {
    "id": "ea78cfff-1216-486f-bd1e-7e42127c029d"
   },
   "source": [
    "3.3. Evaluate the model performance on the test set, and compare with the result you obtained using SGDRegressor from scikit-learn."
   ]
  },
  {
   "cell_type": "code",
   "execution_count": 72,
   "id": "1046dce3",
   "metadata": {
    "vscode": {
     "languageId": "python"
    }
   },
   "outputs": [
    {
     "name": "stdout",
     "output_type": "stream",
     "text": [
      ">> MAE(LinearRegressor): 5249739    ... (vs SGD: 4576212)\n"
     ]
    }
   ],
   "source": [
    " print(f'>> MAE(LinearRegressor): {best_lr_mae:.0f}    ... (vs SGD: {best_mae_single:.0f})')"
   ]
  }
 ],
 "metadata": {
  "colab": {
   "collapsed_sections": [],
   "provenance": [
    {
     "file_id": "1QLW_SFHfF7Vwrg5rpfSBDfpvTyxN346V",
     "timestamp": 1663854931290
    }
   ]
  },
  "kernelspec": {
   "display_name": "sprint2",
   "language": "python",
   "name": "sprint2"
  }
 },
 "nbformat": 4,
 "nbformat_minor": 5
}
